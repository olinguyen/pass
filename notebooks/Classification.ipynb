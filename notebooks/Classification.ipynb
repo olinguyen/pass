{
 "cells": [
  {
   "cell_type": "code",
   "execution_count": 29,
   "metadata": {
    "collapsed": false
   },
   "outputs": [],
   "source": [
    "from feature_extraction.features import *\n",
    "from feature_extraction.transformers import *\n",
    "from pipelines.models import *\n",
    "from sklearn.model_selection import cross_val_score, GridSearchCV\n",
    "from sklearn.naive_bayes import GaussianNB\n",
    "from sklearn.preprocessing import StandardScaler, Normalizer\n",
    "from sklearn.svm import LinearSVC, SVC\n",
    "\n",
    "import dill\n",
    "import pandas as pd\n",
    "import numpy as np\n",
    "import os\n",
    "import time\n",
    "\n",
    "%reload_ext autoreload"
   ]
  },
  {
   "cell_type": "code",
   "execution_count": 2,
   "metadata": {
    "collapsed": false
   },
   "outputs": [
    {
     "name": "stdout",
     "output_type": "stream",
     "text": [
      "Cleaned data in 1.12\n",
      "[Sedentary Behavior] True labels: 215/2513 (8.556%)\n"
     ]
    }
   ],
   "source": [
    "ts_load_data = time.time()\n",
    "\n",
    "cleaner = TextCleanExtractor()\n",
    "sb_tweets_df = pd.read_csv('data/sedentary_labeled_april.csv')\n",
    "sb_tweets_df = sb_tweets_df.loc[:, ['text', 'hashtags', 'placename', 'first_person_sedentary_behavior']]\n",
    "sb_tweets_df['clean_text'] = cleaner.transform(sb_tweets_df.text)\n",
    "\n",
    "te_load_data = time.time()\n",
    "\n",
    "print(\"Cleaned data in %.2f\" % (te_load_data - ts_load_data))\n",
    "\n",
    "n_samples = len(sb_tweets_df)\n",
    "n_positives = sum(sb_tweets_df.first_person_sedentary_behavior == True)\n",
    "print(\"[Sedentary Behavior] True labels: %d/%d (%.3f%%)\" % (n_positives, n_samples, n_positives / n_samples * 100.0))\n",
    "\n",
    "X_sb = sb_tweets_df.clean_text\n",
    "y_sb = sb_tweets_df.first_person_sedentary_behavior\n",
    "\n",
    "ts_load_model = time.time()\n",
    "clf = get_ensemble_model()\n",
    "te_load_model = time.time()\n",
    "\n",
    "print(\"Loaded model in %.2f\" % (te_load_model - ts_load_model))\n",
    "\n",
    "\n",
    "ts_evaluate = time.time()\n",
    "score = cross_val_score(clf, X_sb, y_sb, cv=5, scoring='roc_auc').mean()\n",
    "te_evaluate = time.time()\n",
    "\n",
    "print(\"Evaluated model in %.2f\" % (te_evaluate - ts_evaluate))\n",
    "\n",
    "print(\"Sedentary behavior AUC:\", score)"
   ]
  },
  {
   "cell_type": "code",
   "execution_count": 3,
   "metadata": {
    "collapsed": false
   },
   "outputs": [
    {
     "name": "stdout",
     "output_type": "stream",
     "text": [
      "Found 400000 word vectors.\n",
      "CPU times: user 40.5 s, sys: 3.75 s, total: 44.3 s\n",
      "Wall time: 42.8 s\n"
     ]
    }
   ],
   "source": [
    "%%time\n",
    "\n",
    "feature_extractor = Pipeline([(\"feature_extraction\", get_features()),\n",
    "                              ('feature_selection', SelectFpr(f_classif))])\n",
    "\n",
    "X_feats = feature_extractor.fit_transform(X_sb, y_sb)"
   ]
  },
  {
   "cell_type": "code",
   "execution_count": 261,
   "metadata": {
    "collapsed": false
   },
   "outputs": [
    {
     "ename": "SyntaxError",
     "evalue": "invalid syntax (<unknown>, line 6)",
     "output_type": "error",
     "traceback": [
      "Traceback \u001b[0;36m(most recent call last)\u001b[0m:\n",
      "  File \u001b[1;32m\"/opt/anaconda3/lib/python3.5/site-packages/IPython/core/interactiveshell.py\"\u001b[0m, line \u001b[1;32m2862\u001b[0m, in \u001b[1;35mrun_code\u001b[0m\n    exec(code_obj, self.user_global_ns, self.user_ns)\n",
      "  File \u001b[1;32m\"<ipython-input-261-7528fb452f37>\"\u001b[0m, line \u001b[1;32m1\u001b[0m, in \u001b[1;35m<module>\u001b[0m\n    get_ipython().run_cell_magic('time', '', '\\nparameters = {\"C\" : [0.01, 0.1, 1.0, 10.0, 100.0]}\\nlr = LogisticRegression(penalty=\\'l2\\', solver=\\'lbfgs\\')\\ncv = GridSearchCV(lr, \\n                  param_grid=parameters,\\n                  cv=(n_splits=5, shuffle=True, random_state=42),\\n                  refit=True,\\n                  scoring=\\'roc_auc\\',\\n                  n_jobs=-1)\\n\\ncv.fit(X_feats, y_sb)\\n\\nprint(cv.best_params_, cv.best_score_)')\n",
      "  File \u001b[1;32m\"/opt/anaconda3/lib/python3.5/site-packages/IPython/core/interactiveshell.py\"\u001b[0m, line \u001b[1;32m2103\u001b[0m, in \u001b[1;35mrun_cell_magic\u001b[0m\n    result = fn(magic_arg_s, cell)\n",
      "  File \u001b[1;32m\"<decorator-gen-62>\"\u001b[0m, line \u001b[1;32m2\u001b[0m, in \u001b[1;35mtime\u001b[0m\n",
      "  File \u001b[1;32m\"/opt/anaconda3/lib/python3.5/site-packages/IPython/core/magic.py\"\u001b[0m, line \u001b[1;32m187\u001b[0m, in \u001b[1;35m<lambda>\u001b[0m\n    call = lambda f, *a, **k: f(*a, **k)\n",
      "  File \u001b[1;32m\"/opt/anaconda3/lib/python3.5/site-packages/IPython/core/magics/execution.py\"\u001b[0m, line \u001b[1;32m1179\u001b[0m, in \u001b[1;35mtime\u001b[0m\n    expr_ast = self.shell.compile.ast_parse(expr)\n",
      "\u001b[0;36m  File \u001b[0;32m\"/opt/anaconda3/lib/python3.5/site-packages/IPython/core/compilerop.py\"\u001b[0;36m, line \u001b[0;32m99\u001b[0;36m, in \u001b[0;35mast_parse\u001b[0;36m\u001b[0m\n\u001b[0;31m    return compile(source, filename, symbol, self.flags | PyCF_ONLY_AST, 1)\u001b[0m\n",
      "\u001b[0;36m  File \u001b[0;32m\"<unknown>\"\u001b[0;36m, line \u001b[0;32m6\u001b[0m\n\u001b[0;31m    cv=(n_splits=5, shuffle=True, random_state=42),\u001b[0m\n\u001b[0m                ^\u001b[0m\n\u001b[0;31mSyntaxError\u001b[0m\u001b[0;31m:\u001b[0m invalid syntax\n"
     ]
    }
   ],
   "source": [
    "%%time\n",
    "\n",
    "parameters = {\"C\" : [0.01, 0.1, 1.0, 10.0, 100.0]}\n",
    "lr = LogisticRegression(penalty='l2', solver='lbfgs')\n",
    "cv = GridSearchCV(lr, \n",
    "                  param_grid=parameters,\n",
    "                  cv=StratifiedKFold(n_splits=5, shuffle=True, random_state=42),\n",
    "                  refit=True,\n",
    "                  scoring='roc_auc',\n",
    "                  n_jobs=-1)\n",
    "\n",
    "cv.fit(X_feats, y_sb)\n",
    "\n",
    "print(cv.best_params_, cv.best_score_)"
   ]
  },
  {
   "cell_type": "code",
   "execution_count": 260,
   "metadata": {
    "collapsed": false
   },
   "outputs": [
    {
     "name": "stdout",
     "output_type": "stream",
     "text": [
      "{'max_depth': 10, 'min_samples_split': 5, 'n_estimators': 400} 0.887459047069\n",
      "CPU times: user 19.3 s, sys: 1.51 s, total: 20.8 s\n",
      "Wall time: 3min 27s\n"
     ]
    }
   ],
   "source": [
    "%%time\n",
    "\n",
    "parameters = {\"n_estimators\": [100, 200, 300, 400],\n",
    "              \"min_samples_split\": [5, 10, 15],\n",
    "              \"max_depth\": [7, 8, 9, 10]}\n",
    "\n",
    "rf = RandomForestClassifier(pr)\n",
    "\n",
    "cv = GridSearchCV(rf,\n",
    "                  param_grid=parameters,\n",
    "                  cv=StratifiedKFold(n_splits=5, shuffle=True, random_state=42),\n",
    "                  refit=True,\n",
    "                  scoring='roc_auc',\n",
    "                  n_jobs=-1, )\n",
    "\n",
    "cv.fit(X_feats, y_sb)\n",
    "\n",
    "print(cv.best_params_, cv.best_score_)"
   ]
  },
  {
   "cell_type": "code",
   "execution_count": 265,
   "metadata": {
    "collapsed": false
   },
   "outputs": [
    {
     "name": "stdout",
     "output_type": "stream",
     "text": [
      "{'max_depth': 10, 'min_samples_split': 10, 'n_estimators': 300} 0.891395605412\n",
      "CPU times: user 8.49 s, sys: 976 ms, total: 9.46 s\n",
      "Wall time: 55.6 s\n"
     ]
    }
   ],
   "source": [
    "%%time\n",
    "\n",
    "parameters = {\"n_estimators\": [100, 200, 300, 400],\n",
    "              \"min_samples_split\": [5, 10, 15],\n",
    "              \"max_depth\": [7, 8, 9, 10]}\n",
    "\n",
    "et = ExtraTreesClassifier()\n",
    "\n",
    "cv = GridSearchCV(et,\n",
    "                  param_grid=parameters,\n",
    "                  cv=StratifiedKFold(n_splits=5, shuffle=True, random_state=42),\n",
    "                  refit=True,\n",
    "                  scoring='roc_auc',\n",
    "                  n_jobs=-1)\n",
    "\n",
    "cv.fit(X_feats, y_sb)\n",
    "\n",
    "print(cv.best_params_, cv.best_score_)"
   ]
  },
  {
   "cell_type": "code",
   "execution_count": 27,
   "metadata": {
    "collapsed": false
   },
   "outputs": [
    {
     "name": "stdout",
     "output_type": "stream",
     "text": [
      "{'max_depth': 8, 'n_estimators': 300} 0.900403792413\n",
      "CPU times: user 27 s, sys: 1.97 s, total: 29 s\n",
      "Wall time: 3min 50s\n"
     ]
    }
   ],
   "source": [
    "%%time\n",
    "\n",
    "parameters = {\"n_estimators\": [100, 200, 300, 400],\n",
    "              \"max_depth\": [7, 8, 9, 10]}\n",
    "\n",
    "xgb = XGBClassifier()\n",
    "\n",
    "cv = GridSearchCV(xgb,\n",
    "                  param_grid=parameters,\n",
    "                  cv=(n_splits=5, shuffle=True, random_state=42),\n",
    "                  refit=True,\n",
    "                  scoring='roc_auc',\n",
    "                  n_jobs=-1)\n",
    "\n",
    "cv.fit(X_feats, y_sb)\n",
    "\n",
    "print(cv.best_params_, cv.best_score_)"
   ]
  },
  {
   "cell_type": "code",
   "execution_count": 263,
   "metadata": {
    "collapsed": false
   },
   "outputs": [
    {
     "name": "stdout",
     "output_type": "stream",
     "text": [
      "{'binarize': 0.0, 'alpha': 5.0} 0.936748911366\n",
      "CPU times: user 2.99 s, sys: 507 ms, total: 3.5 s\n",
      "Wall time: 3.62 s\n"
     ]
    }
   ],
   "source": [
    "%%time\n",
    "\n",
    "parameters = {\"alpha\": [0.1, 0.25, 0.5, 0.75, 1.0, 2.0, 5.0, 10.0, 20.0],\n",
    "              \"binarize\": [0.0, 0.25, 0.50, 0.75, 1.0]}\n",
    "\n",
    "bnb = BernoulliNB()\n",
    "\n",
    "cv = GridSearchCV(bnb,\n",
    "                  param_grid=parameters,\n",
    "                  cv=StratifiedKFold(n_splits=5, shuffle=True, random_state=42),\n",
    "                  refit=True,\n",
    "                  scoring='roc_auc',\n",
    "                  n_jobs=-1)\n",
    "\n",
    "cv.fit(X_feats, y_sb)\n",
    "\n",
    "print(cv.best_params_, cv.best_score_)"
   ]
  },
  {
   "cell_type": "code",
   "execution_count": 40,
   "metadata": {
    "collapsed": false
   },
   "outputs": [
    {
     "name": "stdout",
     "output_type": "stream",
     "text": [
      "{'gamma': 0.0001, 'C': 100} 0.856179345821\n",
      "CPU times: user 5.86 s, sys: 886 ms, total: 6.75 s\n",
      "Wall time: 1min 26s\n"
     ]
    }
   ],
   "source": [
    "%%time\n",
    "\n",
    "parameters = {\"C\": [0.01, 0.1, 1, 10, 100, 1000],\n",
    "              \"gamma\": [1e-4, 1e-3, 1e-2, 1e-2]}\n",
    "\n",
    "svc = SVC(kernel='rbf', n)\n",
    "\n",
    "cv = GridSearchCV(svc,\n",
    "                  param_grid=parameters,\n",
    "                  cv=(n_splits=5, shuffle=True, random_state=42),\n",
    "                  refit=True,\n",
    "                  scoring='roc_auc',\n",
    "                  n_jobs=-1)\n",
    "\n",
    "cv.fit(X_feats, y_sb)\n",
    "\n",
    "print(cv.best_params_, cv.best_score_)"
   ]
  },
  {
   "cell_type": "code",
   "execution_count": 2,
   "metadata": {
    "collapsed": false
   },
   "outputs": [
    {
     "name": "stdout",
     "output_type": "stream",
     "text": [
      "[Sleep] True labels: 93/1204 (7.724%)\n",
      "[Sedentary Behavior] True labels: 97/2403 (4.037%)\n",
      "[Physical Activity] True labels: 91/1810 (5.028%)\n"
     ]
    },
    {
     "data": {
      "text/html": [
       "<div>\n",
       "<style>\n",
       "    .dataframe thead tr:only-child th {\n",
       "        text-align: right;\n",
       "    }\n",
       "\n",
       "    .dataframe thead th {\n",
       "        text-align: left;\n",
       "    }\n",
       "\n",
       "    .dataframe tbody tr th {\n",
       "        vertical-align: top;\n",
       "    }\n",
       "</style>\n",
       "<table border=\"1\" class=\"dataframe\">\n",
       "  <thead>\n",
       "    <tr style=\"text-align: right;\">\n",
       "      <th></th>\n",
       "      <th>clean_text</th>\n",
       "      <th>first_person_physical_activity</th>\n",
       "      <th>first_person_sedentary_behavior</th>\n",
       "      <th>first_person_sleep_problem</th>\n",
       "      <th>hashtags</th>\n",
       "      <th>placename</th>\n",
       "      <th>text</th>\n",
       "    </tr>\n",
       "  </thead>\n",
       "  <tbody>\n",
       "    <tr>\n",
       "      <th>0</th>\n",
       "      <td>1 month out from my surgery as of yesterday &amp; ...</td>\n",
       "      <td>1.0</td>\n",
       "      <td>NaN</td>\n",
       "      <td>NaN</td>\n",
       "      <td>NaN</td>\n",
       "      <td>NaN</td>\n",
       "      <td>1 month out from my surgery as of yesterday &amp;a...</td>\n",
       "    </tr>\n",
       "    <tr>\n",
       "      <th>1</th>\n",
       "      <td>morning . here \\ \\ u2019s your windswept skies...</td>\n",
       "      <td>0.0</td>\n",
       "      <td>NaN</td>\n",
       "      <td>NaN</td>\n",
       "      <td>NaN</td>\n",
       "      <td>Toronto, Ontario</td>\n",
       "      <td>Morning. Here\\\\u2019s your windswept skies Tor...</td>\n",
       "    </tr>\n",
       "    <tr>\n",
       "      <th>2</th>\n",
       "      <td>someone talk me out of the barrelman bike / ru...</td>\n",
       "      <td>0.0</td>\n",
       "      <td>NaN</td>\n",
       "      <td>NaN</td>\n",
       "      <td>NaN</td>\n",
       "      <td>Toronto, Ontario</td>\n",
       "      <td>Someone talk me out of the Barrelman Bike/Run ...</td>\n",
       "    </tr>\n",
       "    <tr>\n",
       "      <th>3</th>\n",
       "      <td>successfully surprised bri ( and 10 other danc...</td>\n",
       "      <td>0.0</td>\n",
       "      <td>NaN</td>\n",
       "      <td>NaN</td>\n",
       "      <td>missdancesomuch</td>\n",
       "      <td>Kingston, Ontario</td>\n",
       "      <td>Successfully surprised Bri (and 10 other dance...</td>\n",
       "    </tr>\n",
       "    <tr>\n",
       "      <th>4</th>\n",
       "      <td>a train with no tracks ? the world's first sma...</td>\n",
       "      <td>0.0</td>\n",
       "      <td>NaN</td>\n",
       "      <td>NaN</td>\n",
       "      <td>NaN</td>\n",
       "      <td>Fort Saskatchewan, Alberta</td>\n",
       "      <td>A train with no tracks? The world's first smar...</td>\n",
       "    </tr>\n",
       "  </tbody>\n",
       "</table>\n",
       "</div>"
      ],
      "text/plain": [
       "                                          clean_text  \\\n",
       "0  1 month out from my surgery as of yesterday & ...   \n",
       "1  morning . here \\ \\ u2019s your windswept skies...   \n",
       "2  someone talk me out of the barrelman bike / ru...   \n",
       "3  successfully surprised bri ( and 10 other danc...   \n",
       "4  a train with no tracks ? the world's first sma...   \n",
       "\n",
       "   first_person_physical_activity  first_person_sedentary_behavior  \\\n",
       "0                             1.0                              NaN   \n",
       "1                             0.0                              NaN   \n",
       "2                             0.0                              NaN   \n",
       "3                             0.0                              NaN   \n",
       "4                             0.0                              NaN   \n",
       "\n",
       "   first_person_sleep_problem         hashtags                   placename  \\\n",
       "0                         NaN              NaN                         NaN   \n",
       "1                         NaN              NaN            Toronto, Ontario   \n",
       "2                         NaN              NaN            Toronto, Ontario   \n",
       "3                         NaN  missdancesomuch           Kingston, Ontario   \n",
       "4                         NaN              NaN  Fort Saskatchewan, Alberta   \n",
       "\n",
       "                                                text  \n",
       "0  1 month out from my surgery as of yesterday &a...  \n",
       "1  Morning. Here\\\\u2019s your windswept skies Tor...  \n",
       "2  Someone talk me out of the Barrelman Bike/Run ...  \n",
       "3  Successfully surprised Bri (and 10 other dance...  \n",
       "4  A train with no tracks? The world's first smar...  "
      ]
     },
     "execution_count": 2,
     "metadata": {},
     "output_type": "execute_result"
    }
   ],
   "source": [
    "cleaner = TextCleanExtractor()\n",
    "\n",
    "sleep_tweets_df = pd.read_csv('data/sleep_labeled_dec22.csv')\n",
    "sleep_tweets_df = sleep_tweets_df.loc[:, ['text', 'hashtags', 'placename', 'first_person_sleep_problem']]\n",
    "sleep_tweets_df['clean_text'] = cleaner.transform(sleep_tweets_df.text)\n",
    "n_samples = len(sleep_tweets_df)\n",
    "n_positives = sum(sleep_tweets_df.first_person_sleep_problem == True)\n",
    "print(\"[Sleep] True labels: %d/%d (%.3f%%)\" % (n_positives, n_samples, n_positives / n_samples * 100.0))\n",
    "\n",
    "sb_tweets_df = pd.read_csv('data/sedentary_labeled_jan11.csv')\n",
    "sb_tweets_df = sb_tweets_df.loc[:, ['text', 'hashtags', 'placename', 'first_person_sedentary_behavior']]\n",
    "sb_tweets_df['clean_text'] = cleaner.transform(sb_tweets_df.text)\n",
    "\n",
    "n_samples = len(sb_tweets_df)\n",
    "n_positives = sum(sb_tweets_df.first_person_sedentary_behavior == True)\n",
    "print(\"[Sedentary Behavior] True labels: %d/%d (%.3f%%)\" % (n_positives, n_samples, n_positives / n_samples * 100.0))\n",
    "\n",
    "pa_tweets_df = pd.read_csv('data/pa_labeled_dec22.csv')\n",
    "pa_tweets_df = pa_tweets_df.loc[:, ['text', 'hashtags', 'placename', 'first_person_physical_activity']]\n",
    "pa_tweets_df['clean_text'] = cleaner.transform(pa_tweets_df.text)\n",
    "\n",
    "n_samples = len(pa_tweets_df)\n",
    "n_positives = sum(pa_tweets_df.first_person_physical_activity == True)\n",
    "print(\"[Physical Activity] True labels: %d/%d (%.3f%%)\" % (n_positives, n_samples, n_positives / n_samples * 100.0))\n",
    "pa_tweets_df.head()\n",
    "\n",
    "tweets_df = pd.concat((pa_tweets_df, sleep_tweets_df, sb_tweets_df), ignore_index=True)\n",
    "tweets_df.head()"
   ]
  },
  {
   "cell_type": "code",
   "execution_count": 4,
   "metadata": {
    "collapsed": true
   },
   "outputs": [],
   "source": [
    "X = tweets_df.clean_text\n",
    "y = tweets_df[['first_person_sleep_problem', \n",
    "               'first_person_sedentary_behavior', \n",
    "               'first_person_physical_activity']]\n",
    "\n",
    "X_sleep = sleep_tweets_df.clean_text\n",
    "y_sleep = sleep_tweets_df.first_person_sleep_problem\n",
    "\n",
    "X_sb = sb_tweets_df.clean_text\n",
    "y_sb = sb_tweets_df.first_person_sedentary_behavior\n",
    "\n",
    "X_pa = pa_tweets_df.clean_text\n",
    "y_pa = pa_tweets_df.first_person_physical_activity\n",
    "\n",
    "indicators = [(X_sleep, y_sleep, 'sleep'), \n",
    "              (X_sb, y_sb, 'sedentary_behaviour'),\n",
    "              (X_pa, y_pa, 'physical_activity')]\n",
    "\n",
    "clf = get_ensemble_model()"
   ]
  },
  {
   "cell_type": "code",
   "execution_count": 7,
   "metadata": {
    "collapsed": false
   },
   "outputs": [
    {
     "name": "stdout",
     "output_type": "stream",
     "text": [
      "sleep 0.885564074814\n",
      "sedentary_behaviour 0.528384266721\n",
      "physical_activity 0.817835667519\n"
     ]
    }
   ],
   "source": [
    "%%time\n",
    "for (X, y, name) in indicators:\n",
    "    score = cross_val_score(clf, X, y, cv=5, scoring='roc_auc').mean()\n",
    "    print(name, score)"
   ]
  },
  {
   "cell_type": "code",
   "execution_count": 5,
   "metadata": {
    "collapsed": true
   },
   "outputs": [],
   "source": [
    "indicators = [(X_sb, y_sb, 'sedentary_behaviour')]"
   ]
  },
  {
   "cell_type": "code",
   "execution_count": 16,
   "metadata": {
    "collapsed": false
   },
   "outputs": [
    {
     "name": "stdout",
     "output_type": "stream",
     "text": [
      "Found 400000 word vectors.\n",
      "...wrote to ./model/sedentary_behaviour_ensemble.pkl\n",
      "CPU times: user 2min 27s, sys: 17 s, total: 2min 44s\n",
      "Wall time: 2min 43s\n"
     ]
    }
   ],
   "source": [
    "%%time\n",
    "for (X, y, name) in indicators:\n",
    "    clf = get_ensemble_model()\n",
    "    clf.fit(X, y)\n",
    "    filename = name + '_ensemble.pkl'\n",
    "    path = os.path.join('./model', filename)\n",
    "    dill.dump(clf, open(path, 'wb'))\n",
    "    print(\"...wrote to\", path)"
   ]
  }
 ],
 "metadata": {
  "anaconda-cloud": {},
  "kernelspec": {
   "display_name": "Python [conda root]",
   "language": "python",
   "name": "conda-root-py"
  },
  "language_info": {
   "codemirror_mode": {
    "name": "ipython",
    "version": 3
   },
   "file_extension": ".py",
   "mimetype": "text/x-python",
   "name": "python",
   "nbconvert_exporter": "python",
   "pygments_lexer": "ipython3",
   "version": "3.5.4"
  }
 },
 "nbformat": 4,
 "nbformat_minor": 1
}
