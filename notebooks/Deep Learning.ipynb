{
 "cells": [
  {
   "cell_type": "code",
   "execution_count": 1,
   "metadata": {
    "collapsed": false,
    "scrolled": true
   },
   "outputs": [
    {
     "name": "stderr",
     "output_type": "stream",
     "text": [
      "Using TensorFlow backend.\n"
     ]
    }
   ],
   "source": [
    "import os\n",
    "import sys\n",
    "module_path = os.path.abspath(os.path.join('..'))\n",
    "if module_path not in sys.path:\n",
    "    sys.path.append(module_path)\n",
    "\n",
    "import sys, os, re, csv, codecs, numpy as np, pandas as pd\n",
    "\n",
    "from keras.preprocessing.text import Tokenizer\n",
    "from keras.preprocessing.sequence import pad_sequences\n",
    "from keras.layers import Dense, Input, LSTM, Embedding, Dropout, Activation, Flatten, concatenate\n",
    "from keras.layers import Bidirectional, GlobalMaxPool1D, Convolution1D, MaxPooling1D\n",
    "from keras.models import Model, Sequential\n",
    "from keras.callbacks import TensorBoard\n",
    "\n",
    "from feature_extraction.features import get_glove_w2v\n",
    "from database.utils import get_train_test_data\n",
    "from evaluation.metrics import *\n",
    "from models.nn_models import *\n",
    "\n",
    "%load_ext autoreload\n",
    "%autoreload 2"
   ]
  },
  {
   "cell_type": "code",
   "execution_count": 5,
   "metadata": {
    "collapsed": false
   },
   "outputs": [
    {
     "name": "stdout",
     "output_type": "stream",
     "text": [
      "Found 1193514 word vectors.\n"
     ]
    }
   ],
   "source": [
    "train_test_data = get_train_test_data()\n",
    "X_train, y_train, X_test, y_test = get_train_test_data(merge=True)\n",
    "\n",
    "w2v = get_glove_w2v()"
   ]
  },
  {
   "cell_type": "code",
   "execution_count": 45,
   "metadata": {
    "collapsed": false
   },
   "outputs": [
    {
     "name": "stdout",
     "output_type": "stream",
     "text": [
      "_________________________________________________________________\n",
      "Layer (type)                 Output Shape              Param #   \n",
      "=================================================================\n",
      "input_2 (InputLayer)         (None, 75)                0         \n",
      "_________________________________________________________________\n",
      "embedding_2 (Embedding)      (None, 75, 200)           3069000   \n",
      "_________________________________________________________________\n",
      "bidirectional_1 (Bidirection (None, 75, 100)           100400    \n",
      "_________________________________________________________________\n",
      "global_max_pooling1d_1 (Glob (None, 100)               0         \n",
      "_________________________________________________________________\n",
      "dense_4 (Dense)              (None, 50)                5050      \n",
      "_________________________________________________________________\n",
      "dropout_3 (Dropout)          (None, 50)                0         \n",
      "_________________________________________________________________\n",
      "dense_5 (Dense)              (None, 3)                 153       \n",
      "=================================================================\n",
      "Total params: 3,174,603\n",
      "Trainable params: 3,174,603\n",
      "Non-trainable params: 0\n",
      "_________________________________________________________________\n",
      "Train on 8070 samples, validate on 2213 samples\n",
      "Epoch 1/5\n",
      "8070/8070 [==============================] - 58s 7ms/step - loss: 0.4131 - acc: 0.8437 - val_loss: 0.3263 - val_acc: 0.8787\n",
      "\n",
      " ROC-AUC - epoch: 1 - score: 0.802224 \n",
      "\n",
      "Epoch 2/5\n",
      "8070/8070 [==============================] - 53s 7ms/step - loss: 0.2946 - acc: 0.8755 - val_loss: 0.2443 - val_acc: 0.8982\n",
      "\n",
      " ROC-AUC - epoch: 2 - score: 0.884048 \n",
      "\n",
      "Epoch 3/5\n",
      "8070/8070 [==============================] - 55s 7ms/step - loss: 0.2123 - acc: 0.9024 - val_loss: 0.2046 - val_acc: 0.9078\n",
      "\n",
      " ROC-AUC - epoch: 3 - score: 0.910890 \n",
      "\n",
      "Epoch 4/5\n",
      "8070/8070 [==============================] - 52s 6ms/step - loss: 0.1724 - acc: 0.9201 - val_loss: 0.1884 - val_acc: 0.9144\n",
      "\n",
      " ROC-AUC - epoch: 4 - score: 0.919291 \n",
      "\n",
      "Epoch 5/5\n",
      "8070/8070 [==============================] - 48s 6ms/step - loss: 0.1479 - acc: 0.9351 - val_loss: 0.1861 - val_acc: 0.9157\n",
      "\n",
      " ROC-AUC - epoch: 5 - score: 0.925420 \n",
      "\n"
     ]
    },
    {
     "data": {
      "text/plain": [
       "<keras.callbacks.History at 0x7f25c0fbfe80>"
      ]
     },
     "execution_count": 45,
     "metadata": {},
     "output_type": "execute_result"
    }
   ],
   "source": [
    "embed_size = 200 # how big is each word vector\n",
    "max_features = 20000 # dictionary size\n",
    "maxlen = 75 # max number of words in a tweet to use\n",
    "\n",
    "X_train, y_train, X_test, y_test = get_train_test_data(merge=True)\n",
    "\n",
    "tokenizer = Tokenizer(num_words=max_features)\n",
    "\n",
    "tokenizer.fit_on_texts(list(X_train))\n",
    "list_tokenized_train = tokenizer.texts_to_sequences(X_train)\n",
    "list_tokenized_test = tokenizer.texts_to_sequences(X_test)\n",
    "X_train = pad_sequences(list_tokenized_train, maxlen)\n",
    "X_test = pad_sequences(list_tokenized_test, maxlen)\n",
    "\n",
    "embedding_matrix = get_embedding_matrix(max_features, tokenizer, w2v, embed_size)\n",
    "model = get_lstm_model(embedding_matrix)\n",
    "#model = get_cnn_model(embedding_matrix)\n",
    "model.summary()\n",
    "model.fit(X_train, y_train,\n",
    "          validation_data=(X_test, y_test),\n",
    "          epochs=5,\n",
    "          batch_size=256,\n",
    "          callbacks=[RocAucEvaluation(validation_data=(X_test, y_test)),\n",
    "                     TensorBoard(log_dir='./logs',\n",
    "                                 histogram_freq=0,\n",
    "                                 write_graph=True,\n",
    "                                 write_images=False)])"
   ]
  },
  {
   "cell_type": "code",
   "execution_count": 46,
   "metadata": {
    "collapsed": true
   },
   "outputs": [],
   "source": [
    "y_scores = model.predict(X_test)"
   ]
  },
  {
   "cell_type": "code",
   "execution_count": 49,
   "metadata": {
    "collapsed": false
   },
   "outputs": [
    {
     "name": "stdout",
     "output_type": "stream",
     "text": [
      "ROC AUC for class 0: 0.97\n",
      "Precision for class 0: 0.75\n",
      "ROC AUC for class 1: 0.88\n",
      "Precision for class 1: 0.65\n",
      "ROC AUC for class 2: 0.98\n",
      "Precision for class 2: 0.66\n",
      "Test score: 0.93\n",
      "\n",
      "Average precision score, micro-averaged over all classes: 0.69\n"
     ]
    },
    {
     "data": {
      "text/html": [
       "<div>\n",
       "<style scoped>\n",
       "    .dataframe tbody tr th:only-of-type {\n",
       "        vertical-align: middle;\n",
       "    }\n",
       "\n",
       "    .dataframe tbody tr th {\n",
       "        vertical-align: top;\n",
       "    }\n",
       "\n",
       "    .dataframe thead th {\n",
       "        text-align: right;\n",
       "    }\n",
       "</style>\n",
       "<table border=\"1\" class=\"dataframe\">\n",
       "  <thead>\n",
       "    <tr style=\"text-align: right;\">\n",
       "      <th></th>\n",
       "      <th>accuracy</th>\n",
       "      <th>avg_precision</th>\n",
       "      <th>f1score</th>\n",
       "      <th>recall</th>\n",
       "      <th>test_roc_auc</th>\n",
       "    </tr>\n",
       "  </thead>\n",
       "  <tbody>\n",
       "    <tr>\n",
       "      <th>cnn</th>\n",
       "      <td>0.756891</td>\n",
       "      <td>0.703939</td>\n",
       "      <td>0.670724</td>\n",
       "      <td>0.684472</td>\n",
       "      <td>0.948295</td>\n",
       "    </tr>\n",
       "    <tr>\n",
       "      <th>lstm</th>\n",
       "      <td>0.747402</td>\n",
       "      <td>0.691062</td>\n",
       "      <td>0.623656</td>\n",
       "      <td>0.576398</td>\n",
       "      <td>0.925420</td>\n",
       "    </tr>\n",
       "  </tbody>\n",
       "</table>\n",
       "</div>"
      ],
      "text/plain": [
       "      accuracy  avg_precision   f1score    recall  test_roc_auc\n",
       "cnn   0.756891       0.703939  0.670724  0.684472      0.948295\n",
       "lstm  0.747402       0.691062  0.623656  0.576398      0.925420"
      ]
     },
     "execution_count": 49,
     "metadata": {},
     "output_type": "execute_result"
    }
   ],
   "source": [
    "measures, _, _ = class_report_multilabel(y_test, y_scores)\n",
    "results['lstm'] = measures\n",
    "pd.DataFrame(results).T"
   ]
  },
  {
   "cell_type": "code",
   "execution_count": 43,
   "metadata": {
    "collapsed": false
   },
   "outputs": [
    {
     "name": "stdout",
     "output_type": "stream",
     "text": [
      "ROC AUC for class 0: 0.97\n",
      "Precision for class 0: 0.79\n",
      "ROC AUC for class 1: 0.88\n",
      "Precision for class 1: 0.65\n",
      "ROC AUC for class 2: 0.97\n",
      "Precision for class 2: 0.73\n",
      "Test score: 0.92\n",
      "\n",
      "Average precision score, micro-averaged over all classes: 0.70\n"
     ]
    },
    {
     "data": {
      "text/html": [
       "<div>\n",
       "<style scoped>\n",
       "    .dataframe tbody tr th:only-of-type {\n",
       "        vertical-align: middle;\n",
       "    }\n",
       "\n",
       "    .dataframe tbody tr th {\n",
       "        vertical-align: top;\n",
       "    }\n",
       "\n",
       "    .dataframe thead th {\n",
       "        text-align: right;\n",
       "    }\n",
       "</style>\n",
       "<table border=\"1\" class=\"dataframe\">\n",
       "  <thead>\n",
       "    <tr style=\"text-align: right;\">\n",
       "      <th></th>\n",
       "      <th>accuracy</th>\n",
       "      <th>avg_precision</th>\n",
       "      <th>f1score</th>\n",
       "      <th>recall</th>\n",
       "      <th>test_roc_auc</th>\n",
       "    </tr>\n",
       "  </thead>\n",
       "  <tbody>\n",
       "    <tr>\n",
       "      <th>cnn</th>\n",
       "      <td>0.756891</td>\n",
       "      <td>0.703939</td>\n",
       "      <td>0.670724</td>\n",
       "      <td>0.684472</td>\n",
       "      <td>0.923612</td>\n",
       "    </tr>\n",
       "  </tbody>\n",
       "</table>\n",
       "</div>"
      ],
      "text/plain": [
       "     accuracy  avg_precision   f1score    recall  test_roc_auc\n",
       "cnn  0.756891       0.703939  0.670724  0.684472      0.923612"
      ]
     },
     "execution_count": 43,
     "metadata": {},
     "output_type": "execute_result"
    }
   ],
   "source": [
    "measures = class_report_multilabel(y_test, y_scores)\n",
    "results = {}\n",
    "results['cnn'] = measures\n",
    "pd.DataFrame(results).T"
   ]
  },
  {
   "cell_type": "code",
   "execution_count": null,
   "metadata": {
    "collapsed": false
   },
   "outputs": [],
   "source": [
    "for Xr_train, y_train, Xr_test, y_test, indicator in train_test_data:\n",
    "    print(indicator)\n",
    "    tokenizer = Tokenizer(num_words=max_features)\n",
    "    \n",
    "    tokenizer.fit_on_texts(list(Xr_train))\n",
    "    list_tokenized_train = tokenizer.texts_to_sequences(Xr_train)\n",
    "    list_tokenized_test = tokenizer.texts_to_sequences(Xr_test)\n",
    "    X_train = pad_sequences(list_tokenized_train, maxlen)\n",
    "    X_test = pad_sequences(list_tokenized_test, maxlen)\n",
    "    \n",
    "    #embedding_matrix = get_embedding_matrix(max_features, tokenizer, w2v, embed_size)\n",
    "    y_pred = model.predict(X_test)\n",
    "    \n",
    "    \n",
    "    #model = get_model(embedding_matrix)\n",
    "    #model.fit(X_train, y_train, validation_data=(X_test, y_test), epochs=5, \n",
    "    #      callbacks=[roc_callback(training_data=(X_train,\n",
    "    #                                             y_train),\n",
    "    #                              validation_data=(X_test, y_test))])"
   ]
  }
 ],
 "metadata": {
  "anaconda-cloud": {},
  "kernelspec": {
   "display_name": "Python [conda env:carnd-term1]",
   "language": "python",
   "name": "conda-env-carnd-term1-py"
  },
  "language_info": {
   "codemirror_mode": {
    "name": "ipython",
    "version": 3
   },
   "file_extension": ".py",
   "mimetype": "text/x-python",
   "name": "python",
   "nbconvert_exporter": "python",
   "pygments_lexer": "ipython3",
   "version": "3.5.2"
  }
 },
 "nbformat": 4,
 "nbformat_minor": 1
}
