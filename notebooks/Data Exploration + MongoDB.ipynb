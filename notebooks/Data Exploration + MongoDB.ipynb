{
 "cells": [
  {
   "cell_type": "code",
   "execution_count": 1,
   "metadata": {
    "collapsed": false
   },
   "outputs": [],
   "source": [
    "import pymongo\n",
    "import json\n",
    "import csv\n",
    "\n",
    "import numpy as np\n",
    "import pandas as pd\n",
    "from bson.objectid import ObjectId\n",
    "\n",
    "#import seaborn as sns\n",
    "#print(sns.__version__)\n",
    "import matplotlib.pyplot as plt\n",
    "from sklearn.feature_extraction.text import CountVectorizer\n",
    "from database.query import *\n",
    "\n",
    "from utils import *\n",
    "%load_ext autoreload\n",
    "\n",
    "%matplotlib inline"
   ]
  },
  {
   "cell_type": "code",
   "execution_count": 2,
   "metadata": {
    "collapsed": false
   },
   "outputs": [
    {
     "name": "stdout",
     "output_type": "stream",
     "text": [
      "1571095\n"
     ]
    }
   ],
   "source": [
    "client = pymongo.MongoClient()\n",
    "col = client['tweets']['april']\n",
    "print(col.count())"
   ]
  },
  {
   "cell_type": "code",
   "execution_count": 4,
   "metadata": {
    "collapsed": false
   },
   "outputs": [
    {
     "data": {
      "text/plain": [
       "{'_id': ObjectId('5ad7c4b9603fa924356751b6'),\n",
       " 'contributors': None,\n",
       " 'coordinates': None,\n",
       " 'created_at': 'Wed Apr 18 22:20:41 +0000 2018',\n",
       " 'display_text_range': [10, 49],\n",
       " 'entities': {'hashtags': [],\n",
       "  'symbols': [],\n",
       "  'urls': [],\n",
       "  'user_mentions': [{'id': 55667775,\n",
       "    'id_str': '55667775',\n",
       "    'indices': [0, 9],\n",
       "    'name': 'Lizzy',\n",
       "    'screen_name': 'LizzyMtl'}]},\n",
       " 'favorite_count': 0,\n",
       " 'favorited': False,\n",
       " 'filter_level': 'low',\n",
       " 'geo': None,\n",
       " 'id': 986731267818483712,\n",
       " 'id_str': '986731267818483712',\n",
       " 'in_reply_to_screen_name': 'LizzyMtl',\n",
       " 'in_reply_to_status_id': 986730725658517505,\n",
       " 'in_reply_to_status_id_str': '986730725658517505',\n",
       " 'in_reply_to_user_id': 55667775,\n",
       " 'in_reply_to_user_id_str': '55667775',\n",
       " 'is_quote_status': False,\n",
       " 'labels': 0,\n",
       " 'lang': 'fr',\n",
       " 'physical_activity_ensemble_predict': 0.017417605192251176,\n",
       " 'place': {'attributes': {},\n",
       "  'bounding_box': {'coordinates': [[[-79.751655, 48.925607],\n",
       "     [-79.751655, 55.004616],\n",
       "     [-69.991256, 55.004616],\n",
       "     [-69.991256, 48.925607]]],\n",
       "   'type': 'Polygon'},\n",
       "  'country': 'Canada',\n",
       "  'country_code': 'CA',\n",
       "  'full_name': 'Baie-James, Québec',\n",
       "  'id': '4ff1b0c0c8dc8239',\n",
       "  'name': 'Baie-James',\n",
       "  'place_type': 'city',\n",
       "  'url': 'https://api.twitter.com/1.1/geo/id/4ff1b0c0c8dc8239.json'},\n",
       " 'quote_count': 0,\n",
       " 'random_number': 0.6344721231143922,\n",
       " 'reply_count': 0,\n",
       " 'retweet_count': 0,\n",
       " 'retweeted': False,\n",
       " 'sedentary_behaviour_ensemble_predict': 0.01403529902462793,\n",
       " 'sleep_ensemble_predict': 0.02351265998875754,\n",
       " 'source': '<a href=\"http://twitter.com/download/android\" rel=\"nofollow\">Twitter for Android</a>',\n",
       " 'text': '@LizzyMtl je te promet que je ne me prive de rien',\n",
       " 'timestamp_ms': '1524090041485',\n",
       " 'truncated': False,\n",
       " 'user': {'contributors_enabled': False,\n",
       "  'created_at': 'Sat Mar 01 21:31:58 +0000 2014',\n",
       "  'default_profile': True,\n",
       "  'default_profile_image': False,\n",
       "  'description': 'IMFC, Sports de combat, #Skol et gamer a temps partiel',\n",
       "  'favourites_count': 94759,\n",
       "  'follow_request_sent': None,\n",
       "  'followers_count': 1496,\n",
       "  'following': None,\n",
       "  'friends_count': 2702,\n",
       "  'geo_enabled': True,\n",
       "  'id': 2367651812,\n",
       "  'id_str': '2367651812',\n",
       "  'is_translator': False,\n",
       "  'lang': 'fr',\n",
       "  'listed_count': 15,\n",
       "  'location': 'Chibougamau, Québec',\n",
       "  'name': 'Denis Lachance',\n",
       "  'notifications': None,\n",
       "  'profile_background_color': 'C0DEED',\n",
       "  'profile_background_image_url': 'http://abs.twimg.com/images/themes/theme1/bg.png',\n",
       "  'profile_background_image_url_https': 'https://abs.twimg.com/images/themes/theme1/bg.png',\n",
       "  'profile_background_tile': False,\n",
       "  'profile_banner_url': 'https://pbs.twimg.com/profile_banners/2367651812/1441393096',\n",
       "  'profile_image_url': 'http://pbs.twimg.com/profile_images/874624520996491264/hC4P6A97_normal.jpg',\n",
       "  'profile_image_url_https': 'https://pbs.twimg.com/profile_images/874624520996491264/hC4P6A97_normal.jpg',\n",
       "  'profile_link_color': '1DA1F2',\n",
       "  'profile_sidebar_border_color': 'C0DEED',\n",
       "  'profile_sidebar_fill_color': 'DDEEF6',\n",
       "  'profile_text_color': '333333',\n",
       "  'profile_use_background_image': True,\n",
       "  'protected': False,\n",
       "  'screen_name': 'Dentheluck',\n",
       "  'statuses_count': 14773,\n",
       "  'time_zone': 'America/Toronto',\n",
       "  'translator_type': 'none',\n",
       "  'url': None,\n",
       "  'utc_offset': -14400,\n",
       "  'verified': False}}"
      ]
     },
     "execution_count": 4,
     "metadata": {},
     "output_type": "execute_result"
    }
   ],
   "source": [
    "col.find_one()"
   ]
  },
  {
   "cell_type": "code",
   "execution_count": 6,
   "metadata": {
    "collapsed": false
   },
   "outputs": [
    {
     "name": "stdout",
     "output_type": "stream",
     "text": [
      "1571571\n",
      "CPU times: user 41.9 s, sys: 716 ms, total: 42.6 s\n",
      "Wall time: 53 s\n"
     ]
    }
   ],
   "source": [
    "%%time\n",
    "\n",
    "tweets_df = DataAccess.get_as_dataframe(explode=False)\n",
    "#tweets_df = DataAccess.sample_control(0.0, 0.10)\n",
    "tweets_df.head()\n",
    "\n",
    "print(len(tweets_df))"
   ]
  },
  {
   "cell_type": "code",
   "execution_count": 7,
   "metadata": {
    "collapsed": false
   },
   "outputs": [
    {
     "data": {
      "text/html": [
       "<div>\n",
       "<style>\n",
       "    .dataframe thead tr:only-child th {\n",
       "        text-align: right;\n",
       "    }\n",
       "\n",
       "    .dataframe thead th {\n",
       "        text-align: left;\n",
       "    }\n",
       "\n",
       "    .dataframe tbody tr th {\n",
       "        vertical-align: top;\n",
       "    }\n",
       "</style>\n",
       "<table border=\"1\" class=\"dataframe\">\n",
       "  <thead>\n",
       "    <tr style=\"text-align: right;\">\n",
       "      <th></th>\n",
       "      <th>entities</th>\n",
       "      <th>place</th>\n",
       "      <th>text</th>\n",
       "    </tr>\n",
       "    <tr>\n",
       "      <th>_id</th>\n",
       "      <th></th>\n",
       "      <th></th>\n",
       "      <th></th>\n",
       "    </tr>\n",
       "  </thead>\n",
       "  <tbody>\n",
       "    <tr>\n",
       "      <th>5ad7c4ba603fa924356751b7</th>\n",
       "      <td>{'hashtags': []}</td>\n",
       "      <td>{'country': 'Canada', 'full_name': 'Mississaug...</td>\n",
       "      <td>@tuinpeaks RIGHT the romance isn't even the ma...</td>\n",
       "    </tr>\n",
       "    <tr>\n",
       "      <th>5ad7c4ba603fa924356751b8</th>\n",
       "      <td>{'hashtags': []}</td>\n",
       "      <td>{'country': 'Canada', 'full_name': 'Vancouver,...</td>\n",
       "      <td>@sarahblyth Yay!!</td>\n",
       "    </tr>\n",
       "    <tr>\n",
       "      <th>5ad7c4ba603fa924356751b9</th>\n",
       "      <td>{'hashtags': []}</td>\n",
       "      <td>{'country': 'Canada', 'full_name': 'Calgary, A...</td>\n",
       "      <td>@cardiacclone32 Just say \"I had a good poop to...</td>\n",
       "    </tr>\n",
       "    <tr>\n",
       "      <th>5ad7c4bb603fa924356751ba</th>\n",
       "      <td>{'hashtags': []}</td>\n",
       "      <td>{'country': 'Canada', 'full_name': 'Toronto, O...</td>\n",
       "      <td>!!!!! Like wtf 😭 https://t.co/4Y1mKCv6nE</td>\n",
       "    </tr>\n",
       "    <tr>\n",
       "      <th>5ad7c4bc603fa924356751bb</th>\n",
       "      <td>{'hashtags': []}</td>\n",
       "      <td>{'country': 'Canada', 'full_name': 'Montréal, ...</td>\n",
       "      <td>@ElcrazyToutdoux 🤷🏾‍♀️🤷🏾‍♀️🤷🏾‍♀️😭</td>\n",
       "    </tr>\n",
       "  </tbody>\n",
       "</table>\n",
       "</div>"
      ],
      "text/plain": [
       "                                  entities  \\\n",
       "_id                                          \n",
       "5ad7c4ba603fa924356751b7  {'hashtags': []}   \n",
       "5ad7c4ba603fa924356751b8  {'hashtags': []}   \n",
       "5ad7c4ba603fa924356751b9  {'hashtags': []}   \n",
       "5ad7c4bb603fa924356751ba  {'hashtags': []}   \n",
       "5ad7c4bc603fa924356751bb  {'hashtags': []}   \n",
       "\n",
       "                                                                      place  \\\n",
       "_id                                                                           \n",
       "5ad7c4ba603fa924356751b7  {'country': 'Canada', 'full_name': 'Mississaug...   \n",
       "5ad7c4ba603fa924356751b8  {'country': 'Canada', 'full_name': 'Vancouver,...   \n",
       "5ad7c4ba603fa924356751b9  {'country': 'Canada', 'full_name': 'Calgary, A...   \n",
       "5ad7c4bb603fa924356751ba  {'country': 'Canada', 'full_name': 'Toronto, O...   \n",
       "5ad7c4bc603fa924356751bb  {'country': 'Canada', 'full_name': 'Montréal, ...   \n",
       "\n",
       "                                                                       text  \n",
       "_id                                                                          \n",
       "5ad7c4ba603fa924356751b7  @tuinpeaks RIGHT the romance isn't even the ma...  \n",
       "5ad7c4ba603fa924356751b8                                  @sarahblyth Yay!!  \n",
       "5ad7c4ba603fa924356751b9  @cardiacclone32 Just say \"I had a good poop to...  \n",
       "5ad7c4bb603fa924356751ba           !!!!! Like wtf 😭 https://t.co/4Y1mKCv6nE  \n",
       "5ad7c4bc603fa924356751bb                  @ElcrazyToutdoux 🤷🏾‍♀️🤷🏾‍♀️🤷🏾‍♀️😭  "
      ]
     },
     "execution_count": 7,
     "metadata": {},
     "output_type": "execute_result"
    }
   ],
   "source": [
    "tweets_df.head()"
   ]
  },
  {
   "cell_type": "code",
   "execution_count": 29,
   "metadata": {
    "collapsed": false
   },
   "outputs": [],
   "source": [
    "tweets_df.to_csv('./data/tweets_with_id.csv', sep='\\t')"
   ]
  },
  {
   "cell_type": "code",
   "execution_count": 64,
   "metadata": {
    "collapsed": false
   },
   "outputs": [
    {
     "name": "stderr",
     "output_type": "stream",
     "text": [
      "/opt/anaconda3/lib/python3.5/site-packages/ipykernel/__main__.py:3: DeprecationWarning: update is deprecated. Use replace_one, update_one or update_many instead.\n",
      "  app.launch_new_instance()\n"
     ]
    },
    {
     "data": {
      "text/plain": [
       "{'n': 0, 'nModified': 0, 'ok': 1, 'updatedExisting': False}"
      ]
     },
     "execution_count": 64,
     "metadata": {},
     "output_type": "execute_result"
    }
   ],
   "source": [
    "column_name = \"labels\"\n",
    "\n",
    "col.update({\"_id\": ObjectId(\"5ad7c4b9603fa924356751b6\")}, {\"$set\": {column_name: 0}})"
   ]
  },
  {
   "cell_type": "code",
   "execution_count": 218,
   "metadata": {
    "collapsed": false
   },
   "outputs": [],
   "source": [
    "def write_labels_batch(dataframe):\n",
    "    for _id, dict_labels in dataframe.T.to_dict().items():\n",
    "        for key, value in dict_labels.items():\n",
    "            if isinstance(value, np.int64):\n",
    "                dict_labels[key] = value.item()\n",
    "        print(_id, dict_labels)\n",
    "            #col.find_one_and_update({\"_id\": ObjectId(_id)}, {\"$set\": {column_name: label}})"
   ]
  },
  {
   "cell_type": "code",
   "execution_count": 219,
   "metadata": {
    "collapsed": false
   },
   "outputs": [
    {
     "name": "stdout",
     "output_type": "stream",
     "text": [
      "5ad7c6db603fa9243fc7b45b {'label': 0, 'labels': 0}\n",
      "5ad7c5a3603fa9243fc7b2fd {'label': 0, 'labels': 0}\n",
      "5ad7c760603fa9243fc7b507 {'label': 0, 'labels': 0}\n",
      "5ad7c80a603fa9243fc7b5df {'label': 0, 'labels': 0}\n",
      "5ad7c7a5603fa9243fc7b562 {'label': 0, 'labels': 0}\n"
     ]
    }
   ],
   "source": [
    "write_labels_batch(tweets_df.loc[:, ['label', 'labels']][:5])"
   ]
  },
  {
   "cell_type": "code",
   "execution_count": 19,
   "metadata": {
    "collapsed": false
   },
   "outputs": [],
   "source": [
    "data = list(col.find({\"retweeted_status\": {\"$exists\": True}}))"
   ]
  },
  {
   "cell_type": "code",
   "execution_count": 20,
   "metadata": {
    "collapsed": false
   },
   "outputs": [
    {
     "data": {
      "text/plain": [
       "0"
      ]
     },
     "execution_count": 20,
     "metadata": {},
     "output_type": "execute_result"
    }
   ],
   "source": [
    "len(data)"
   ]
  },
  {
   "cell_type": "code",
   "execution_count": 34,
   "metadata": {
    "collapsed": false
   },
   "outputs": [
    {
     "data": {
      "text/plain": [
       "{'_id': ObjectId('5a26f7a1b13879ecbb4a6d49'),\n",
       " 'contributors': None,\n",
       " 'coordinates': {'coordinates': [-76.567205, 44.2719951], 'type': 'Point'},\n",
       " 'created_at': 'Thu Nov 30 20:03:10 +0000 2017',\n",
       " 'entities': {'hashtags': [{'indices': [0, 7], 'text': 'Repost'}],\n",
       "  'symbols': [],\n",
       "  'urls': [{'display_url': 'instagram.com/p/BcIdCuPD-_H/',\n",
       "    'expanded_url': 'https://www.instagram.com/p/BcIdCuPD-_H/',\n",
       "    'indices': [89, 112],\n",
       "    'url': 'https://t.co/T7nm1AvjIZ'}],\n",
       "  'user_mentions': [{'id': 3393133781,\n",
       "    'id_str': '3393133781',\n",
       "    'indices': [8, 16],\n",
       "    'name': 'theironkingltd',\n",
       "    'screen_name': 'ppcli66'},\n",
       "   {'id': 261108510,\n",
       "    'id_str': '261108510',\n",
       "    'indices': [46, 55],\n",
       "    'name': 'Tim Cronk',\n",
       "    'screen_name': 'TimCronk'}]},\n",
       " 'favorite_count': 0,\n",
       " 'favorited': False,\n",
       " 'filter_level': 'low',\n",
       " 'geo': {'coordinates': [44.2719951, -76.567205], 'type': 'Point'},\n",
       " 'id': 936324749084545026,\n",
       " 'id_str': '936324749084545026',\n",
       " 'in_reply_to_screen_name': None,\n",
       " 'in_reply_to_status_id': None,\n",
       " 'in_reply_to_status_id_str': None,\n",
       " 'in_reply_to_user_id': None,\n",
       " 'in_reply_to_user_id_str': None,\n",
       " 'is_quote_status': False,\n",
       " 'lang': 'en',\n",
       " 'physical_activity_ensemble_predict': 1,\n",
       " 'place': {'attributes': {},\n",
       "  'bounding_box': {'coordinates': [[[-76.712759, 44.16054],\n",
       "     [-76.712759, 44.481126],\n",
       "     [-76.233463, 44.481126],\n",
       "     [-76.233463, 44.16054]]],\n",
       "   'type': 'Polygon'},\n",
       "  'country': 'Canada',\n",
       "  'country_code': 'CA',\n",
       "  'full_name': 'Kingston, Ontario',\n",
       "  'id': '48ad377ff2ff9e51',\n",
       "  'name': 'Kingston',\n",
       "  'place_type': 'city',\n",
       "  'url': 'https://api.twitter.com/1.1/geo/id/48ad377ff2ff9e51.json'},\n",
       " 'possibly_sensitive': False,\n",
       " 'quote_count': 0,\n",
       " 'random_number': 0.10485771019011736,\n",
       " 'reply_count': 0,\n",
       " 'retweet_count': 0,\n",
       " 'retweeted': False,\n",
       " 'sedentary_behaviour_ensemble_predict': 0,\n",
       " 'sleep_ensemble_predict': 0,\n",
       " 'source': '<a href=\"http://instagram.com\" rel=\"nofollow\">Instagram</a>',\n",
       " 'text': '#Repost @ppcli66 (get_repost)\\n・・・\\nCronk crew🔥 @TimCronk rocking a great chest workout🇨🇦… https://t.co/T7nm1AvjIZ',\n",
       " 'timestamp_ms': '1512072190911',\n",
       " 'truncated': False,\n",
       " 'user': {'contributors_enabled': False,\n",
       "  'created_at': 'Sat Mar 05 07:27:50 +0000 2011',\n",
       "  'default_profile': False,\n",
       "  'default_profile_image': False,\n",
       "  'description': 'CFL fullback & special teamer #36; 6th year vet. The Iron King Ltd Strength & Conditioning coach, MMA, health and fitness fanatic.',\n",
       "  'favourites_count': 6038,\n",
       "  'follow_request_sent': None,\n",
       "  'followers_count': 1664,\n",
       "  'following': None,\n",
       "  'friends_count': 1303,\n",
       "  'geo_enabled': True,\n",
       "  'id': 261108510,\n",
       "  'id_str': '261108510',\n",
       "  'is_translator': False,\n",
       "  'lang': 'en',\n",
       "  'listed_count': 44,\n",
       "  'location': 'Kingston, Ontario',\n",
       "  'name': 'Tim Cronk',\n",
       "  'notifications': None,\n",
       "  'profile_background_color': '131516',\n",
       "  'profile_background_image_url': 'http://pbs.twimg.com/profile_background_images/333749589/BC_Lions_Logo.jpg',\n",
       "  'profile_background_image_url_https': 'https://pbs.twimg.com/profile_background_images/333749589/BC_Lions_Logo.jpg',\n",
       "  'profile_background_tile': True,\n",
       "  'profile_banner_url': 'https://pbs.twimg.com/profile_banners/261108510/1472704681',\n",
       "  'profile_image_url': 'http://pbs.twimg.com/profile_images/799736436694073348/QoFNgUar_normal.jpg',\n",
       "  'profile_image_url_https': 'https://pbs.twimg.com/profile_images/799736436694073348/QoFNgUar_normal.jpg',\n",
       "  'profile_link_color': '009999',\n",
       "  'profile_sidebar_border_color': 'EEEEEE',\n",
       "  'profile_sidebar_fill_color': 'EFEFEF',\n",
       "  'profile_text_color': '333333',\n",
       "  'profile_use_background_image': True,\n",
       "  'protected': False,\n",
       "  'screen_name': 'TimCronk',\n",
       "  'statuses_count': 3143,\n",
       "  'time_zone': 'Eastern Time (US & Canada)',\n",
       "  'translator_type': 'none',\n",
       "  'url': None,\n",
       "  'utc_offset': -18000,\n",
       "  'verified': True}}"
      ]
     },
     "execution_count": 34,
     "metadata": {},
     "output_type": "execute_result"
    }
   ],
   "source": [
    "col.find_one({\"_id\": ObjectId(\"5a26f7a1b13879ecbb4a6d49\")})\n",
    "#col.find_one_and_update({\"_id\": ObjectId(\"5adc8cc0603fa92b91518df3\")}, {\"$set\": {column_name: label}})"
   ]
  },
  {
   "cell_type": "code",
   "execution_count": 145,
   "metadata": {
    "collapsed": false
   },
   "outputs": [],
   "source": [
    "tweets_df = [{\"created_at\": item[\"created_at\"],\n",
    "              \"text\": item['extended_tweet']['full_text'],\n",
    "              \"_id\": item[\"_id\"]\n",
    "            } for item in col.find({\"place.country_code\": \"CA\"}) if item['truncated']]"
   ]
  },
  {
   "cell_type": "code",
   "execution_count": 25,
   "metadata": {
    "collapsed": false
   },
   "outputs": [],
   "source": [
    "for item in col.find({\"place.country_code\": \"CA\"}):\n",
    "    if item['retweeted'] or item['retweet_count'] != 0 or 'retweeted_status' in item:\n",
    "        print(item)\n",
    "        input()"
   ]
  },
  {
   "cell_type": "code",
   "execution_count": 5,
   "metadata": {
    "collapsed": false
   },
   "outputs": [],
   "source": [
    "for item in col.find({\"place.country_code\": \"CA\"}):\n",
    "    if item['truncated']:\n",
    "        col.find_one_and_update({\"_id\": item['_id']}, {\"$set\": {\"text\": item['extended_tweet']['full_text']}})"
   ]
  },
  {
   "cell_type": "code",
   "execution_count": 3,
   "metadata": {
    "collapsed": false
   },
   "outputs": [
    {
     "data": {
      "text/plain": [
       "1460498"
      ]
     },
     "execution_count": 3,
     "metadata": {},
     "output_type": "execute_result"
    }
   ],
   "source": [
    "col.find({\"lang\": {\"$ne\": 'en'}}).count()\n"
   ]
  },
  {
   "cell_type": "code",
   "execution_count": 16,
   "metadata": {
    "collapsed": false
   },
   "outputs": [
    {
     "name": "stderr",
     "output_type": "stream",
     "text": [
      "/opt/anaconda3/lib/python3.5/site-packages/ipykernel/__main__.py:1: DeprecationWarning: remove is deprecated. Use delete_one or delete_many instead.\n",
      "  if __name__ == '__main__':\n"
     ]
    },
    {
     "data": {
      "text/plain": [
       "{'n': 1460498, 'ok': 1}"
      ]
     },
     "execution_count": 16,
     "metadata": {},
     "output_type": "execute_result"
    }
   ],
   "source": [
    "col.remove({\"lang\": {\"$ne\": 'en'}})"
   ]
  },
  {
   "cell_type": "code",
   "execution_count": null,
   "metadata": {
    "collapsed": true
   },
   "outputs": [],
   "source": [
    "%%time\n",
    "\n",
    "tweets_df = list(col.find({\"lang\": {\"$ne\": 'en'}}))\n",
    "print(len(tweets_df))"
   ]
  },
  {
   "cell_type": "code",
   "execution_count": null,
   "metadata": {
    "collapsed": false
   },
   "outputs": [],
   "source": [
    "%%time\n",
    "\n",
    "tweets_df = list(col.find({\"lang\": {\"$ne\": 'en'}}))\n",
    "print(len(tweets_df))"
   ]
  },
  {
   "cell_type": "code",
   "execution_count": 42,
   "metadata": {
    "collapsed": false
   },
   "outputs": [
    {
     "name": "stdout",
     "output_type": "stream",
     "text": [
      "CPU times: user 39min 37s, sys: 4.06 s, total: 39min 41s\n",
      "Wall time: 39min 39s\n"
     ]
    }
   ],
   "source": [
    "%%time\n",
    "\n",
    "tweets_df['created_at'] = pd.to_datetime(tweets_df.created_at)"
   ]
  },
  {
   "cell_type": "code",
   "execution_count": 60,
   "metadata": {
    "collapsed": false
   },
   "outputs": [
    {
     "data": {
      "text/html": [
       "<div>\n",
       "<style>\n",
       "    .dataframe thead tr:only-child th {\n",
       "        text-align: right;\n",
       "    }\n",
       "\n",
       "    .dataframe thead th {\n",
       "        text-align: left;\n",
       "    }\n",
       "\n",
       "    .dataframe tbody tr th {\n",
       "        vertical-align: top;\n",
       "    }\n",
       "</style>\n",
       "<table border=\"1\" class=\"dataframe\">\n",
       "  <thead>\n",
       "    <tr style=\"text-align: right;\">\n",
       "      <th></th>\n",
       "      <th>value</th>\n",
       "    </tr>\n",
       "    <tr>\n",
       "      <th>created_at</th>\n",
       "      <th></th>\n",
       "    </tr>\n",
       "  </thead>\n",
       "  <tbody>\n",
       "    <tr>\n",
       "      <th>2017-11-05</th>\n",
       "      <td>3598.0</td>\n",
       "    </tr>\n",
       "    <tr>\n",
       "      <th>2017-11-12</th>\n",
       "      <td>NaN</td>\n",
       "    </tr>\n",
       "    <tr>\n",
       "      <th>2017-11-19</th>\n",
       "      <td>180463.0</td>\n",
       "    </tr>\n",
       "    <tr>\n",
       "      <th>2017-11-26</th>\n",
       "      <td>391833.0</td>\n",
       "    </tr>\n",
       "    <tr>\n",
       "      <th>2017-12-03</th>\n",
       "      <td>202223.0</td>\n",
       "    </tr>\n",
       "    <tr>\n",
       "      <th>2017-12-10</th>\n",
       "      <td>324609.0</td>\n",
       "    </tr>\n",
       "    <tr>\n",
       "      <th>2017-12-17</th>\n",
       "      <td>416345.0</td>\n",
       "    </tr>\n",
       "    <tr>\n",
       "      <th>2017-12-24</th>\n",
       "      <td>456881.0</td>\n",
       "    </tr>\n",
       "    <tr>\n",
       "      <th>2017-12-31</th>\n",
       "      <td>434437.0</td>\n",
       "    </tr>\n",
       "    <tr>\n",
       "      <th>2018-01-07</th>\n",
       "      <td>483811.0</td>\n",
       "    </tr>\n",
       "    <tr>\n",
       "      <th>2018-01-14</th>\n",
       "      <td>477670.0</td>\n",
       "    </tr>\n",
       "    <tr>\n",
       "      <th>2018-01-21</th>\n",
       "      <td>467928.0</td>\n",
       "    </tr>\n",
       "    <tr>\n",
       "      <th>2018-01-28</th>\n",
       "      <td>472230.0</td>\n",
       "    </tr>\n",
       "    <tr>\n",
       "      <th>2018-02-04</th>\n",
       "      <td>517085.0</td>\n",
       "    </tr>\n",
       "    <tr>\n",
       "      <th>2018-02-11</th>\n",
       "      <td>498184.0</td>\n",
       "    </tr>\n",
       "    <tr>\n",
       "      <th>2018-02-18</th>\n",
       "      <td>492568.0</td>\n",
       "    </tr>\n",
       "    <tr>\n",
       "      <th>2018-02-25</th>\n",
       "      <td>511157.0</td>\n",
       "    </tr>\n",
       "    <tr>\n",
       "      <th>2018-03-04</th>\n",
       "      <td>490632.0</td>\n",
       "    </tr>\n",
       "    <tr>\n",
       "      <th>2018-03-11</th>\n",
       "      <td>504862.0</td>\n",
       "    </tr>\n",
       "    <tr>\n",
       "      <th>2018-03-18</th>\n",
       "      <td>490941.0</td>\n",
       "    </tr>\n",
       "    <tr>\n",
       "      <th>2018-03-25</th>\n",
       "      <td>122435.0</td>\n",
       "    </tr>\n",
       "  </tbody>\n",
       "</table>\n",
       "</div>"
      ],
      "text/plain": [
       "               value\n",
       "created_at          \n",
       "2017-11-05    3598.0\n",
       "2017-11-12       NaN\n",
       "2017-11-19  180463.0\n",
       "2017-11-26  391833.0\n",
       "2017-12-03  202223.0\n",
       "2017-12-10  324609.0\n",
       "2017-12-17  416345.0\n",
       "2017-12-24  456881.0\n",
       "2017-12-31  434437.0\n",
       "2018-01-07  483811.0\n",
       "2018-01-14  477670.0\n",
       "2018-01-21  467928.0\n",
       "2018-01-28  472230.0\n",
       "2018-02-04  517085.0\n",
       "2018-02-11  498184.0\n",
       "2018-02-18  492568.0\n",
       "2018-02-25  511157.0\n",
       "2018-03-04  490632.0\n",
       "2018-03-11  504862.0\n",
       "2018-03-18  490941.0\n",
       "2018-03-25  122435.0"
      ]
     },
     "execution_count": 60,
     "metadata": {},
     "output_type": "execute_result"
    }
   ],
   "source": [
    "tweets_df.set_index('created_at').groupby(pd.TimeGrouper('W')).sum()"
   ]
  },
  {
   "cell_type": "code",
   "execution_count": 307,
   "metadata": {
    "collapsed": false
   },
   "outputs": [
    {
     "name": "stdout",
     "output_type": "stream",
     "text": [
      "         city country                      created_at  \\\n",
      "0    Montréal  Canada  Mon Oct 30 11:19:41 +0000 2017   \n",
      "1  Saint John  Canada  Mon Oct 30 11:19:43 +0000 2017   \n",
      "2       Laval  Canada  Mon Oct 30 11:19:40 +0000 2017   \n",
      "3   Vancouver  Canada  Mon Oct 30 11:19:52 +0000 2017   \n",
      "4      Canada  Canada  Mon Oct 30 11:19:58 +0000 2017   \n",
      "\n",
      "                                      hashtags lang   latitude   longitude  \\\n",
      "0                                                en        NaN         NaN   \n",
      "1                                                en        NaN         NaN   \n",
      "2  DodgersVsAstros,ExtraInnings,MLBWorldSeries   en        NaN         NaN   \n",
      "3                                   nowplaying   en  49.271643 -123.069455   \n",
      "4                                                en        NaN         NaN   \n",
      "\n",
      "                     placename          province  \\\n",
      "0             Montréal, Québec            Québec   \n",
      "1    Saint John, New Brunswick     New Brunswick   \n",
      "2                Laval, Québec            Québec   \n",
      "3  Vancouver, British Columbia  British Columbia   \n",
      "4                       Canada            Canada   \n",
      "\n",
      "                                              source  \\\n",
      "0  <a href=\"http://twitter.com/download/iphone\" r...   \n",
      "1  <a href=\"http://twitter.com\" rel=\"nofollow\">Tw...   \n",
      "2  <a href=\"http://twitter.com/download/iphone\" r...   \n",
      "3  <a href=\"http://www.vjukebox.com\" rel=\"nofollo...   \n",
      "4  <a href=\"http://twitter.com\" rel=\"nofollow\">Tw...   \n",
      "\n",
      "                                                text              user  \n",
      "0  b'Fed up with people volontarily wasting their...        @amanniste  \n",
      "1  b'@imjmichaels I love your performance,  your ...  @Joshstylegaming  \n",
      "2  b'What a game #DodgersVsAstros #ExtraInnings !...            @Pizma  \n",
      "3  b\"The Whole World by OutKast is #nowplaying in...     @StartleMusic  \n",
      "4  b'\"EL DIA PERDIDO EN LA HISTORIA \"\\\\nPastor Do...     @zingholdings  \n",
      "CPU times: user 15min, sys: 0 ns, total: 15min\n",
      "Wall time: 13min 45s\n"
     ]
    }
   ],
   "source": [
    "%%time\n",
    "\n",
    "tweets_df = [{\"created_at\": item[\"created_at\"],\n",
    "              \"text\": item[\"text\"].encode('unicode_escape'),\n",
    "              \"hashtags\": ','.join([i['text'] for i in item['entities']['hashtags']]),\n",
    "              \"user\": \"@%s\" % item[\"user\"][\"screen_name\"],\n",
    "              \"placename\": item['place']['full_name'],\n",
    "              \"province\": item['place']['full_name'].split(', ')[-1],\n",
    "              \"city\": item['place']['name'],\n",
    "              \"country\": item['place']['country'],\n",
    "              \"source\": item[\"source\"] if item[\"source\"] else '',\n",
    "              \"lang\": item['lang'],              \n",
    "              \"latitude\": item['geo']['coordinates'][0] if item['geo'] else np.nan,\n",
    "              \"longitude\": item['geo']['coordinates'][1] if item['geo'] else np.nan\n",
    "              \n",
    "            } for item in col.find({\"place.country_code\": \"CA\"})]\n",
    "tweets_df = pd.DataFrame(tweets_df)\n",
    "print(tweets_df.head())"
   ]
  },
  {
   "cell_type": "markdown",
   "metadata": {},
   "source": [
    "## Tweet language"
   ]
  },
  {
   "cell_type": "code",
   "execution_count": 19,
   "metadata": {
    "collapsed": false
   },
   "outputs": [
    {
     "data": {
      "text/html": [
       "<div>\n",
       "<style>\n",
       "    .dataframe thead tr:only-child th {\n",
       "        text-align: right;\n",
       "    }\n",
       "\n",
       "    .dataframe thead th {\n",
       "        text-align: left;\n",
       "    }\n",
       "\n",
       "    .dataframe tbody tr th {\n",
       "        vertical-align: top;\n",
       "    }\n",
       "</style>\n",
       "<table border=\"1\" class=\"dataframe\">\n",
       "  <thead>\n",
       "    <tr style=\"text-align: right;\">\n",
       "      <th></th>\n",
       "      <th>city</th>\n",
       "      <th>country</th>\n",
       "      <th>created_at</th>\n",
       "      <th>hashtags</th>\n",
       "      <th>lang</th>\n",
       "      <th>latitude</th>\n",
       "      <th>longitude</th>\n",
       "      <th>placename</th>\n",
       "      <th>province</th>\n",
       "      <th>source</th>\n",
       "      <th>text</th>\n",
       "      <th>user</th>\n",
       "    </tr>\n",
       "  </thead>\n",
       "  <tbody>\n",
       "    <tr>\n",
       "      <th>0</th>\n",
       "      <td>Montréal</td>\n",
       "      <td>Canada</td>\n",
       "      <td>Mon Oct 30 11:19:41 +0000 2017</td>\n",
       "      <td>NaN</td>\n",
       "      <td>en</td>\n",
       "      <td>NaN</td>\n",
       "      <td>NaN</td>\n",
       "      <td>Montréal, Québec</td>\n",
       "      <td>Québec</td>\n",
       "      <td>&lt;a href=\"http://twitter.com/download/iphone\" r...</td>\n",
       "      <td>b'Fed up with people volontarily wasting their...</td>\n",
       "      <td>@amanniste</td>\n",
       "    </tr>\n",
       "    <tr>\n",
       "      <th>1</th>\n",
       "      <td>Saint John</td>\n",
       "      <td>Canada</td>\n",
       "      <td>Mon Oct 30 11:19:43 +0000 2017</td>\n",
       "      <td>NaN</td>\n",
       "      <td>en</td>\n",
       "      <td>NaN</td>\n",
       "      <td>NaN</td>\n",
       "      <td>Saint John, New Brunswick</td>\n",
       "      <td>New Brunswick</td>\n",
       "      <td>&lt;a href=\"http://twitter.com\" rel=\"nofollow\"&gt;Tw...</td>\n",
       "      <td>b'@imjmichaels I love your performance,  your ...</td>\n",
       "      <td>@Joshstylegaming</td>\n",
       "    </tr>\n",
       "    <tr>\n",
       "      <th>2</th>\n",
       "      <td>Laval</td>\n",
       "      <td>Canada</td>\n",
       "      <td>Mon Oct 30 11:19:40 +0000 2017</td>\n",
       "      <td>DodgersVsAstros,ExtraInnings,MLBWorldSeries</td>\n",
       "      <td>en</td>\n",
       "      <td>NaN</td>\n",
       "      <td>NaN</td>\n",
       "      <td>Laval, Québec</td>\n",
       "      <td>Québec</td>\n",
       "      <td>&lt;a href=\"http://twitter.com/download/iphone\" r...</td>\n",
       "      <td>b'What a game #DodgersVsAstros #ExtraInnings !...</td>\n",
       "      <td>@Pizma</td>\n",
       "    </tr>\n",
       "    <tr>\n",
       "      <th>3</th>\n",
       "      <td>Vancouver</td>\n",
       "      <td>Canada</td>\n",
       "      <td>Mon Oct 30 11:19:52 +0000 2017</td>\n",
       "      <td>nowplaying</td>\n",
       "      <td>en</td>\n",
       "      <td>49.271643</td>\n",
       "      <td>-123.069455</td>\n",
       "      <td>Vancouver, British Columbia</td>\n",
       "      <td>British Columbia</td>\n",
       "      <td>&lt;a href=\"http://www.vjukebox.com\" rel=\"nofollo...</td>\n",
       "      <td>b\"The Whole World by OutKast is #nowplaying in...</td>\n",
       "      <td>@StartleMusic</td>\n",
       "    </tr>\n",
       "    <tr>\n",
       "      <th>4</th>\n",
       "      <td>Canada</td>\n",
       "      <td>Canada</td>\n",
       "      <td>Mon Oct 30 11:19:58 +0000 2017</td>\n",
       "      <td>NaN</td>\n",
       "      <td>en</td>\n",
       "      <td>NaN</td>\n",
       "      <td>NaN</td>\n",
       "      <td>Canada</td>\n",
       "      <td>Canada</td>\n",
       "      <td>&lt;a href=\"http://twitter.com\" rel=\"nofollow\"&gt;Tw...</td>\n",
       "      <td>b'\"EL DIA PERDIDO EN LA HISTORIA \"\\\\nPastor Do...</td>\n",
       "      <td>@zingholdings</td>\n",
       "    </tr>\n",
       "  </tbody>\n",
       "</table>\n",
       "</div>"
      ],
      "text/plain": [
       "         city country                      created_at  \\\n",
       "0    Montréal  Canada  Mon Oct 30 11:19:41 +0000 2017   \n",
       "1  Saint John  Canada  Mon Oct 30 11:19:43 +0000 2017   \n",
       "2       Laval  Canada  Mon Oct 30 11:19:40 +0000 2017   \n",
       "3   Vancouver  Canada  Mon Oct 30 11:19:52 +0000 2017   \n",
       "4      Canada  Canada  Mon Oct 30 11:19:58 +0000 2017   \n",
       "\n",
       "                                      hashtags lang   latitude   longitude  \\\n",
       "0                                          NaN   en        NaN         NaN   \n",
       "1                                          NaN   en        NaN         NaN   \n",
       "2  DodgersVsAstros,ExtraInnings,MLBWorldSeries   en        NaN         NaN   \n",
       "3                                   nowplaying   en  49.271643 -123.069455   \n",
       "4                                          NaN   en        NaN         NaN   \n",
       "\n",
       "                     placename          province  \\\n",
       "0             Montréal, Québec            Québec   \n",
       "1    Saint John, New Brunswick     New Brunswick   \n",
       "2                Laval, Québec            Québec   \n",
       "3  Vancouver, British Columbia  British Columbia   \n",
       "4                       Canada            Canada   \n",
       "\n",
       "                                              source  \\\n",
       "0  <a href=\"http://twitter.com/download/iphone\" r...   \n",
       "1  <a href=\"http://twitter.com\" rel=\"nofollow\">Tw...   \n",
       "2  <a href=\"http://twitter.com/download/iphone\" r...   \n",
       "3  <a href=\"http://www.vjukebox.com\" rel=\"nofollo...   \n",
       "4  <a href=\"http://twitter.com\" rel=\"nofollow\">Tw...   \n",
       "\n",
       "                                                text              user  \n",
       "0  b'Fed up with people volontarily wasting their...        @amanniste  \n",
       "1  b'@imjmichaels I love your performance,  your ...  @Joshstylegaming  \n",
       "2  b'What a game #DodgersVsAstros #ExtraInnings !...            @Pizma  \n",
       "3  b\"The Whole World by OutKast is #nowplaying in...     @StartleMusic  \n",
       "4  b'\"EL DIA PERDIDO EN LA HISTORIA \"\\\\nPastor Do...     @zingholdings  "
      ]
     },
     "execution_count": 19,
     "metadata": {},
     "output_type": "execute_result"
    }
   ],
   "source": [
    "tweets_df = pd.read_csv('./data/tweets_december.csv')\n",
    "tweets_df.head()"
   ]
  },
  {
   "cell_type": "code",
   "execution_count": 311,
   "metadata": {
    "collapsed": false
   },
   "outputs": [
    {
     "name": "stdout",
     "output_type": "stream",
     "text": [
      "Total # tweets: 3293051\n",
      "English tweets: 2685641\n",
      "French tweets: 121712\n",
      "Other language: 485698\n"
     ]
    }
   ],
   "source": [
    "print(\"Total # tweets:\", len(tweets_df))\n",
    "print(\"English tweets:\", len(tweets_df.loc[tweets_df.lang == 'en']))\n",
    "print(\"French tweets:\", len(tweets_df.loc[tweets_df.lang == 'fr']))\n",
    "print(\"Other language:\", len(tweets_df.loc[(tweets_df.lang != 'en') & (tweets_df.lang != 'fr')]))"
   ]
  },
  {
   "cell_type": "code",
   "execution_count": 338,
   "metadata": {
    "collapsed": false
   },
   "outputs": [
    {
     "ename": "KeyboardInterrupt",
     "evalue": "",
     "output_type": "error",
     "traceback": [
      "\u001b[0;31m---------------------------------------------------------------------------\u001b[0m",
      "\u001b[0;31mTypeError\u001b[0m                                 Traceback (most recent call last)",
      "\u001b[0;32m/opt/anaconda3/lib/python3.5/site-packages/requests/packages/urllib3/connectionpool.py\u001b[0m in \u001b[0;36m_make_request\u001b[0;34m(self, conn, method, url, timeout, chunked, **httplib_request_kw)\u001b[0m\n\u001b[1;32m    378\u001b[0m             \u001b[0;32mtry\u001b[0m\u001b[0;34m:\u001b[0m  \u001b[0;31m# Python 2.7, use buffering of HTTP responses\u001b[0m\u001b[0;34m\u001b[0m\u001b[0m\n\u001b[0;32m--> 379\u001b[0;31m                 \u001b[0mhttplib_response\u001b[0m \u001b[0;34m=\u001b[0m \u001b[0mconn\u001b[0m\u001b[0;34m.\u001b[0m\u001b[0mgetresponse\u001b[0m\u001b[0;34m(\u001b[0m\u001b[0mbuffering\u001b[0m\u001b[0;34m=\u001b[0m\u001b[0;32mTrue\u001b[0m\u001b[0;34m)\u001b[0m\u001b[0;34m\u001b[0m\u001b[0m\n\u001b[0m\u001b[1;32m    380\u001b[0m             \u001b[0;32mexcept\u001b[0m \u001b[0mTypeError\u001b[0m\u001b[0;34m:\u001b[0m  \u001b[0;31m# Python 2.6 and older, Python 3\u001b[0m\u001b[0;34m\u001b[0m\u001b[0m\n",
      "\u001b[0;31mTypeError\u001b[0m: getresponse() got an unexpected keyword argument 'buffering'",
      "\nDuring handling of the above exception, another exception occurred:\n",
      "\u001b[0;31mKeyboardInterrupt\u001b[0m                         Traceback (most recent call last)",
      "\u001b[0;32m<ipython-input-338-fed6c5363bbd>\u001b[0m in \u001b[0;36m<module>\u001b[0;34m()\u001b[0m\n\u001b[1;32m      7\u001b[0m         \u001b[0;32mreturn\u001b[0m \u001b[0mx\u001b[0m\u001b[0;34m.\u001b[0m\u001b[0mtext\u001b[0m\u001b[0;34m\u001b[0m\u001b[0m\n\u001b[1;32m      8\u001b[0m \u001b[0;34m\u001b[0m\u001b[0m\n\u001b[0;32m----> 9\u001b[0;31m \u001b[0mtranslated\u001b[0m \u001b[0;34m=\u001b[0m \u001b[0mtweets_df\u001b[0m\u001b[0;34m.\u001b[0m\u001b[0mloc\u001b[0m\u001b[0;34m[\u001b[0m\u001b[0;34m:\u001b[0m\u001b[0;36m1000000\u001b[0m\u001b[0;34m]\u001b[0m\u001b[0;34m.\u001b[0m\u001b[0mapply\u001b[0m\u001b[0;34m(\u001b[0m\u001b[0mtranslate\u001b[0m\u001b[0;34m,\u001b[0m \u001b[0maxis\u001b[0m\u001b[0;34m=\u001b[0m\u001b[0;36m1\u001b[0m\u001b[0;34m)\u001b[0m\u001b[0;34m\u001b[0m\u001b[0m\n\u001b[0m",
      "\u001b[0;32m/opt/anaconda3/lib/python3.5/site-packages/pandas/core/frame.py\u001b[0m in \u001b[0;36mapply\u001b[0;34m(self, func, axis, broadcast, raw, reduce, args, **kwds)\u001b[0m\n\u001b[1;32m   4260\u001b[0m                         \u001b[0mf\u001b[0m\u001b[0;34m,\u001b[0m \u001b[0maxis\u001b[0m\u001b[0;34m,\u001b[0m\u001b[0;34m\u001b[0m\u001b[0m\n\u001b[1;32m   4261\u001b[0m                         \u001b[0mreduce\u001b[0m\u001b[0;34m=\u001b[0m\u001b[0mreduce\u001b[0m\u001b[0;34m,\u001b[0m\u001b[0;34m\u001b[0m\u001b[0m\n\u001b[0;32m-> 4262\u001b[0;31m                         ignore_failures=ignore_failures)\n\u001b[0m\u001b[1;32m   4263\u001b[0m             \u001b[0;32melse\u001b[0m\u001b[0;34m:\u001b[0m\u001b[0;34m\u001b[0m\u001b[0m\n\u001b[1;32m   4264\u001b[0m                 \u001b[0;32mreturn\u001b[0m \u001b[0mself\u001b[0m\u001b[0;34m.\u001b[0m\u001b[0m_apply_broadcast\u001b[0m\u001b[0;34m(\u001b[0m\u001b[0mf\u001b[0m\u001b[0;34m,\u001b[0m \u001b[0maxis\u001b[0m\u001b[0;34m)\u001b[0m\u001b[0;34m\u001b[0m\u001b[0m\n",
      "\u001b[0;32m/opt/anaconda3/lib/python3.5/site-packages/pandas/core/frame.py\u001b[0m in \u001b[0;36m_apply_standard\u001b[0;34m(self, func, axis, ignore_failures, reduce)\u001b[0m\n\u001b[1;32m   4316\u001b[0m                     \u001b[0mlabels\u001b[0m \u001b[0;34m=\u001b[0m \u001b[0mself\u001b[0m\u001b[0;34m.\u001b[0m\u001b[0m_get_agg_axis\u001b[0m\u001b[0;34m(\u001b[0m\u001b[0maxis\u001b[0m\u001b[0;34m)\u001b[0m\u001b[0;34m\u001b[0m\u001b[0m\n\u001b[1;32m   4317\u001b[0m                     result = lib.reduce(values, func, axis=axis, dummy=dummy,\n\u001b[0;32m-> 4318\u001b[0;31m                                         labels=labels)\n\u001b[0m\u001b[1;32m   4319\u001b[0m                     \u001b[0;32mreturn\u001b[0m \u001b[0mSeries\u001b[0m\u001b[0;34m(\u001b[0m\u001b[0mresult\u001b[0m\u001b[0;34m,\u001b[0m \u001b[0mindex\u001b[0m\u001b[0;34m=\u001b[0m\u001b[0mlabels\u001b[0m\u001b[0;34m)\u001b[0m\u001b[0;34m\u001b[0m\u001b[0m\n\u001b[1;32m   4320\u001b[0m                 \u001b[0;32mexcept\u001b[0m \u001b[0mException\u001b[0m\u001b[0;34m:\u001b[0m\u001b[0;34m\u001b[0m\u001b[0m\n",
      "\u001b[0;32mpandas/_libs/src/reduce.pyx\u001b[0m in \u001b[0;36mpandas._libs.lib.reduce (pandas/_libs/lib.c:44036)\u001b[0;34m()\u001b[0m\n",
      "\u001b[0;32mpandas/_libs/src/reduce.pyx\u001b[0m in \u001b[0;36mpandas._libs.lib.Reducer.get_result (pandas/_libs/lib.c:33629)\u001b[0;34m()\u001b[0m\n",
      "\u001b[0;32m<ipython-input-338-fed6c5363bbd>\u001b[0m in \u001b[0;36mtranslate\u001b[0;34m(x)\u001b[0m\n\u001b[1;32m      3\u001b[0m \u001b[0;32mdef\u001b[0m \u001b[0mtranslate\u001b[0m\u001b[0;34m(\u001b[0m\u001b[0mx\u001b[0m\u001b[0;34m)\u001b[0m\u001b[0;34m:\u001b[0m\u001b[0;34m\u001b[0m\u001b[0m\n\u001b[1;32m      4\u001b[0m     \u001b[0;32mif\u001b[0m \u001b[0mx\u001b[0m\u001b[0;34m.\u001b[0m\u001b[0mlang\u001b[0m \u001b[0;34m!=\u001b[0m \u001b[0;34m'en'\u001b[0m\u001b[0;34m:\u001b[0m\u001b[0;34m\u001b[0m\u001b[0m\n\u001b[0;32m----> 5\u001b[0;31m         \u001b[0;32mreturn\u001b[0m \u001b[0mtranslator\u001b[0m\u001b[0;34m.\u001b[0m\u001b[0mtranslate\u001b[0m\u001b[0;34m(\u001b[0m\u001b[0mstr\u001b[0m\u001b[0;34m(\u001b[0m\u001b[0mx\u001b[0m\u001b[0;34m.\u001b[0m\u001b[0mtext\u001b[0m\u001b[0;34m)\u001b[0m\u001b[0;34m)\u001b[0m\u001b[0;34m.\u001b[0m\u001b[0mtext\u001b[0m\u001b[0;34m\u001b[0m\u001b[0m\n\u001b[0m\u001b[1;32m      6\u001b[0m     \u001b[0;32melse\u001b[0m\u001b[0;34m:\u001b[0m\u001b[0;34m\u001b[0m\u001b[0m\n\u001b[1;32m      7\u001b[0m         \u001b[0;32mreturn\u001b[0m \u001b[0mx\u001b[0m\u001b[0;34m.\u001b[0m\u001b[0mtext\u001b[0m\u001b[0;34m\u001b[0m\u001b[0m\n",
      "\u001b[0;32m/opt/anaconda3/lib/python3.5/site-packages/googletrans/client.py\u001b[0m in \u001b[0;36mtranslate\u001b[0;34m(self, text, dest, src)\u001b[0m\n\u001b[1;32m    130\u001b[0m \u001b[0;34m\u001b[0m\u001b[0m\n\u001b[1;32m    131\u001b[0m         \u001b[0morigin\u001b[0m \u001b[0;34m=\u001b[0m \u001b[0mtext\u001b[0m\u001b[0;34m\u001b[0m\u001b[0m\n\u001b[0;32m--> 132\u001b[0;31m         \u001b[0mdata\u001b[0m \u001b[0;34m=\u001b[0m \u001b[0mself\u001b[0m\u001b[0;34m.\u001b[0m\u001b[0m_translate\u001b[0m\u001b[0;34m(\u001b[0m\u001b[0mtext\u001b[0m\u001b[0;34m,\u001b[0m \u001b[0mdest\u001b[0m\u001b[0;34m,\u001b[0m \u001b[0msrc\u001b[0m\u001b[0;34m)\u001b[0m\u001b[0;34m\u001b[0m\u001b[0m\n\u001b[0m\u001b[1;32m    133\u001b[0m \u001b[0;34m\u001b[0m\u001b[0m\n\u001b[1;32m    134\u001b[0m         \u001b[0;31m# this code will be updated when the format is changed.\u001b[0m\u001b[0;34m\u001b[0m\u001b[0;34m\u001b[0m\u001b[0m\n",
      "\u001b[0;32m/opt/anaconda3/lib/python3.5/site-packages/googletrans/client.py\u001b[0m in \u001b[0;36m_translate\u001b[0;34m(self, text, dest, src)\u001b[0m\n\u001b[1;32m     59\u001b[0m                                     token=token)\n\u001b[1;32m     60\u001b[0m         \u001b[0murl\u001b[0m \u001b[0;34m=\u001b[0m \u001b[0murls\u001b[0m\u001b[0;34m.\u001b[0m\u001b[0mTRANSLATE\u001b[0m\u001b[0;34m.\u001b[0m\u001b[0mformat\u001b[0m\u001b[0;34m(\u001b[0m\u001b[0mhost\u001b[0m\u001b[0;34m=\u001b[0m\u001b[0mself\u001b[0m\u001b[0;34m.\u001b[0m\u001b[0m_pick_service_url\u001b[0m\u001b[0;34m(\u001b[0m\u001b[0;34m)\u001b[0m\u001b[0;34m)\u001b[0m\u001b[0;34m\u001b[0m\u001b[0m\n\u001b[0;32m---> 61\u001b[0;31m         \u001b[0mr\u001b[0m \u001b[0;34m=\u001b[0m \u001b[0mself\u001b[0m\u001b[0;34m.\u001b[0m\u001b[0msession\u001b[0m\u001b[0;34m.\u001b[0m\u001b[0mget\u001b[0m\u001b[0;34m(\u001b[0m\u001b[0murl\u001b[0m\u001b[0;34m,\u001b[0m \u001b[0mparams\u001b[0m\u001b[0;34m=\u001b[0m\u001b[0mparams\u001b[0m\u001b[0;34m)\u001b[0m\u001b[0;34m\u001b[0m\u001b[0m\n\u001b[0m\u001b[1;32m     62\u001b[0m \u001b[0;34m\u001b[0m\u001b[0m\n\u001b[1;32m     63\u001b[0m         \u001b[0mdata\u001b[0m \u001b[0;34m=\u001b[0m \u001b[0mutils\u001b[0m\u001b[0;34m.\u001b[0m\u001b[0mformat_json\u001b[0m\u001b[0;34m(\u001b[0m\u001b[0mr\u001b[0m\u001b[0;34m.\u001b[0m\u001b[0mtext\u001b[0m\u001b[0;34m)\u001b[0m\u001b[0;34m\u001b[0m\u001b[0m\n",
      "\u001b[0;32m/opt/anaconda3/lib/python3.5/site-packages/requests/sessions.py\u001b[0m in \u001b[0;36mget\u001b[0;34m(self, url, **kwargs)\u001b[0m\n\u001b[1;32m    529\u001b[0m \u001b[0;34m\u001b[0m\u001b[0m\n\u001b[1;32m    530\u001b[0m         \u001b[0mkwargs\u001b[0m\u001b[0;34m.\u001b[0m\u001b[0msetdefault\u001b[0m\u001b[0;34m(\u001b[0m\u001b[0;34m'allow_redirects'\u001b[0m\u001b[0;34m,\u001b[0m \u001b[0;32mTrue\u001b[0m\u001b[0;34m)\u001b[0m\u001b[0;34m\u001b[0m\u001b[0m\n\u001b[0;32m--> 531\u001b[0;31m         \u001b[0;32mreturn\u001b[0m \u001b[0mself\u001b[0m\u001b[0;34m.\u001b[0m\u001b[0mrequest\u001b[0m\u001b[0;34m(\u001b[0m\u001b[0;34m'GET'\u001b[0m\u001b[0;34m,\u001b[0m \u001b[0murl\u001b[0m\u001b[0;34m,\u001b[0m \u001b[0;34m**\u001b[0m\u001b[0mkwargs\u001b[0m\u001b[0;34m)\u001b[0m\u001b[0;34m\u001b[0m\u001b[0m\n\u001b[0m\u001b[1;32m    532\u001b[0m \u001b[0;34m\u001b[0m\u001b[0m\n\u001b[1;32m    533\u001b[0m     \u001b[0;32mdef\u001b[0m \u001b[0moptions\u001b[0m\u001b[0;34m(\u001b[0m\u001b[0mself\u001b[0m\u001b[0;34m,\u001b[0m \u001b[0murl\u001b[0m\u001b[0;34m,\u001b[0m \u001b[0;34m**\u001b[0m\u001b[0mkwargs\u001b[0m\u001b[0;34m)\u001b[0m\u001b[0;34m:\u001b[0m\u001b[0;34m\u001b[0m\u001b[0m\n",
      "\u001b[0;32m/opt/anaconda3/lib/python3.5/site-packages/requests/sessions.py\u001b[0m in \u001b[0;36mrequest\u001b[0;34m(self, method, url, params, data, headers, cookies, files, auth, timeout, allow_redirects, proxies, hooks, stream, verify, cert, json)\u001b[0m\n\u001b[1;32m    516\u001b[0m         }\n\u001b[1;32m    517\u001b[0m         \u001b[0msend_kwargs\u001b[0m\u001b[0;34m.\u001b[0m\u001b[0mupdate\u001b[0m\u001b[0;34m(\u001b[0m\u001b[0msettings\u001b[0m\u001b[0;34m)\u001b[0m\u001b[0;34m\u001b[0m\u001b[0m\n\u001b[0;32m--> 518\u001b[0;31m         \u001b[0mresp\u001b[0m \u001b[0;34m=\u001b[0m \u001b[0mself\u001b[0m\u001b[0;34m.\u001b[0m\u001b[0msend\u001b[0m\u001b[0;34m(\u001b[0m\u001b[0mprep\u001b[0m\u001b[0;34m,\u001b[0m \u001b[0;34m**\u001b[0m\u001b[0msend_kwargs\u001b[0m\u001b[0;34m)\u001b[0m\u001b[0;34m\u001b[0m\u001b[0m\n\u001b[0m\u001b[1;32m    519\u001b[0m \u001b[0;34m\u001b[0m\u001b[0m\n\u001b[1;32m    520\u001b[0m         \u001b[0;32mreturn\u001b[0m \u001b[0mresp\u001b[0m\u001b[0;34m\u001b[0m\u001b[0m\n",
      "\u001b[0;32m/opt/anaconda3/lib/python3.5/site-packages/requests/sessions.py\u001b[0m in \u001b[0;36msend\u001b[0;34m(self, request, **kwargs)\u001b[0m\n\u001b[1;32m    637\u001b[0m \u001b[0;34m\u001b[0m\u001b[0m\n\u001b[1;32m    638\u001b[0m         \u001b[0;31m# Send the request\u001b[0m\u001b[0;34m\u001b[0m\u001b[0;34m\u001b[0m\u001b[0m\n\u001b[0;32m--> 639\u001b[0;31m         \u001b[0mr\u001b[0m \u001b[0;34m=\u001b[0m \u001b[0madapter\u001b[0m\u001b[0;34m.\u001b[0m\u001b[0msend\u001b[0m\u001b[0;34m(\u001b[0m\u001b[0mrequest\u001b[0m\u001b[0;34m,\u001b[0m \u001b[0;34m**\u001b[0m\u001b[0mkwargs\u001b[0m\u001b[0;34m)\u001b[0m\u001b[0;34m\u001b[0m\u001b[0m\n\u001b[0m\u001b[1;32m    640\u001b[0m \u001b[0;34m\u001b[0m\u001b[0m\n\u001b[1;32m    641\u001b[0m         \u001b[0;31m# Total elapsed time of the request (approximately)\u001b[0m\u001b[0;34m\u001b[0m\u001b[0;34m\u001b[0m\u001b[0m\n",
      "\u001b[0;32m/opt/anaconda3/lib/python3.5/site-packages/requests/adapters.py\u001b[0m in \u001b[0;36msend\u001b[0;34m(self, request, stream, timeout, verify, cert, proxies)\u001b[0m\n\u001b[1;32m    436\u001b[0m                     \u001b[0mdecode_content\u001b[0m\u001b[0;34m=\u001b[0m\u001b[0;32mFalse\u001b[0m\u001b[0;34m,\u001b[0m\u001b[0;34m\u001b[0m\u001b[0m\n\u001b[1;32m    437\u001b[0m                     \u001b[0mretries\u001b[0m\u001b[0;34m=\u001b[0m\u001b[0mself\u001b[0m\u001b[0;34m.\u001b[0m\u001b[0mmax_retries\u001b[0m\u001b[0;34m,\u001b[0m\u001b[0;34m\u001b[0m\u001b[0m\n\u001b[0;32m--> 438\u001b[0;31m                     \u001b[0mtimeout\u001b[0m\u001b[0;34m=\u001b[0m\u001b[0mtimeout\u001b[0m\u001b[0;34m\u001b[0m\u001b[0m\n\u001b[0m\u001b[1;32m    439\u001b[0m                 )\n\u001b[1;32m    440\u001b[0m \u001b[0;34m\u001b[0m\u001b[0m\n",
      "\u001b[0;32m/opt/anaconda3/lib/python3.5/site-packages/requests/packages/urllib3/connectionpool.py\u001b[0m in \u001b[0;36murlopen\u001b[0;34m(self, method, url, body, headers, retries, redirect, assert_same_host, timeout, pool_timeout, release_conn, chunked, body_pos, **response_kw)\u001b[0m\n\u001b[1;32m    598\u001b[0m                                                   \u001b[0mtimeout\u001b[0m\u001b[0;34m=\u001b[0m\u001b[0mtimeout_obj\u001b[0m\u001b[0;34m,\u001b[0m\u001b[0;34m\u001b[0m\u001b[0m\n\u001b[1;32m    599\u001b[0m                                                   \u001b[0mbody\u001b[0m\u001b[0;34m=\u001b[0m\u001b[0mbody\u001b[0m\u001b[0;34m,\u001b[0m \u001b[0mheaders\u001b[0m\u001b[0;34m=\u001b[0m\u001b[0mheaders\u001b[0m\u001b[0;34m,\u001b[0m\u001b[0;34m\u001b[0m\u001b[0m\n\u001b[0;32m--> 600\u001b[0;31m                                                   chunked=chunked)\n\u001b[0m\u001b[1;32m    601\u001b[0m \u001b[0;34m\u001b[0m\u001b[0m\n\u001b[1;32m    602\u001b[0m             \u001b[0;31m# If we're going to release the connection in ``finally:``, then\u001b[0m\u001b[0;34m\u001b[0m\u001b[0;34m\u001b[0m\u001b[0m\n",
      "\u001b[0;32m/opt/anaconda3/lib/python3.5/site-packages/requests/packages/urllib3/connectionpool.py\u001b[0m in \u001b[0;36m_make_request\u001b[0;34m(self, conn, method, url, timeout, chunked, **httplib_request_kw)\u001b[0m\n\u001b[1;32m    380\u001b[0m             \u001b[0;32mexcept\u001b[0m \u001b[0mTypeError\u001b[0m\u001b[0;34m:\u001b[0m  \u001b[0;31m# Python 2.6 and older, Python 3\u001b[0m\u001b[0;34m\u001b[0m\u001b[0m\n\u001b[1;32m    381\u001b[0m                 \u001b[0;32mtry\u001b[0m\u001b[0;34m:\u001b[0m\u001b[0;34m\u001b[0m\u001b[0m\n\u001b[0;32m--> 382\u001b[0;31m                     \u001b[0mhttplib_response\u001b[0m \u001b[0;34m=\u001b[0m \u001b[0mconn\u001b[0m\u001b[0;34m.\u001b[0m\u001b[0mgetresponse\u001b[0m\u001b[0;34m(\u001b[0m\u001b[0;34m)\u001b[0m\u001b[0;34m\u001b[0m\u001b[0m\n\u001b[0m\u001b[1;32m    383\u001b[0m                 \u001b[0;32mexcept\u001b[0m \u001b[0mException\u001b[0m \u001b[0;32mas\u001b[0m \u001b[0me\u001b[0m\u001b[0;34m:\u001b[0m\u001b[0;34m\u001b[0m\u001b[0m\n\u001b[1;32m    384\u001b[0m                     \u001b[0;31m# Remove the TypeError from the exception chain in Python 3;\u001b[0m\u001b[0;34m\u001b[0m\u001b[0;34m\u001b[0m\u001b[0m\n",
      "\u001b[0;32m/opt/anaconda3/lib/python3.5/http/client.py\u001b[0m in \u001b[0;36mgetresponse\u001b[0;34m(self)\u001b[0m\n\u001b[1;32m   1196\u001b[0m         \u001b[0;32mtry\u001b[0m\u001b[0;34m:\u001b[0m\u001b[0;34m\u001b[0m\u001b[0m\n\u001b[1;32m   1197\u001b[0m             \u001b[0;32mtry\u001b[0m\u001b[0;34m:\u001b[0m\u001b[0;34m\u001b[0m\u001b[0m\n\u001b[0;32m-> 1198\u001b[0;31m                 \u001b[0mresponse\u001b[0m\u001b[0;34m.\u001b[0m\u001b[0mbegin\u001b[0m\u001b[0;34m(\u001b[0m\u001b[0;34m)\u001b[0m\u001b[0;34m\u001b[0m\u001b[0m\n\u001b[0m\u001b[1;32m   1199\u001b[0m             \u001b[0;32mexcept\u001b[0m \u001b[0mConnectionError\u001b[0m\u001b[0;34m:\u001b[0m\u001b[0;34m\u001b[0m\u001b[0m\n\u001b[1;32m   1200\u001b[0m                 \u001b[0mself\u001b[0m\u001b[0;34m.\u001b[0m\u001b[0mclose\u001b[0m\u001b[0;34m(\u001b[0m\u001b[0;34m)\u001b[0m\u001b[0;34m\u001b[0m\u001b[0m\n",
      "\u001b[0;32m/opt/anaconda3/lib/python3.5/http/client.py\u001b[0m in \u001b[0;36mbegin\u001b[0;34m(self)\u001b[0m\n\u001b[1;32m    295\u001b[0m         \u001b[0;31m# read until we get a non-100 response\u001b[0m\u001b[0;34m\u001b[0m\u001b[0;34m\u001b[0m\u001b[0m\n\u001b[1;32m    296\u001b[0m         \u001b[0;32mwhile\u001b[0m \u001b[0;32mTrue\u001b[0m\u001b[0;34m:\u001b[0m\u001b[0;34m\u001b[0m\u001b[0m\n\u001b[0;32m--> 297\u001b[0;31m             \u001b[0mversion\u001b[0m\u001b[0;34m,\u001b[0m \u001b[0mstatus\u001b[0m\u001b[0;34m,\u001b[0m \u001b[0mreason\u001b[0m \u001b[0;34m=\u001b[0m \u001b[0mself\u001b[0m\u001b[0;34m.\u001b[0m\u001b[0m_read_status\u001b[0m\u001b[0;34m(\u001b[0m\u001b[0;34m)\u001b[0m\u001b[0;34m\u001b[0m\u001b[0m\n\u001b[0m\u001b[1;32m    298\u001b[0m             \u001b[0;32mif\u001b[0m \u001b[0mstatus\u001b[0m \u001b[0;34m!=\u001b[0m \u001b[0mCONTINUE\u001b[0m\u001b[0;34m:\u001b[0m\u001b[0;34m\u001b[0m\u001b[0m\n\u001b[1;32m    299\u001b[0m                 \u001b[0;32mbreak\u001b[0m\u001b[0;34m\u001b[0m\u001b[0m\n",
      "\u001b[0;32m/opt/anaconda3/lib/python3.5/http/client.py\u001b[0m in \u001b[0;36m_read_status\u001b[0;34m(self)\u001b[0m\n\u001b[1;32m    256\u001b[0m \u001b[0;34m\u001b[0m\u001b[0m\n\u001b[1;32m    257\u001b[0m     \u001b[0;32mdef\u001b[0m \u001b[0m_read_status\u001b[0m\u001b[0;34m(\u001b[0m\u001b[0mself\u001b[0m\u001b[0;34m)\u001b[0m\u001b[0;34m:\u001b[0m\u001b[0;34m\u001b[0m\u001b[0m\n\u001b[0;32m--> 258\u001b[0;31m         \u001b[0mline\u001b[0m \u001b[0;34m=\u001b[0m \u001b[0mstr\u001b[0m\u001b[0;34m(\u001b[0m\u001b[0mself\u001b[0m\u001b[0;34m.\u001b[0m\u001b[0mfp\u001b[0m\u001b[0;34m.\u001b[0m\u001b[0mreadline\u001b[0m\u001b[0;34m(\u001b[0m\u001b[0m_MAXLINE\u001b[0m \u001b[0;34m+\u001b[0m \u001b[0;36m1\u001b[0m\u001b[0;34m)\u001b[0m\u001b[0;34m,\u001b[0m \u001b[0;34m\"iso-8859-1\"\u001b[0m\u001b[0;34m)\u001b[0m\u001b[0;34m\u001b[0m\u001b[0m\n\u001b[0m\u001b[1;32m    259\u001b[0m         \u001b[0;32mif\u001b[0m \u001b[0mlen\u001b[0m\u001b[0;34m(\u001b[0m\u001b[0mline\u001b[0m\u001b[0;34m)\u001b[0m \u001b[0;34m>\u001b[0m \u001b[0m_MAXLINE\u001b[0m\u001b[0;34m:\u001b[0m\u001b[0;34m\u001b[0m\u001b[0m\n\u001b[1;32m    260\u001b[0m             \u001b[0;32mraise\u001b[0m \u001b[0mLineTooLong\u001b[0m\u001b[0;34m(\u001b[0m\u001b[0;34m\"status line\"\u001b[0m\u001b[0;34m)\u001b[0m\u001b[0;34m\u001b[0m\u001b[0m\n",
      "\u001b[0;32m/opt/anaconda3/lib/python3.5/socket.py\u001b[0m in \u001b[0;36mreadinto\u001b[0;34m(self, b)\u001b[0m\n\u001b[1;32m    574\u001b[0m         \u001b[0;32mwhile\u001b[0m \u001b[0;32mTrue\u001b[0m\u001b[0;34m:\u001b[0m\u001b[0;34m\u001b[0m\u001b[0m\n\u001b[1;32m    575\u001b[0m             \u001b[0;32mtry\u001b[0m\u001b[0;34m:\u001b[0m\u001b[0;34m\u001b[0m\u001b[0m\n\u001b[0;32m--> 576\u001b[0;31m                 \u001b[0;32mreturn\u001b[0m \u001b[0mself\u001b[0m\u001b[0;34m.\u001b[0m\u001b[0m_sock\u001b[0m\u001b[0;34m.\u001b[0m\u001b[0mrecv_into\u001b[0m\u001b[0;34m(\u001b[0m\u001b[0mb\u001b[0m\u001b[0;34m)\u001b[0m\u001b[0;34m\u001b[0m\u001b[0m\n\u001b[0m\u001b[1;32m    577\u001b[0m             \u001b[0;32mexcept\u001b[0m \u001b[0mtimeout\u001b[0m\u001b[0;34m:\u001b[0m\u001b[0;34m\u001b[0m\u001b[0m\n\u001b[1;32m    578\u001b[0m                 \u001b[0mself\u001b[0m\u001b[0;34m.\u001b[0m\u001b[0m_timeout_occurred\u001b[0m \u001b[0;34m=\u001b[0m \u001b[0;32mTrue\u001b[0m\u001b[0;34m\u001b[0m\u001b[0m\n",
      "\u001b[0;32m/opt/anaconda3/lib/python3.5/site-packages/requests/packages/urllib3/contrib/pyopenssl.py\u001b[0m in \u001b[0;36mrecv_into\u001b[0;34m(self, *args, **kwargs)\u001b[0m\n\u001b[1;32m    275\u001b[0m     \u001b[0;32mdef\u001b[0m \u001b[0mrecv_into\u001b[0m\u001b[0;34m(\u001b[0m\u001b[0mself\u001b[0m\u001b[0;34m,\u001b[0m \u001b[0;34m*\u001b[0m\u001b[0margs\u001b[0m\u001b[0;34m,\u001b[0m \u001b[0;34m**\u001b[0m\u001b[0mkwargs\u001b[0m\u001b[0;34m)\u001b[0m\u001b[0;34m:\u001b[0m\u001b[0;34m\u001b[0m\u001b[0m\n\u001b[1;32m    276\u001b[0m         \u001b[0;32mtry\u001b[0m\u001b[0;34m:\u001b[0m\u001b[0;34m\u001b[0m\u001b[0m\n\u001b[0;32m--> 277\u001b[0;31m             \u001b[0;32mreturn\u001b[0m \u001b[0mself\u001b[0m\u001b[0;34m.\u001b[0m\u001b[0mconnection\u001b[0m\u001b[0;34m.\u001b[0m\u001b[0mrecv_into\u001b[0m\u001b[0;34m(\u001b[0m\u001b[0;34m*\u001b[0m\u001b[0margs\u001b[0m\u001b[0;34m,\u001b[0m \u001b[0;34m**\u001b[0m\u001b[0mkwargs\u001b[0m\u001b[0;34m)\u001b[0m\u001b[0;34m\u001b[0m\u001b[0m\n\u001b[0m\u001b[1;32m    278\u001b[0m         \u001b[0;32mexcept\u001b[0m \u001b[0mOpenSSL\u001b[0m\u001b[0;34m.\u001b[0m\u001b[0mSSL\u001b[0m\u001b[0;34m.\u001b[0m\u001b[0mSysCallError\u001b[0m \u001b[0;32mas\u001b[0m \u001b[0me\u001b[0m\u001b[0;34m:\u001b[0m\u001b[0;34m\u001b[0m\u001b[0m\n\u001b[1;32m    279\u001b[0m             \u001b[0;32mif\u001b[0m \u001b[0mself\u001b[0m\u001b[0;34m.\u001b[0m\u001b[0msuppress_ragged_eofs\u001b[0m \u001b[0;32mand\u001b[0m \u001b[0me\u001b[0m\u001b[0;34m.\u001b[0m\u001b[0margs\u001b[0m \u001b[0;34m==\u001b[0m \u001b[0;34m(\u001b[0m\u001b[0;34m-\u001b[0m\u001b[0;36m1\u001b[0m\u001b[0;34m,\u001b[0m \u001b[0;34m'Unexpected EOF'\u001b[0m\u001b[0;34m)\u001b[0m\u001b[0;34m:\u001b[0m\u001b[0;34m\u001b[0m\u001b[0m\n",
      "\u001b[0;32m/opt/anaconda3/lib/python3.5/site-packages/OpenSSL/SSL.py\u001b[0m in \u001b[0;36mrecv_into\u001b[0;34m(self, buffer, nbytes, flags)\u001b[0m\n\u001b[1;32m   1332\u001b[0m             \u001b[0mresult\u001b[0m \u001b[0;34m=\u001b[0m \u001b[0m_lib\u001b[0m\u001b[0;34m.\u001b[0m\u001b[0mSSL_peek\u001b[0m\u001b[0;34m(\u001b[0m\u001b[0mself\u001b[0m\u001b[0;34m.\u001b[0m\u001b[0m_ssl\u001b[0m\u001b[0;34m,\u001b[0m \u001b[0mbuf\u001b[0m\u001b[0;34m,\u001b[0m \u001b[0mnbytes\u001b[0m\u001b[0;34m)\u001b[0m\u001b[0;34m\u001b[0m\u001b[0m\n\u001b[1;32m   1333\u001b[0m         \u001b[0;32melse\u001b[0m\u001b[0;34m:\u001b[0m\u001b[0;34m\u001b[0m\u001b[0m\n\u001b[0;32m-> 1334\u001b[0;31m             \u001b[0mresult\u001b[0m \u001b[0;34m=\u001b[0m \u001b[0m_lib\u001b[0m\u001b[0;34m.\u001b[0m\u001b[0mSSL_read\u001b[0m\u001b[0;34m(\u001b[0m\u001b[0mself\u001b[0m\u001b[0;34m.\u001b[0m\u001b[0m_ssl\u001b[0m\u001b[0;34m,\u001b[0m \u001b[0mbuf\u001b[0m\u001b[0;34m,\u001b[0m \u001b[0mnbytes\u001b[0m\u001b[0;34m)\u001b[0m\u001b[0;34m\u001b[0m\u001b[0m\n\u001b[0m\u001b[1;32m   1335\u001b[0m         \u001b[0mself\u001b[0m\u001b[0;34m.\u001b[0m\u001b[0m_raise_ssl_error\u001b[0m\u001b[0;34m(\u001b[0m\u001b[0mself\u001b[0m\u001b[0;34m.\u001b[0m\u001b[0m_ssl\u001b[0m\u001b[0;34m,\u001b[0m \u001b[0mresult\u001b[0m\u001b[0;34m)\u001b[0m\u001b[0;34m\u001b[0m\u001b[0m\n\u001b[1;32m   1336\u001b[0m \u001b[0;34m\u001b[0m\u001b[0m\n",
      "\u001b[0;31mKeyboardInterrupt\u001b[0m: "
     ]
    }
   ],
   "source": [
    "translator = Translator()\n",
    "\n",
    "def translate(x):\n",
    "    if x.lang != 'en':\n",
    "        return translator.translate(str(x.text)).text\n",
    "    else:\n",
    "        return x.text\n",
    "\n",
    "translated = tweets_df.loc[:1000000].apply(translate, axis=1)"
   ]
  },
  {
   "cell_type": "code",
   "execution_count": 341,
   "metadata": {
    "collapsed": false
   },
   "outputs": [],
   "source": [
    "tweets_df = tweets_df.drop(tweets_df.loc[(tweets_df.lang != 'en')].index).reset_index(drop=True)"
   ]
  },
  {
   "cell_type": "code",
   "execution_count": 343,
   "metadata": {
    "collapsed": true
   },
   "outputs": [],
   "source": [
    "tweets_df.to_csv('./data/tweets_jan_en.csv', index=False)"
   ]
  },
  {
   "cell_type": "markdown",
   "metadata": {},
   "source": [
    "## Source client used by the user"
   ]
  },
  {
   "cell_type": "code",
   "execution_count": 344,
   "metadata": {
    "collapsed": false
   },
   "outputs": [
    {
     "data": {
      "text/plain": [
       "TPSPostTweet             13759\n",
       "ijg                      23748\n",
       "Tweetbot for iΟS         30778\n",
       "CUBE Live Feed App       31306\n",
       "Twitter for iPad         59815\n",
       "TweetMyJOBS              82560\n",
       "Twitter Web Client      207856\n",
       "Instagram               248230\n",
       "Twitter for Android     613337\n",
       "Twitter for iPhone     1266116\n",
       "Name: source, dtype: int64"
      ]
     },
     "execution_count": 344,
     "metadata": {},
     "output_type": "execute_result"
    },
    {
     "data": {
      "image/png": "[encoded data removed]",
      "text/plain": [
       "<matplotlib.figure.Figure at 0x7ff28495fa58>"
      ]
     },
     "metadata": {},
     "output_type": "display_data"
    }
   ],
   "source": [
    "def get_source_name(x):\n",
    "    value = re.findall(pattern=\"<[^>]+>([^<]+)</a>\", string=x)\n",
    "    if len(value) > 0:\n",
    "        return value[0]\n",
    "    else:\n",
    "        return \"\"\n",
    "\n",
    "tweets_df.source_name = tweets_df.source.apply(get_source_name)\n",
    "\n",
    "source_counts = tweets_df.source_name.value_counts().sort_values()[-10:]\n",
    "\n",
    "bottom = [index for index, item in enumerate(source_counts.index)]\n",
    "plt.barh(bottom, width=source_counts, color=\"orange\", linewidth=0)\n",
    "\n",
    "y_labels = [\"%s %.1f%%\" % (item, 100.0*source_counts[item]/len(tweets_df)) for index,item in enumerate(source_counts.index)]\n",
    "plt.yticks(np.array(bottom)+0.4, y_labels)\n",
    "source_counts"
   ]
  },
  {
   "cell_type": "markdown",
   "metadata": {},
   "source": [
    "## Tweets by region"
   ]
  },
  {
   "cell_type": "code",
   "execution_count": 67,
   "metadata": {
    "collapsed": false
   },
   "outputs": [
    {
     "name": "stderr",
     "output_type": "stream",
     "text": [
      "/home/vmadmin/hdbc/utils.py:158: UserWarning: This pattern has match groups. To actually get the groups, use str.extract.\n",
      "  sedentary_behavior = count_topic(x, sedentary_pattern),\n",
      "/home/vmadmin/hdbc/utils.py:159: UserWarning: This pattern has match groups. To actually get the groups, use str.extract.\n",
      "  sleeping = count_topic(x, sleeping_pattern),\n"
     ]
    },
    {
     "data": {
      "text/html": [
       "<div>\n",
       "<style>\n",
       "    .dataframe thead tr:only-child th {\n",
       "        text-align: right;\n",
       "    }\n",
       "\n",
       "    .dataframe thead th {\n",
       "        text-align: left;\n",
       "    }\n",
       "\n",
       "    .dataframe tbody tr th {\n",
       "        vertical-align: top;\n",
       "    }\n",
       "</style>\n",
       "<table border=\"1\" class=\"dataframe\">\n",
       "  <thead>\n",
       "    <tr style=\"text-align: right;\">\n",
       "      <th></th>\n",
       "      <th>latitude</th>\n",
       "      <th>longitude</th>\n",
       "      <th>num_tweets</th>\n",
       "      <th>physical_activity</th>\n",
       "      <th>sedentary_behavior</th>\n",
       "      <th>sleeping</th>\n",
       "    </tr>\n",
       "    <tr>\n",
       "      <th>placename</th>\n",
       "      <th></th>\n",
       "      <th></th>\n",
       "      <th></th>\n",
       "      <th></th>\n",
       "      <th></th>\n",
       "      <th></th>\n",
       "    </tr>\n",
       "  </thead>\n",
       "  <tbody>\n",
       "    <tr>\n",
       "      <th>Toronto, Ontario</th>\n",
       "      <td>43.684190</td>\n",
       "      <td>-79.384684</td>\n",
       "      <td>141155.0</td>\n",
       "      <td>16433.0</td>\n",
       "      <td>13391.0</td>\n",
       "      <td>6408.0</td>\n",
       "    </tr>\n",
       "    <tr>\n",
       "      <th>Ottawa, Ontario</th>\n",
       "      <td>45.389153</td>\n",
       "      <td>-75.702170</td>\n",
       "      <td>38949.0</td>\n",
       "      <td>5046.0</td>\n",
       "      <td>4301.0</td>\n",
       "      <td>1989.0</td>\n",
       "    </tr>\n",
       "    <tr>\n",
       "      <th>Montréal, Québec</th>\n",
       "      <td>45.508894</td>\n",
       "      <td>-73.585537</td>\n",
       "      <td>35156.0</td>\n",
       "      <td>3274.0</td>\n",
       "      <td>3146.0</td>\n",
       "      <td>1096.0</td>\n",
       "    </tr>\n",
       "    <tr>\n",
       "      <th>Calgary, Alberta</th>\n",
       "      <td>51.040558</td>\n",
       "      <td>-114.071119</td>\n",
       "      <td>33440.0</td>\n",
       "      <td>4204.0</td>\n",
       "      <td>4746.0</td>\n",
       "      <td>3100.0</td>\n",
       "    </tr>\n",
       "    <tr>\n",
       "      <th>Vancouver, British Columbia</th>\n",
       "      <td>49.266033</td>\n",
       "      <td>-123.103556</td>\n",
       "      <td>32934.0</td>\n",
       "      <td>3720.0</td>\n",
       "      <td>3241.0</td>\n",
       "      <td>1541.0</td>\n",
       "    </tr>\n",
       "  </tbody>\n",
       "</table>\n",
       "</div>"
      ],
      "text/plain": [
       "                              latitude   longitude  num_tweets  \\\n",
       "placename                                                        \n",
       "Toronto, Ontario             43.684190  -79.384684    141155.0   \n",
       "Ottawa, Ontario              45.389153  -75.702170     38949.0   \n",
       "Montréal, Québec             45.508894  -73.585537     35156.0   \n",
       "Calgary, Alberta             51.040558 -114.071119     33440.0   \n",
       "Vancouver, British Columbia  49.266033 -123.103556     32934.0   \n",
       "\n",
       "                             physical_activity  sedentary_behavior  sleeping  \n",
       "placename                                                                     \n",
       "Toronto, Ontario                       16433.0             13391.0    6408.0  \n",
       "Ottawa, Ontario                         5046.0              4301.0    1989.0  \n",
       "Montréal, Québec                        3274.0              3146.0    1096.0  \n",
       "Calgary, Alberta                        4204.0              4746.0    3100.0  \n",
       "Vancouver, British Columbia             3720.0              3241.0    1541.0  "
      ]
     },
     "execution_count": 67,
     "metadata": {},
     "output_type": "execute_result"
    }
   ],
   "source": [
    "tweets_df['text'] = tweets_df['text'].astype(str)\n",
    "tweets_df['hashtags'] = tweets_df['hashtags'].astype(str)\n",
    "regions_df = tweets_df.groupby(['placename']).apply(filter_tweets)\n",
    "regions_df = regions_df.sort_values('num_tweets', ascending=False)\n",
    "regions_df.head()"
   ]
  },
  {
   "cell_type": "code",
   "execution_count": 68,
   "metadata": {
    "collapsed": false
   },
   "outputs": [
    {
     "name": "stderr",
     "output_type": "stream",
     "text": [
      "/opt/anaconda3/lib/python3.5/site-packages/ipykernel/__main__.py:1: DeprecationWarning: \n",
      ".ix is deprecated. Please use\n",
      ".loc for label based indexing or\n",
      ".iloc for positional indexing\n",
      "\n",
      "See the documentation here:\n",
      "http://pandas.pydata.org/pandas-docs/stable/indexing.html#deprecate_ix\n",
      "  if __name__ == '__main__':\n"
     ]
    },
    {
     "data": {
      "text/plain": [
       "<matplotlib.axes._subplots.AxesSubplot at 0x7f24947cd8d0>"
      ]
     },
     "execution_count": 68,
     "metadata": {},
     "output_type": "execute_result"
    },
    {
     "data": {
      "image/png": "[encoded data removed]",
      "text/plain": [
       "<matplotlib.figure.Figure at 0x7f24983ff6d8>"
      ]
     },
     "metadata": {},
     "output_type": "display_data"
    }
   ],
   "source": [
    "regions_df.ix[:10, ['physical_activity', 'sedentary_behavior', 'sleeping']].plot(kind='bar', stacked=True)"
   ]
  },
  {
   "cell_type": "code",
   "execution_count": 69,
   "metadata": {
    "collapsed": false
   },
   "outputs": [
    {
     "name": "stdout",
     "output_type": "stream",
     "text": [
      "num_tweets            708586.0\n",
      "physical_activity      85708.0\n",
      "sedentary_behavior     73762.0\n",
      "sleeping               38518.0\n",
      "dtype: float64\n"
     ]
    },
    {
     "data": {
      "text/plain": [
       "<matplotlib.axes._subplots.AxesSubplot at 0x7f2497dd1c88>"
      ]
     },
     "execution_count": 69,
     "metadata": {},
     "output_type": "execute_result"
    },
    {
     "data": {
      "image/png": "[encoded data removed]",
      "text/plain": [
       "<matplotlib.figure.Figure at 0x7f2497da02e8>"
      ]
     },
     "metadata": {},
     "output_type": "display_data"
    }
   ],
   "source": [
    "print(regions_df.loc[:, 'num_tweets':].sum())\n",
    "regions_df.loc[:, 'num_tweets':].sum().plot(kind='bar')"
   ]
  },
  {
   "cell_type": "markdown",
   "metadata": {},
   "source": [
    "## Time series"
   ]
  },
  {
   "cell_type": "code",
   "execution_count": 6,
   "metadata": {
    "collapsed": false
   },
   "outputs": [
    {
     "name": "stderr",
     "output_type": "stream",
     "text": [
      "/home/vmadmin/hdbc/utils.py:162: UserWarning: This pattern has match groups. To actually get the groups, use str.extract.\n",
      "  hashtags = sum(x['hashtags'].str.contains(regex) == True)\n",
      "/home/vmadmin/hdbc/utils.py:163: UserWarning: This pattern has match groups. To actually get the groups, use str.extract.\n",
      "  text = sum(x['text'].str.contains(regex) == True)\n"
     ]
    },
    {
     "name": "stdout",
     "output_type": "stream",
     "text": [
      "CPU times: user 5min 35s, sys: 7.3 s, total: 5min 42s\n",
      "Wall time: 5min 36s\n"
     ]
    }
   ],
   "source": [
    "%%time\n",
    "\n",
    "tweets_df = pd.read_csv('./data/tweets_december.csv')\n",
    "tweets_df['created_at'] = pd.to_datetime(tweets_df['created_at'])\n",
    "tweets_df.index = tweets_df['created_at']\n",
    "regions_df = tweets_df.groupby(['placename', pd.TimeGrouper('W')]).apply(filter_tweets)\n",
    "regions_df = regions_df.sort_values('num_tweets', ascending=False)\n",
    "regions_df.head()"
   ]
  },
  {
   "cell_type": "code",
   "execution_count": 21,
   "metadata": {
    "collapsed": false
   },
   "outputs": [
    {
     "data": {
      "text/html": [
       "<div>\n",
       "<style>\n",
       "    .dataframe thead tr:only-child th {\n",
       "        text-align: right;\n",
       "    }\n",
       "\n",
       "    .dataframe thead th {\n",
       "        text-align: left;\n",
       "    }\n",
       "\n",
       "    .dataframe tbody tr th {\n",
       "        vertical-align: top;\n",
       "    }\n",
       "</style>\n",
       "<table border=\"1\" class=\"dataframe\">\n",
       "  <thead>\n",
       "    <tr style=\"text-align: right;\">\n",
       "      <th></th>\n",
       "      <th></th>\n",
       "      <th>latitude</th>\n",
       "      <th>longitude</th>\n",
       "      <th>num_tweets</th>\n",
       "      <th>physical_activity</th>\n",
       "      <th>sedentary_behavior</th>\n",
       "      <th>sleeping</th>\n",
       "    </tr>\n",
       "    <tr>\n",
       "      <th>placename</th>\n",
       "      <th>created_at</th>\n",
       "      <th></th>\n",
       "      <th></th>\n",
       "      <th></th>\n",
       "      <th></th>\n",
       "      <th></th>\n",
       "      <th></th>\n",
       "    </tr>\n",
       "  </thead>\n",
       "  <tbody>\n",
       "    <tr>\n",
       "      <th rowspan=\"3\" valign=\"top\">Toronto, Ontario</th>\n",
       "      <th>2017-11-26</th>\n",
       "      <td>43.684004</td>\n",
       "      <td>-79.384540</td>\n",
       "      <td>66755.0</td>\n",
       "      <td>1965.0</td>\n",
       "      <td>5594.0</td>\n",
       "      <td>693.0</td>\n",
       "    </tr>\n",
       "    <tr>\n",
       "      <th>2017-12-03</th>\n",
       "      <td>43.683902</td>\n",
       "      <td>-79.383971</td>\n",
       "      <td>35374.0</td>\n",
       "      <td>1051.0</td>\n",
       "      <td>3035.0</td>\n",
       "      <td>368.0</td>\n",
       "    </tr>\n",
       "    <tr>\n",
       "      <th>2017-11-19</th>\n",
       "      <td>43.684893</td>\n",
       "      <td>-79.386084</td>\n",
       "      <td>31232.0</td>\n",
       "      <td>976.0</td>\n",
       "      <td>2756.0</td>\n",
       "      <td>332.0</td>\n",
       "    </tr>\n",
       "    <tr>\n",
       "      <th>Ottawa, Ontario</th>\n",
       "      <th>2017-11-26</th>\n",
       "      <td>45.390090</td>\n",
       "      <td>-75.702173</td>\n",
       "      <td>18430.0</td>\n",
       "      <td>730.0</td>\n",
       "      <td>1846.0</td>\n",
       "      <td>188.0</td>\n",
       "    </tr>\n",
       "    <tr>\n",
       "      <th>Montréal, Québec</th>\n",
       "      <th>2017-11-26</th>\n",
       "      <td>45.508429</td>\n",
       "      <td>-73.584796</td>\n",
       "      <td>16432.0</td>\n",
       "      <td>421.0</td>\n",
       "      <td>1259.0</td>\n",
       "      <td>131.0</td>\n",
       "    </tr>\n",
       "  </tbody>\n",
       "</table>\n",
       "</div>"
      ],
      "text/plain": [
       "                              latitude  longitude  num_tweets  \\\n",
       "placename        created_at                                     \n",
       "Toronto, Ontario 2017-11-26  43.684004 -79.384540     66755.0   \n",
       "                 2017-12-03  43.683902 -79.383971     35374.0   \n",
       "                 2017-11-19  43.684893 -79.386084     31232.0   \n",
       "Ottawa, Ontario  2017-11-26  45.390090 -75.702173     18430.0   \n",
       "Montréal, Québec 2017-11-26  45.508429 -73.584796     16432.0   \n",
       "\n",
       "                             physical_activity  sedentary_behavior  sleeping  \n",
       "placename        created_at                                                   \n",
       "Toronto, Ontario 2017-11-26             1965.0              5594.0     693.0  \n",
       "                 2017-12-03             1051.0              3035.0     368.0  \n",
       "                 2017-11-19              976.0              2756.0     332.0  \n",
       "Ottawa, Ontario  2017-11-26              730.0              1846.0     188.0  \n",
       "Montréal, Québec 2017-11-26              421.0              1259.0     131.0  "
      ]
     },
     "execution_count": 21,
     "metadata": {},
     "output_type": "execute_result"
    }
   ],
   "source": [
    "regions_df = regions_df.sort_values('num_tweets', ascending=False)\n",
    "regions_df.head()"
   ]
  },
  {
   "cell_type": "code",
   "execution_count": 7,
   "metadata": {
    "collapsed": true
   },
   "outputs": [],
   "source": [
    "regions_df.to_csv('./data/regions_weekly.csv')"
   ]
  },
  {
   "cell_type": "code",
   "execution_count": 142,
   "metadata": {
    "collapsed": false
   },
   "outputs": [
    {
     "data": {
      "text/plain": [
       "<matplotlib.axes._subplots.AxesSubplot at 0x7f248fb7c908>"
      ]
     },
     "execution_count": 142,
     "metadata": {},
     "output_type": "execute_result"
    },
    {
     "data": {
      "image/png": "[encoded data removed]",
      "text/plain": [
       "<matplotlib.figure.Figure at 0x7f2490753780>"
      ]
     },
     "metadata": {},
     "output_type": "display_data"
    }
   ],
   "source": [
    "toronto_tweets = regions_df.loc['Toronto, Ontario']\n",
    "\n",
    "toronto_tweets.plot(y=['physical_activity', 'sedentary_behavior', 'sleeping'], figsize=(16, 8), title='Toronto tweets', ) "
   ]
  },
  {
   "cell_type": "code",
   "execution_count": 49,
   "metadata": {
    "collapsed": false
   },
   "outputs": [],
   "source": [
    "regions_df = pd.read_csv('./data/regions_weekly.csv').set_index('placename')\n",
    "regions_df['created_at'] = pd.to_datetime(regions_df['created_at'])\n",
    "mapcities_df = pd.read_csv('data/canadian_territories.csv')"
   ]
  },
  {
   "cell_type": "code",
   "execution_count": 62,
   "metadata": {
    "collapsed": false
   },
   "outputs": [],
   "source": [
    "div2idx = mapcities_df.loc[:, ['division_name', 'division_id']].set_index('division_name')\n",
    "idx2div = mapcities_df.loc[:, ['division_name', 'division_id']].set_index('division_id')"
   ]
  },
  {
   "cell_type": "code",
   "execution_count": 350,
   "metadata": {
    "collapsed": false
   },
   "outputs": [
    {
     "data": {
      "text/plain": [
       "['2017-11-26', '2017-12-03', '2017-11-19', '2017-12-10', '2017-11-05']"
      ]
     },
     "execution_count": 350,
     "metadata": {},
     "output_type": "execute_result"
    }
   ],
   "source": [
    "dates"
   ]
  },
  {
   "cell_type": "code",
   "execution_count": 349,
   "metadata": {
    "collapsed": false
   },
   "outputs": [
    {
     "data": {
      "text/plain": [
       "placename\n",
       "Toronto, Ontario   2017-11-26\n",
       "Toronto, Ontario   2017-12-03\n",
       "Toronto, Ontario   2017-11-19\n",
       "Toronto, Ontario   2017-12-10\n",
       "Toronto, Ontario   2017-11-05\n",
       "Name: created_at, dtype: datetime64[ns]"
      ]
     },
     "execution_count": 349,
     "metadata": {},
     "output_type": "execute_result"
    }
   ],
   "source": [
    "regions_df.loc['Toronto, Ontario'].created_at"
   ]
  },
  {
   "cell_type": "code",
   "execution_count": 139,
   "metadata": {
    "collapsed": false
   },
   "outputs": [],
   "source": [
    "dates = [d for d in regions_df.loc['Toronto, Ontario'].created_at.dt.strftime('%Y-%m-%d')]\n",
    "\n",
    "map_timeseries = mapcities_df.set_index('division_id').T.to_dict()\n",
    "for key in map_timeseries:\n",
    "    map_timeseries[key]['data'] = dict.fromkeys(dates, {})\n",
    "    for date in map_timeseries[key]['data']:\n",
    "        for feature in features:\n",
    "            map_timeseries[key]['data'][date][feature] = 0"
   ]
  },
  {
   "cell_type": "code",
   "execution_count": 158,
   "metadata": {
    "collapsed": false
   },
   "outputs": [
    {
     "name": "stderr",
     "output_type": "stream",
     "text": [
      "100%|██████████| 14920/14920 [02:33<00:00, 97.01it/s]\n"
     ]
    }
   ],
   "source": [
    "#%%time\n",
    "\n",
    "mapcities_df = pd.read_csv('data/canadian_territories.csv')\n",
    "\n",
    "features = ['num_tweets', 'physical_activity', \n",
    "           'sedentary_behavior', 'sleeping']\n",
    "\n",
    "#regions_df = regions_df.reset_index(level=1)\n",
    "\n",
    "columns = [c + d for c in features for d in regions_df.loc['Toronto, Ontario'].created_at.dt.strftime('_%d_%m_%y')]\n",
    "\n",
    "dates = [d for d in regions_df.loc['Toronto, Ontario'].created_at.dt.strftime('%Y-%m-%d')]\n",
    "\n",
    "map_timeseries = mapcities_df.set_index('division_id').T.to_dict()\n",
    "for key in map_timeseries:\n",
    "    map_timeseries[key]['data'] = []\n",
    "    \n",
    "#for column in columns:\n",
    "#    mapcities_df[column] = 0\n",
    "\n",
    "for idx in tqdm(range(len(regions_df))):\n",
    "    idx_name = regions_df.index[idx]\n",
    "    city_name = idx_name.split(',')[0]\n",
    "    if not regions_df.loc[idx_name, ['latitude', 'longitude']].isnull().any().any():\n",
    "        if regions_df.loc[idx_name, ['latitude', 'longitude']].size == 2:\n",
    "            lat, long = regions_df.loc[idx_name, ['latitude', 'longitude']]\n",
    "        else:\n",
    "            lat, long = regions_df.loc[idx_name, ['latitude', 'longitude']].mean()\n",
    "    else:\n",
    "        lat = long = np.nan \n",
    "    mapped_city = mapcities_df.loc[mapcities_df.division_name == city_name]\n",
    "    \n",
    "    city_found = True\n",
    "    if not mapped_city.empty:\n",
    "        city_idx = mapped_city.index.values[0]\n",
    "    elif not pd.isnull(lat) and not pd.isnull(long):\n",
    "        #print(idx_name)\n",
    "        city_idx = find_closest_city(lat, long, mapcities_df)\n",
    "    else:\n",
    "        city_found = False\n",
    "    \n",
    "    if city_found:\n",
    "        if isinstance(regions_df.loc[idx_name], pd.Series):\n",
    "            weekly_df = regions_df.loc[idx_name].to_frame().T\n",
    "        else:\n",
    "            weekly_df = regions_df.loc[idx_name]      \n",
    "        for idx, row in weekly_df.iterrows():\n",
    "            division_id = mapcities_df.loc[city_idx].division_id\n",
    "            cdate = row.created_at.strftime('_%d_%m_%y')\n",
    "            cc = [c + cdate for c in features]\n",
    "            #mapcities_df.loc[city_idx, cc] += row.loc[features].values\n",
    "            current_row = row.loc[features]\n",
    "            current_row['date'] = row.created_at.strftime('%Y-%m-%d')\n",
    "            map_timeseries[division_id]['data'].append(current_row)"
   ]
  },
  {
   "cell_type": "code",
   "execution_count": 267,
   "metadata": {
    "collapsed": false
   },
   "outputs": [],
   "source": [
    "for key, val in map_timeseries.items():\n",
    "    if isinstance(map_timeseries[key]['data'], pd.DataFrame) or map_timeseries[key]['data']:\n",
    "        map_timeseries[key]['data'] = pd.DataFrame(map_timeseries[key]['data']).groupby('date').sum().reset_index().to_dict(orient='records')"
   ]
  },
  {
   "cell_type": "code",
   "execution_count": 291,
   "metadata": {
    "collapsed": false
   },
   "outputs": [],
   "source": [
    "map_json = pd.DataFrame(map_timeseries).to_json()"
   ]
  },
  {
   "cell_type": "code",
   "execution_count": 286,
   "metadata": {
    "collapsed": false
   },
   "outputs": [],
   "source": [
    "map_json = pd.DataFrame(map_timeseries).T.reset_index().to_dict(orient='record')"
   ]
  },
  {
   "cell_type": "code",
   "execution_count": 293,
   "metadata": {
    "collapsed": false
   },
   "outputs": [],
   "source": [
    "with open('./data/map_output_test.json', 'w') as f:\n",
    "    print(\"{}\".format(map_json), file=f)"
   ]
  },
  {
   "cell_type": "code",
   "execution_count": 354,
   "metadata": {
    "collapsed": false
   },
   "outputs": [
    {
     "data": {
      "text/plain": [
       "'{\"1001\":{\"data\":[],\"division_name\":\"Division No.  1\",\"latitude\":null,\"longitude\":null,\"province_id\":10,\"province_name\":\"Newfoundland and Labrador \\\\/ Terre-Neuve-et-Labrador\"},\"1002\":{\"data\":[],\"division_name\":\"Division No.  2\",\"latitude\":null,\"longitude\":null,\"province_id\":10,\"province_name\":\"Newfoundland and Labrador \\\\/ Terre-Neuve-et-Labrador\"},\"1003\":{\"data\":[],\"division_name\":\"Division No.  3\",\"latitude\":null,\"longitude\":null,\"province_id\":10,\"province_name\":\"Newfoundland and Labrador \\\\/ Terre-Neuve-et-Labrador\"},\"1004\":{\"data\":[],\"division_name\":\"Division No.  4\",\"latitude\":null,\"longitude\":null,\"province_id\":10,\"province_name\":\"Newfoundland and Labrador \\\\/ Terre-Neuve-et-Labrador\"},\"1005\":{\"data\":[],\"division_name\":\"Division No.  5\",\"latitude\":null,\"longitude\":null,\"province_id\":10,\"province_name\":\"Newfoundland and Labrador \\\\/ Terre-Neuve-et-Labrador\"},\"1006\":{\"data\":[],\"division_name\":\"Division No.  6\",\"latitude\":null,\"longitude\":null,\"province_id\":10,\"province_name\":\"Newfoundland and Labrador \\\\/ Terre-Neuve-et-Labrador\"},\"1007\":{\"data\":[],\"division_name\":\"Division No.  7\",\"latitude\":null,\"longitude\":null,\"province_id\":10,\"province_name\":\"Newfoundland and Labrador \\\\/ Terre-Neuve-et-Labrador\"},\"1008\":{\"data\":[],\"division_name\":\"Division No.  8\",\"latitude\":null,\"longitude\":null,\"province_id\":10,\"province_name\":\"Newfoundland and Labrador \\\\/ Terre-Neuve-et-Labrador\"},\"1009\":{\"data\":[],\"division_name\":\"Division No.  9\",\"latitude\":null,\"longitude\":null,\"province_id\":10,\"province_name\":\"Newfoundland and Labrador \\\\/ Terre-Neuve-et-Labrador\"},\"1010\":{\"data\":[],\"division_name\":\"Division No. 10\",\"latitude\":null,\"longitude\":null,\"province_id\":10,\"province_name\":\"Newfoundland and Labrador \\\\/ Terre-Neuve-et-Labrador\"},\"1011\":{\"data\":[],\"division_name\":\"Division No. 11\",\"latitude\":null,\"longitude\":null,\"province_id\":10,\"province_name\":\"Newfoundland and Labrador \\\\/ Terre-Neuve-et-Labrador\"},\"1101\":{\"data\":[{\"sleeping\":0.0,\"sedentary_behavior\":0.0,\"num_tweets\":2.0,\"physical_activity\":0.0,\"date\":\"2017-11-19\"},{\"sleeping\":0.0,\"sedentary_behavior\":0.0,\"num_tweets\":5.0,\"physical_activity\":1.0,\"date\":\"2017-11-26\"},{\"sleeping\":0.0,\"sedentary_behavior\":0.0,\"num_tweets\":4.0,\"physical_activity\":0.0,\"date\":\"2017-12-03\"}],\"division_name\":\"Kings\",\"latitude\":46.17366575,\"longitude\":-62.5328944957,\"province_id\":11,\"province_name\":\"Prince Edward Island \\\\/ \\\\u00cele-du-Prince-\\\\u00c9douard\"},\"1102\":{\"data\":[{\"sleeping\":0.0,\"sedentary_behavior\":5.0,\"num_tweets\":30.0,\"physical_activity\":5.0,\"date\":\"2017-11-05\"},{\"sleeping\":26.0,\"sedentary_behavior\":172.0,\"num_tweets\":1783.0,\"physical_activity\":58.0,\"date\":\"2017-11-19\"},{\"sleeping\":30.0,\"sedentary_behavior\":403.0,\"num_tweets\":3665.0,\"physical_activity\":165.0,\"date\":\"2017-11-26\"},{\"sleeping\":34.0,\"sedentary_behavior\":131.0,\"num_tweets\":1862.0,\"physical_activity\":83.0,\"date\":\"2017-12-03\"},{\"sleeping\":0.0,\"sedentary_behavior\":10.0,\"num_tweets\":340.0,\"physical_activity\":19.0,\"date\":\"2017-12-10\"}],\"division_name\":\"Queens\",\"latitude\":46.2181211,\"longitude\":-63.1348056806,\"province_id\":11,\"province_name\":\"Prince Edward Island \\\\/ \\\\u00cele-du-Prince-\\\\u00c9douard\"},\"1103\":{\"data\":[{\"sleeping\":0.0,\"sedentary_behavior\":0.0,\"num_tweets\":27.0,\"physical_activity\":0.0,\"date\":\"2017-11-05\"},{\"sleeping\":0.0,\"sedentary_behavior\":48.0,\"num_tweets\":619.0,\"physical_activity\":45.0,\"date\":\"2017-11-19\"},{\"sleeping\":0.0,\"sedentary_behavior\":14.0,\"num_tweets\":163.0,\"physical_activity\":9.0,\"date\":\"2017-11-26\"},{\"sleeping\":0.0,\"sedentary_behavior\":0.0,\"num_tweets\":2.0,\"physical_activity\":0.0,\"date\":\"2017-12-03\"}],\"division_name\":\"Prince\",\"latitude\":46.57355925,\"longitude\":-63.8695358464,\"province_id\":11,\"province_name\":\"Prince Edward Island \\\\/ \\\\u00cele-du-Prince-\\\\u00c9douard\"},\"1201\":{\"data\":[{\"sleeping\":0.0,\"sedentary_behavior\":4.0,\"num_tweets\":36.0,\"physical_activity\":0.0,\"date\":\"2017-11-19\"},{\"sleeping\":8.0,\"sedentary_behavior\":20.0,\"num_tweets\":212.0,\"physical_activity\":4.0,\"date\":\"2017-11-26\"},{\"sleeping\":0.0,\"sedentary_behavior\":12.0,\"num_tweets\":120.0,\"physical_activity\":4.0,\"date\":\"2017-12-03\"},{\"sleeping\":0.0,\"sedentary_behavior\":0.0,\"num_tweets\":16.0,\"physical_activity\":0.0,\"date\":\"2017-12-10\"}],\"division_name\":\"Shelburne\",\"latitude\":43.7639539,\"longitude\":-65.321384,\"province_id\":12,\"province_name\":\"Nova Scotia \\\\/ Nouvelle-\\\\u00c9cosse\"},\"1202\":{\"data\":[{\"sleeping\":0.0,\"sedentary_behavior\":8.0,\"num_tweets\":56.0,\"physical_activity\":0.0,\"date\":\"2017-11-19\"},{\"sleeping\":0.0,\"sedentary_behavior\":4.0,\"num_tweets\":124.0,\"physical_activity\":0.0,\"date\":\"2017-11-26\"},{\"sleeping\":0.0,\"sedentary_behavior\":0.0,\"num_tweets\":56.0,\"physical_activity\":0.0,\"date\":\"2017-12-03\"},{\"sleeping\":0.0,\"sedentary_behavior\":0.0,\"num_tweets\":16.0,\"physical_activity\":0.0,\"date\":\"2017-12-10\"}],\"division_name\":\"Yarmouth\",\"latitude\":43.8372828,\"longitude\":-66.1156037,\"province_id\":12,\"province_name\":\"Nova Scotia \\\\/ Nouvelle-\\\\u00c9cosse\"},\"1203\":{\"data\":[{\"sleeping\":0.0,\"sedentary_behavior\":0.0,\"num_tweets\":5.0,\"physical_activity\":0.0,\"date\":\"2017-11-05\"},{\"sleeping\":10.0,\"sedentary_behavior\":0.0,\"num_tweets\":415.0,\"physical_activity\":0.0,\"date\":\"2017-11-19\"},{\"sleeping\":0.0,\"sedentary_behavior\":30.0,\"num_tweets\":385.0,\"physical_activity\":15.0,\"date\":\"2017-11-26\"},{\"sleeping\":0.0,\"sedentary_behavior\":0.0,\"num_tweets\":65.0,\"physical_activity\":0.0,\"date\":\"2017-12-03\"},{\"sleeping\":0.0,\"sedentary_behavior\":0.0,\"num_tweets\":10.0,\"physical_activity\":0.0,\"date\":\"2017-12-10\"}],\"division_name\":\"Digby\",\"latitude\":44.6194028,\"longitude\":-65.758575,\"province_id\":12,\"province_name\":\"Nova Scotia \\\\/ Nouvelle-\\\\u00c9cosse\"},\"1204\":{\"data\":[{\"sleeping\":0.0,\"sedentary_behavior\":16.0,\"num_tweets\":83.0,\"physical_activity\":0.0,\"date\":\"2017-11-19\"},{\"sleeping\":4.0,\"sedentary_behavior\":28.0,\"num_tweets\":222.0,\"physical_activity\":0.0,\"date\":\"2017-11-26\"},{\"sleeping\":0.0,\"sedentary_behavior\":4.0,\"num_tweets\":107.0,\"physical_activity\":8.0,\"date\":\"2017-12-03\"},{\"sleeping\":0.0,\"sedentary_behavior\":0.0,\"num_tweets\":24.0,\"physical_activity\":0.0,\"date\":\"2017-12-10\"}],\"division_name\":\"Queens\",\"latitude\":44.1449621,\"longitude\":-64.9184338221,\"province_id\":12,\"province_name\":\"Nova Scotia \\\\/ Nouvelle-\\\\u00c9cosse\"},\"1205\":{\"data\":[{\"sleeping\":0.0,\"sedentary_behavior\":0.0,\"num_tweets\":4.0,\"physical_activity\":0.0,\"date\":\"2017-11-05\"},{\"sleeping\":4.0,\"sedentary_behavior\":22.0,\"num_tweets\":144.0,\"physical_activity\":3.0,\"date\":\"2017-11-19\"},{\"sleeping\":6.0,\"sedentary_behavior\":20.0,\"num_tweets\":243.0,\"physical_activity\":8.0,\"date\":\"2017-11-26\"},{\"sleeping\":0.0,\"sedentary_behavior\":14.0,\"num_tweets\":169.0,\"physical_activity\":10.0,\"date\":\"2017-12-03\"},{\"sleeping\":0.0,\"sedentary_behavior\":0.0,\"num_tweets\":12.0,\"physical_activity\":0.0,\"date\":\"2017-12-10\"}],\"division_name\":\"Annapolis\",\"latitude\":44.69495785,\"longitude\":-65.2811194726,\"province_id\":12,\"province_name\":\"Nova Scotia \\\\/ Nouvelle-\\\\u00c9cosse\"},\"1206\":{\"data\":[{\"sleeping\":0.0,\"sedentary_behavior\":16.0,\"num_tweets\":116.0,\"physical_activity\":0.0,\"date\":\"2017-11-19\"},{\"sleeping\":4.0,\"sedentary_behavior\":16.0,\"num_tweets\":264.0,\"physical_activity\":8.0,\"date\":\"2017-11-26\"},{\"sleeping\":4.0,\"sedentary_behavior\":24.0,\"num_tweets\":172.0,\"physical_activity\":8.0,\"date\":\"2017-12-03\"},{\"sleeping\":0.0,\"sedentary_behavior\":0.0,\"num_tweets\":36.0,\"physical_activity\":0.0,\"date\":\"2017-12-10\"}],\"division_name\":\"Lunenburg\",\"latitude\":44.3774954,\"longitude\":-64.3154816,\"province_id\":12,\"province_name\":\"Nova Scotia \\\\/ Nouvelle-\\\\u00c9cosse\"},\"1207\":{\"data\":[{\"sleeping\":0.0,\"sedentary_behavior\":0.0,\"num_tweets\":10.0,\"physical_activity\":0.0,\"date\":\"2017-11-05\"},{\"sleeping\":5.0,\"sedentary_behavior\":62.0,\"num_tweets\":387.0,\"physical_activity\":4.0,\"date\":\"2017-11-19\"},{\"sleeping\":14.0,\"sedentary_behavior\":86.0,\"num_tweets\":789.0,\"physical_activity\":31.0,\"date\":\"2017-11-26\"},{\"sleeping\":5.0,\"sedentary_behavior\":34.0,\"num_tweets\":340.0,\"physical_activity\":10.0,\"date\":\"2017-12-03\"},{\"sleeping\":5.0,\"sedentary_behavior\":13.0,\"num_tweets\":126.0,\"physical_activity\":0.0,\"date\":\"2017-12-10\"}],\"division_name\":\"Kings\",\"latitude\":45.00525875,\"longitude\":-64.6280222973,\"province_id\":12,\"province_name\":\"Nova Scotia \\\\/ Nouvelle-\\\\u00c9cosse\"},\"1208\":{\"data\":[],\"division_name\":\"Hants\",\"latitude\":45.0592567,\"longitude\":-63.7925337852,\"province_id\":12,\"province_name\":\"Nova Scotia \\\\/ Nouvelle-\\\\u00c9cosse\"},\"1209\":{\"data\":[{\"sleeping\":0.0,\"sedentary_behavior\":35.0,\"num_tweets\":460.0,\"physical_activity\":10.0,\"date\":\"2017-11-05\"},{\"sleeping\":195.0,\"sedentary_behavior\":1905.0,\"num_tweets\":18635.0,\"physical_activity\":560.0,\"date\":\"2017-11-19\"},{\"sleeping\":615.0,\"sedentary_behavior\":4380.0,\"num_tweets\":42226.0,\"physical_activity\":1715.0,\"date\":\"2017-11-26\"},{\"sleeping\":210.0,\"sedentary_behavior\":1975.0,\"num_tweets\":20300.0,\"physical_activity\":720.0,\"date\":\"2017-12-03\"},{\"sleeping\":70.0,\"sedentary_behavior\":460.0,\"num_tweets\":4750.0,\"physical_activity\":160.0,\"date\":\"2017-12-10\"}],\"division_name\":\"Halifax\",\"latitude\":44.6491198,\"longitude\":-63.575134,\"province_id\":12,\"province_name\":\"Nova Scotia \\\\/ Nouvelle-\\\\u00c9cosse\"},\"1210\":{\"data\":[{\"sleeping\":0.0,\"sedentary_behavior\":0.0,\"num_tweets\":5.0,\"physical_activity\":0.0,\"date\":\"2017-11-05\"},{\"sleeping\":0.0,\"sedentary_behavior\":9.0,\"num_tweets\":102.0,\"physical_activity\":5.0,\"date\":\"2017-11-19\"},{\"sleeping\":10.0,\"sedentary_behavior\":49.0,\"num_tweets\":466.0,\"physical_activity\":16.0,\"date\":\"2017-11-26\"},{\"sleeping\":5.0,\"sedentary_behavior\":24.0,\"num_tweets\":174.0,\"physical_activity\":26.0,\"date\":\"2017-12-03\"},{\"sleeping\":0.0,\"sedentary_behavior\":0.0,\"num_tweets\":45.0,\"physical_activity\":0.0,\"date\":\"2017-12-10\"}],\"division_name\":\"Colchester\",\"latitude\":45.41964845,\"longitude\":-63.5111101813,\"province_id\":12,\"province_name\":\"Nova Scotia \\\\/ Nouvelle-\\\\u00c9cosse\"},\"1211\":{\"data\":[{\"sleeping\":0.0,\"sedentary_behavior\":0.0,\"num_tweets\":31.0,\"physical_activity\":0.0,\"date\":\"2017-11-19\"},{\"sleeping\":0.0,\"sedentary_behavior\":13.0,\"num_tweets\":91.0,\"physical_activity\":6.0,\"date\":\"2017-11-26\"},{\"sleeping\":0.0,\"sedentary_behavior\":12.0,\"num_tweets\":51.0,\"physical_activity\":0.0,\"date\":\"2017-12-03\"},{\"sleeping\":0.0,\"sedentary_behavior\":0.0,\"num_tweets\":11.0,\"physical_activity\":4.0,\"date\":\"2017-12-10\"}],\"division_name\":\"Cumberland\",\"latitude\":45.5964139,\"longitude\":-64.0972503572,\"province_id\":12,\"province_name\":\"Nova Scotia \\\\/ Nouvelle-\\\\u00c9cosse\"},\"1212\":{\"data\":[{\"sleeping\":0.0,\"sedentary_behavior\":19.0,\"num_tweets\":152.0,\"physical_activity\":4.0,\"date\":\"2017-11-19\"},{\"sleeping\":23.0,\"sedentary_behavior\":50.0,\"num_tweets\":642.0,\"physical_activity\":22.0,\"date\":\"2017-11-26\"},{\"sleeping\":0.0,\"sedentary_behavior\":20.0,\"num_tweets\":258.0,\"physical_activity\":7.0,\"date\":\"2017-12-03\"},{\"sleeping\":0.0,\"sedentary_behavior\":0.0,\"num_tweets\":80.0,\"physical_activity\":0.0,\"date\":\"2017-12-10\"}],\"division_name\":\"Pictou\",\"latitude\":45.6776403,\"longitude\":-62.7106123,\"province_id\":12,\"province_name\":\"Nova Scotia \\\\/ Nouvelle-\\\\u00c9cosse\"},\"1213\":{\"data\":[{\"sleeping\":0.0,\"sedentary_behavior\":0.0,\"num_tweets\":7.0,\"physical_activity\":0.0,\"date\":\"2017-11-19\"},{\"sleeping\":0.0,\"sedentary_behavior\":0.0,\"num_tweets\":31.0,\"physical_activity\":0.0,\"date\":\"2017-11-26\"},{\"sleeping\":0.0,\"sedentary_behavior\":7.0,\"num_tweets\":26.0,\"physical_activity\":0.0,\"date\":\"2017-12-03\"},{\"sleeping\":0.0,\"sedentary_behavior\":0.0,\"num_tweets\":4.0,\"physical_activity\":0.0,\"date\":\"2017-12-10\"}],\"division_name\":\"Guysborough\",\"latitude\":45.3922534,\"longitude\":-61.4997896,\"province_id\":12,\"province_name\":\"Nova Scotia \\\\/ Nouvelle-\\\\u00c9cosse\"},\"1214\":{\"data\":[{\"sleeping\":0.0,\"sedentary_behavior\":0.0,\"num_tweets\":10.0,\"physical_activity\":0.0,\"date\":\"2017-11-05\"},{\"sleeping\":20.0,\"sedentary_behavior\":43.0,\"num_tweets\":445.0,\"physical_activity\":9.0,\"date\":\"2017-11-19\"},{\"sleeping\":30.0,\"sedentary_behavior\":123.0,\"num_tweets\":1144.0,\"physical_activity\":30.0,\"date\":\"2017-11-26\"},{\"sleeping\":30.0,\"sedentary_behavior\":51.0,\"num_tweets\":655.0,\"physical_activity\":29.0,\"date\":\"2017-12-03\"},{\"sleeping\":5.0,\"sedentary_behavior\":10.0,\"num_tweets\":132.0,\"physical_activity\":0.0,\"date\":\"2017-12-10\"}],\"division_name\":\"Antigonish\",\"latitude\":45.6213607,\"longitude\":-61.9904928,\"province_id\":12,\"province_name\":\"Nova Scotia \\\\/ Nouvelle-\\\\u00c9cosse\"},\"1215\":{\"data\":[{\"sleeping\":0.0,\"sedentary_behavior\":0.0,\"num_tweets\":19.0,\"physical_activity\":2.0,\"date\":\"2017-11-19\"},{\"sleeping\":2.0,\"sedentary_behavior\":10.0,\"num_tweets\":87.0,\"physical_activity\":2.0,\"date\":\"2017-11-26\"},{\"sleeping\":0.0,\"sedentary_behavior\":0.0,\"num_tweets\":142.0,\"physical_activity\":3.0,\"date\":\"2017-12-03\"}],\"division_name\":\"Inverness\",\"latitude\":46.2307181,\"longitude\":-61.3056432,\"province_id\":12,\"province_name\":\"Nova Scotia \\\\/ Nouvelle-\\\\u00c9cosse\"},\"1216\":{\"data\":[{\"sleeping\":0.0,\"sedentary_behavior\":0.0,\"num_tweets\":55.0,\"physical_activity\":0.0,\"date\":\"2017-11-05\"},{\"sleeping\":20.0,\"sedentary_behavior\":310.0,\"num_tweets\":3309.0,\"physical_activity\":115.0,\"date\":\"2017-11-19\"},{\"sleeping\":80.0,\"sedentary_behavior\":609.0,\"num_tweets\":8090.0,\"physical_activity\":210.0,\"date\":\"2017-11-26\"},{\"sleeping\":45.0,\"sedentary_behavior\":355.0,\"num_tweets\":4198.0,\"physical_activity\":215.0,\"date\":\"2017-12-03\"},{\"sleeping\":15.0,\"sedentary_behavior\":75.0,\"num_tweets\":807.0,\"physical_activity\":50.0,\"date\":\"2017-12-10\"}],\"division_name\":\"Richmond\",\"latitude\":45.7542246,\"longitude\":-63.467609,\"province_id\":12,\"province_name\":\"Nova Scotia \\\\/ Nouvelle-\\\\u00c9cosse\"},\"1217\":{\"data\":[{\"sleeping\":5.0,\"sedentary_behavior\":0.0,\"num_tweets\":80.0,\"physical_activity\":0.0,\"date\":\"2017-11-05\"},{\"sleeping\":78.0,\"sedentary_behavior\":578.0,\"num_tweets\":5656.0,\"physical_activity\":185.0,\"date\":\"2017-11-19\"},{\"sleeping\":70.0,\"sedentary_behavior\":1307.0,\"num_tweets\":12706.0,\"physical_activity\":450.0,\"date\":\"2017-11-26\"},{\"sleeping\":100.0,\"sedentary_behavior\":898.0,\"num_tweets\":7417.0,\"physical_activity\":155.0,\"date\":\"2017-12-03\"},{\"sleeping\":15.0,\"sedentary_behavior\":125.0,\"num_tweets\":1400.0,\"physical_activity\":25.0,\"date\":\"2017-12-10\"}],\"division_name\":\"Cape Breton\",\"latitude\":46.2950327,\"longitude\":-60.9360553505,\"province_id\":12,\"province_name\":\"Nova Scotia \\\\/ Nouvelle-\\\\u00c9cosse\"},\"1218\":{\"data\":[],\"division_name\":\"Victoria\",\"latitude\":45.7300441,\"longitude\":-63.6807159,\"province_id\":12,\"province_name\":\"Nova Scotia \\\\/ Nouvelle-\\\\u00c9cosse\"},\"1301\":{\"data\":[{\"sleeping\":0.0,\"sedentary_behavior\":5.0,\"num_tweets\":35.0,\"physical_activity\":0.0,\"date\":\"2017-11-05\"},{\"sleeping\":15.0,\"sedentary_behavior\":205.0,\"num_tweets\":1675.0,\"physical_activity\":78.0,\"date\":\"2017-11-19\"},{\"sleeping\":33.0,\"sedentary_behavior\":367.0,\"num_tweets\":3225.0,\"physical_activity\":106.0,\"date\":\"2017-11-26\"},{\"sleeping\":25.0,\"sedentary_behavior\":189.0,\"num_tweets\":1746.0,\"physical_activity\":101.0,\"date\":\"2017-12-03\"},{\"sleeping\":4.0,\"sedentary_behavior\":60.0,\"num_tweets\":376.0,\"physical_activity\":10.0,\"date\":\"2017-12-10\"}],\"division_name\":\"Saint John\",\"latitude\":45.278752,\"longitude\":-66.058044,\"province_id\":13,\"province_name\":\"New Brunswick \\\\/ Nouveau-Brunswick\"},\"1302\":{\"data\":[{\"sleeping\":0.0,\"sedentary_behavior\":0.0,\"num_tweets\":4.0,\"physical_activity\":0.0,\"date\":\"2017-11-26\"},{\"sleeping\":0.0,\"sedentary_behavior\":0.0,\"num_tweets\":1.0,\"physical_activity\":0.0,\"date\":\"2017-12-03\"}],\"division_name\":\"Charlotte\",\"latitude\":45.01103135,\"longitude\":-66.8656097263,\"province_id\":13,\"province_name\":\"New Brunswick \\\\/ Nouveau-Brunswick\"},\"1303\":{\"data\":[{\"sleeping\":0.0,\"sedentary_behavior\":0.0,\"num_tweets\":16.0,\"physical_activity\":0.0,\"date\":\"2017-11-19\"},{\"sleeping\":0.0,\"sedentary_behavior\":0.0,\"num_tweets\":36.0,\"physical_activity\":0.0,\"date\":\"2017-11-26\"},{\"sleeping\":0.0,\"sedentary_behavior\":0.0,\"num_tweets\":20.0,\"physical_activity\":0.0,\"date\":\"2017-12-03\"},{\"sleeping\":0.0,\"sedentary_behavior\":0.0,\"num_tweets\":8.0,\"physical_activity\":0.0,\"date\":\"2017-12-10\"}],\"division_name\":\"Sunbury\",\"latitude\":46.2062723,\"longitude\":-66.1755855,\"province_id\":13,\"province_name\":\"New Brunswick \\\\/ Nouveau-Brunswick\"},\"1304\":{\"data\":[{\"sleeping\":0.0,\"sedentary_behavior\":6.0,\"num_tweets\":48.0,\"physical_activity\":0.0,\"date\":\"2017-11-19\"},{\"sleeping\":3.0,\"sedentary_behavior\":9.0,\"num_tweets\":99.0,\"physical_activity\":0.0,\"date\":\"2017-11-26\"},{\"sleeping\":0.0,\"sedentary_behavior\":9.0,\"num_tweets\":54.0,\"physical_activity\":0.0,\"date\":\"2017-12-03\"}],\"division_name\":\"Queens\",\"latitude\":45.8255852,\"longitude\":-66.0106246694,\"province_id\":13,\"province_name\":\"New Brunswick \\\\/ Nouveau-Brunswick\"},\"1305\":{\"data\":[{\"sleeping\":0.0,\"sedentary_behavior\":0.0,\"num_tweets\":1.0,\"physical_activity\":0.0,\"date\":\"2017-11-19\"},{\"sleeping\":0.0,\"sedentary_behavior\":0.0,\"num_tweets\":4.0,\"physical_activity\":0.0,\"date\":\"2017-11-26\"},{\"sleeping\":2.0,\"sedentary_behavior\":2.0,\"num_tweets\":4.0,\"physical_activity\":0.0,\"date\":\"2017-12-03\"}],\"division_name\":\"Kings\",\"latitude\":45.6592383,\"longitude\":-65.5560951426,\"province_id\":13,\"province_name\":\"New Brunswick \\\\/ Nouveau-Brunswick\"},\"1306\":{\"data\":[{\"sleeping\":0.0,\"sedentary_behavior\":8.0,\"num_tweets\":66.0,\"physical_activity\":0.0,\"date\":\"2017-11-19\"},{\"sleeping\":0.0,\"sedentary_behavior\":37.0,\"num_tweets\":250.0,\"physical_activity\":12.0,\"date\":\"2017-11-26\"},{\"sleeping\":0.0,\"sedentary_behavior\":14.0,\"num_tweets\":120.0,\"physical_activity\":4.0,\"date\":\"2017-12-03\"},{\"sleeping\":0.0,\"sedentary_behavior\":8.0,\"num_tweets\":48.0,\"physical_activity\":4.0,\"date\":\"2017-12-10\"}],\"division_name\":\"Albert\",\"latitude\":45.7952051,\"longitude\":-64.8744203231,\"province_id\":13,\"province_name\":\"New Brunswick \\\\/ Nouveau-Brunswick\"},\"1307\":{\"data\":[{\"sleeping\":8.0,\"sedentary_behavior\":84.0,\"num_tweets\":1234.0,\"physical_activity\":24.0,\"date\":\"2017-11-19\"},{\"sleeping\":44.0,\"sedentary_behavior\":302.0,\"num_tweets\":3598.0,\"physical_activity\":84.0,\"date\":\"2017-11-26\"},{\"sleeping\":8.0,\"sedentary_behavior\":100.0,\"num_tweets\":1272.0,\"physical_activity\":8.0,\"date\":\"2017-12-03\"},{\"sleeping\":0.0,\"sedentary_behavior\":20.0,\"num_tweets\":392.0,\"physical_activity\":4.0,\"date\":\"2017-12-10\"}],\"division_name\":\"Westmorland\",\"latitude\":45.9687484,\"longitude\":-64.4155438183,\"province_id\":13,\"province_name\":\"New Brunswick \\\\/ Nouveau-Brunswick\"},\"1308\":{\"data\":[{\"sleeping\":8.0,\"sedentary_behavior\":12.0,\"num_tweets\":205.0,\"physical_activity\":4.0,\"date\":\"2017-11-19\"},{\"sleeping\":12.0,\"sedentary_behavior\":29.0,\"num_tweets\":401.0,\"physical_activity\":0.0,\"date\":\"2017-11-26\"},{\"sleeping\":4.0,\"sedentary_behavior\":24.0,\"num_tweets\":232.0,\"physical_activity\":0.0,\"date\":\"2017-12-03\"},{\"sleeping\":0.0,\"sedentary_behavior\":0.0,\"num_tweets\":8.0,\"physical_activity\":0.0,\"date\":\"2017-12-10\"}],\"division_name\":\"Kent\",\"latitude\":47.059307,\"longitude\":-67.749952,\"province_id\":13,\"province_name\":\"New Brunswick \\\\/ Nouveau-Brunswick\"},\"1309\":{\"data\":[{\"sleeping\":0.0,\"sedentary_behavior\":0.0,\"num_tweets\":1.0,\"physical_activity\":0.0,\"date\":\"2017-11-26\"},{\"sleeping\":0.0,\"sedentary_behavior\":0.0,\"num_tweets\":1.0,\"physical_activity\":0.0,\"date\":\"2017-12-03\"}],\"division_name\":\"Northumberland\",\"latitude\":46.9389258,\"longitude\":-65.8953414991,\"province_id\":13,\"province_name\":\"New Brunswick \\\\/ Nouveau-Brunswick\"},\"1310\":{\"data\":[{\"sleeping\":0.0,\"sedentary_behavior\":2.0,\"num_tweets\":17.0,\"physical_activity\":0.0,\"date\":\"2017-11-26\"},{\"sleeping\":0.0,\"sedentary_behavior\":0.0,\"num_tweets\":22.0,\"physical_activity\":0.0,\"date\":\"2017-12-03\"}],\"division_name\":\"York\",\"latitude\":46.2255841,\"longitude\":-66.8114419663,\"province_id\":13,\"province_name\":\"New Brunswick \\\\/ Nouveau-Brunswick\"},\"1311\":{\"data\":[{\"sleeping\":0.0,\"sedentary_behavior\":0.0,\"num_tweets\":5.0,\"physical_activity\":0.0,\"date\":\"2017-11-26\"},{\"sleeping\":0.0,\"sedentary_behavior\":0.0,\"num_tweets\":2.0,\"physical_activity\":0.0,\"date\":\"2017-12-03\"}],\"division_name\":\"Carleton\",\"latitude\":45.9580412,\"longitude\":-66.6445253,\"province_id\":13,\"province_name\":\"New Brunswick \\\\/ Nouveau-Brunswick\"},\"1312\":{\"data\":[{\"sleeping\":0.0,\"sedentary_behavior\":0.0,\"num_tweets\":2.0,\"physical_activity\":0.0,\"date\":\"2017-11-05\"},{\"sleeping\":0.0,\"sedentary_behavior\":6.0,\"num_tweets\":67.0,\"physical_activity\":0.0,\"date\":\"2017-11-19\"},{\"sleeping\":9.0,\"sedentary_behavior\":40.0,\"num_tweets\":308.0,\"physical_activity\":5.0,\"date\":\"2017-11-26\"},{\"sleeping\":0.0,\"sedentary_behavior\":5.0,\"num_tweets\":98.0,\"physical_activity\":5.0,\"date\":\"2017-12-03\"},{\"sleeping\":0.0,\"sedentary_behavior\":0.0,\"num_tweets\":1.0,\"physical_activity\":1.0,\"date\":\"2017-12-10\"}],\"division_name\":\"Victoria\",\"latitude\":47.0299997,\"longitude\":-65.2310894,\"province_id\":13,\"province_name\":\"New Brunswick \\\\/ Nouveau-Brunswick\"},\"1313\":{\"data\":[{\"sleeping\":0.0,\"sedentary_behavior\":4.0,\"num_tweets\":60.0,\"physical_activity\":20.0,\"date\":\"2017-11-19\"},{\"sleeping\":0.0,\"sedentary_behavior\":12.0,\"num_tweets\":76.0,\"physical_activity\":4.0,\"date\":\"2017-11-26\"},{\"sleeping\":4.0,\"sedentary_behavior\":4.0,\"num_tweets\":60.0,\"physical_activity\":0.0,\"date\":\"2017-12-03\"},{\"sleeping\":0.0,\"sedentary_behavior\":0.0,\"num_tweets\":8.0,\"physical_activity\":0.0,\"date\":\"2017-12-10\"}],\"division_name\":\"Madawaska\",\"latitude\":47.4181157,\"longitude\":-68.1424950145,\"province_id\":13,\"province_name\":\"New Brunswick \\\\/ Nouveau-Brunswick\"},\"1314\":{\"data\":[{\"sleeping\":0.0,\"sedentary_behavior\":0.0,\"num_tweets\":8.0,\"physical_activity\":0.0,\"date\":\"2017-11-19\"},{\"sleeping\":0.0,\"sedentary_behavior\":0.0,\"num_tweets\":5.0,\"physical_activity\":0.0,\"date\":\"2017-11-26\"},{\"sleeping\":0.0,\"sedentary_behavior\":0.0,\"num_tweets\":1.0,\"physical_activity\":0.0,\"date\":\"2017-12-03\"}],\"division_name\":\"Restigouche\",\"latitude\":47.72508035,\"longitude\":-67.0851442551,\"province_id\":13,\"province_name\":\"New Brunswick \\\\/ Nouveau-Brunswick\"},\"1315\":{\"data\":[{\"sleeping\":0.0,\"sedentary_behavior\":3.0,\"num_tweets\":42.0,\"physical_activity\":0.0,\"date\":\"2017-11-19\"},{\"sleeping\":0.0,\"sedentary_behavior\":12.0,\"num_tweets\":110.0,\"physical_activity\":0.0,\"date\":\"2017-11-26\"},{\"sleeping\":0.0,\"sedentary_behavior\":0.0,\"num_tweets\":55.0,\"physical_activity\":4.0,\"date\":\"2017-12-03\"},{\"sleeping\":4.0,\"sedentary_behavior\":4.0,\"num_tweets\":29.0,\"physical_activity\":0.0,\"date\":\"2017-12-10\"}],\"division_name\":\"Gloucester\",\"latitude\":47.640686,\"longitude\":-65.4157519941,\"province_id\":13,\"province_name\":\"New Brunswick \\\\/ Nouveau-Brunswick\"},\"2401\":{\"data\":[{\"sleeping\":0.0,\"sedentary_behavior\":0.0,\"num_tweets\":44.0,\"physical_activity\":2.0,\"date\":\"2017-11-19\"},{\"sleeping\":0.0,\"sedentary_behavior\":0.0,\"num_tweets\":94.0,\"physical_activity\":0.0,\"date\":\"2017-11-26\"},{\"sleeping\":0.0,\"sedentary_behavior\":1.0,\"num_tweets\":35.0,\"physical_activity\":0.0,\"date\":\"2017-12-03\"},{\"sleeping\":0.0,\"sedentary_behavior\":0.0,\"num_tweets\":14.0,\"physical_activity\":0.0,\"date\":\"2017-12-10\"}],\"division_name\":\"Les \\\\u00celes-de-la-Madeleine\",\"latitude\":47.4630787,\"longitude\":-61.7584097,\"province_id\":24,\"province_name\":\"Quebec \\\\/ Qu\\\\u00e9bec\"},\"2402\":{\"data\":[{\"sleeping\":0.0,\"sedentary_behavior\":0.0,\"num_tweets\":2.0,\"physical_activity\":0.0,\"date\":\"2017-12-03\"},{\"sleeping\":0.0,\"sedentary_behavior\":0.0,\"num_tweets\":2.0,\"physical_activity\":0.0,\"date\":\"2017-12-10\"}],\"division_name\":\"Le Rocher-Perc\\\\u00e9\",\"latitude\":48.5238022,\"longitude\":-64.1991076,\"province_id\":24,\"province_name\":\"Quebec \\\\/ Qu\\\\u00e9bec\"},\"2403\":{\"data\":[{\"sleeping\":4.0,\"sedentary_behavior\":16.0,\"num_tweets\":149.0,\"physical_activity\":12.0,\"date\":\"2017-11-19\"},{\"sleeping\":0.0,\"sedentary_behavior\":20.0,\"num_tweets\":240.0,\"physical_activity\":4.0,\"date\":\"2017-11-26\"},{\"sleeping\":0.0,\"sedentary_behavior\":44.0,\"num_tweets\":324.0,\"physical_activity\":36.0,\"date\":\"2017-12-03\"},{\"sleeping\":0.0,\"sedentary_behavior\":0.0,\"num_tweets\":42.0,\"physical_activity\":0.0,\"date\":\"2017-12-10\"}],\"division_name\":\"La C\\\\u00f4te-de-Gasp\\\\u00e9\",\"latitude\":49.1654025,\"longitude\":-64.5583971496,\"province_id\":24,\"province_name\":\"Quebec \\\\/ Qu\\\\u00e9bec\"},\"2404\":{\"data\":[{\"sleeping\":0.0,\"sedentary_behavior\":4.0,\"num_tweets\":86.0,\"physical_activity\":0.0,\"date\":\"2017-11-19\"},{\"sleeping\":0.0,\"sedentary_behavior\":4.0,\"num_tweets\":36.0,\"physical_activity\":8.0,\"date\":\"2017-11-26\"},{\"sleeping\":0.0,\"sedentary_behavior\":0.0,\"num_tweets\":24.0,\"physical_activity\":0.0,\"date\":\"2017-12-03\"},{\"sleeping\":0.0,\"sedentary_behavior\":0.0,\"num_tweets\":4.0,\"physical_activity\":0.0,\"date\":\"2017-12-10\"}],\"division_name\":\"La Haute-Gasp\\\\u00e9sie\",\"latitude\":49.1562677,\"longitude\":-66.145980058,\"province_id\":24,\"province_name\":\"Quebec \\\\/ Qu\\\\u00e9bec\"},\"2405\":{\"data\":[{\"sleeping\":0.0,\"sedentary_behavior\":0.0,\"num_tweets\":4.0,\"physical_activity\":0.0,\"date\":\"2017-11-19\"},{\"sleeping\":0.0,\"sedentary_behavior\":1.0,\"num_tweets\":10.0,\"physical_activity\":0.0,\"date\":\"2017-11-26\"},{\"sleeping\":0.0,\"sedentary_behavior\":0.0,\"num_tweets\":6.0,\"physical_activity\":0.0,\"date\":\"2017-12-03\"}],\"division_name\":\"Bonaventure\",\"latitude\":48.0444351,\"longitude\":-65.4925807,\"province_id\":24,\"province_name\":\"Quebec \\\\/ Qu\\\\u00e9bec\"},\"2406\":{\"data\":[{\"sleeping\":2.0,\"sedentary_behavior\":2.0,\"num_tweets\":17.0,\"physical_activity\":0.0,\"date\":\"2017-11-19\"},{\"sleeping\":0.0,\"sedentary_behavior\":0.0,\"num_tweets\":11.0,\"physical_activity\":0.0,\"date\":\"2017-11-26\"},{\"sleeping\":0.0,\"sedentary_behavior\":0.0,\"num_tweets\":4.0,\"physical_activity\":0.0,\"date\":\"2017-12-03\"}],\"division_name\":\"Avignon\",\"latitude\":48.16164485,\"longitude\":-66.3900211288,\"province_id\":24,\"province_name\":\"Quebec \\\\/ Qu\\\\u00e9bec\"},\"2407\":{\"data\":[{\"sleeping\":0.0,\"sedentary_behavior\":0.0,\"num_tweets\":4.0,\"physical_activity\":0.0,\"date\":\"2017-11-19\"},{\"sleeping\":0.0,\"sedentary_behavior\":0.0,\"num_tweets\":11.0,\"physical_activity\":0.0,\"date\":\"2017-11-26\"},{\"sleeping\":0.0,\"sedentary_behavior\":2.0,\"num_tweets\":12.0,\"physical_activity\":0.0,\"date\":\"2017-12-03\"}],\"division_name\":\"La Matap\\\\u00e9dia\",\"latitude\":48.412796,\"longitude\":-67.390137,\"province_id\":24,\"province_name\":\"Quebec \\\\/ Qu\\\\u00e9bec\"},\"2408\":{\"data\":[{\"sleeping\":0.0,\"sedentary_behavior\":8.0,\"num_tweets\":108.0,\"physical_activity\":0.0,\"date\":\"2017-11-19\"},{\"sleeping\":4.0,\"sedentary_behavior\":12.0,\"num_tweets\":193.0,\"physical_activity\":4.0,\"date\":\"2017-11-26\"},{\"sleeping\":0.0,\"sedentary_behavior\":4.0,\"num_tweets\":124.0,\"physical_activity\":0.0,\"date\":\"2017-12-03\"},{\"sleeping\":0.0,\"sedentary_behavior\":0.0,\"num_tweets\":32.0,\"physical_activity\":0.0,\"date\":\"2017-12-10\"}],\"division_name\":\"Matane\",\"latitude\":48.8466697,\"longitude\":-67.5317397,\"province_id\":24,\"province_name\":\"Quebec \\\\/ Qu\\\\u00e9bec\"},\"2409\":{\"data\":[{\"sleeping\":0.0,\"sedentary_behavior\":0.0,\"num_tweets\":1.0,\"physical_activity\":0.0,\"date\":\"2017-12-03\"}],\"division_name\":\"La Mitis\",\"latitude\":48.42734735,\"longitude\":-68.0500092382,\"province_id\":24,\"province_name\":\"Quebec \\\\/ Qu\\\\u00e9bec\"},\"2410\":{\"data\":[{\"sleeping\":0.0,\"sedentary_behavior\":8.0,\"num_tweets\":105.0,\"physical_activity\":0.0,\"date\":\"2017-11-19\"},{\"sleeping\":0.0,\"sedentary_behavior\":3.0,\"num_tweets\":241.0,\"physical_activity\":0.0,\"date\":\"2017-11-26\"},{\"sleeping\":0.0,\"sedentary_behavior\":0.0,\"num_tweets\":145.0,\"physical_activity\":0.0,\"date\":\"2017-12-03\"},{\"sleeping\":0.0,\"sedentary_behavior\":0.0,\"num_tweets\":16.0,\"physical_activity\":0.0,\"date\":\"2017-12-10\"}],\"division_name\":\"Rimouski-Neigette\",\"latitude\":48.4332914,\"longitude\":-68.5235867158,\"province_id\":24,\"province_name\":\"Quebec \\\\/ Qu\\\\u00e9bec\"},\"2411\":{\"data\":[],\"division_name\":\"Les Basques\",\"latitude\":null,\"longitude\":null,\"province_id\":24,\"province_name\":\"Quebec \\\\/ Qu\\\\u00e9bec\"},\"2412\":{\"data\":[{\"sleeping\":0.0,\"sedentary_behavior\":0.0,\"num_tweets\":5.0,\"physical_activity\":0.0,\"date\":\"2017-11-05\"},{\"sleeping\":0.0,\"sedentary_behavior\":0.0,\"num_tweets\":20.0,\"physical_activity\":0.0,\"date\":\"2017-11-19\"},{\"sleeping\":0.0,\"sedentary_behavior\":0.0,\"num_tweets\":120.0,\"physical_activity\":0.0,\"date\":\"2017-11-26\"},{\"sleeping\":0.0,\"sedentary_behavior\":0.0,\"num_tweets\":35.0,\"physical_activity\":0.0,\"date\":\"2017-12-03\"},{\"sleeping\":0.0,\"sedentary_behavior\":0.0,\"num_tweets\":10.0,\"physical_activity\":0.0,\"date\":\"2017-12-10\"}],\"division_name\":\"Rivi\\\\u00e8re-du-Loup\",\"latitude\":47.8358164,\"longitude\":-69.5368025,\"province_id\":24,\"province_name\":\"Quebec \\\\/ Qu\\\\u00e9bec\"},\"2413\":{\"data\":[{\"sleeping\":0.0,\"sedentary_behavior\":0.0,\"num_tweets\":4.0,\"physical_activity\":0.0,\"date\":\"2017-11-26\"},{\"sleeping\":0.0,\"sedentary_behavior\":0.0,\"num_tweets\":2.0,\"physical_activity\":0.0,\"date\":\"2017-12-03\"}],\"division_name\":\"T\\\\u00e9miscouata\",\"latitude\":47.684343,\"longitude\":-68.883591,\"province_id\":24,\"province_name\":\"Quebec \\\\/ Qu\\\\u00e9bec\"},\"2414\":{\"data\":[{\"sleeping\":0.0,\"sedentary_behavior\":1.0,\"num_tweets\":4.0,\"physical_activity\":0.0,\"date\":\"2017-11-26\"},{\"sleeping\":0.0,\"sedentary_behavior\":0.0,\"num_tweets\":1.0,\"physical_activity\":0.0,\"date\":\"2017-12-03\"}],\"division_name\":\"Kamouraska\",\"latitude\":47.566797,\"longitude\":-69.866867,\"province_id\":24,\"province_name\":\"Quebec \\\\/ Qu\\\\u00e9bec\"},\"2415\":{\"data\":[{\"sleeping\":0.0,\"sedentary_behavior\":0.0,\"num_tweets\":4.0,\"physical_activity\":0.0,\"date\":\"2017-11-26\"}],\"division_name\":\"Charlevoix-Est\",\"latitude\":47.82132325,\"longitude\":-70.1767257932,\"province_id\":24,\"province_name\":\"Quebec \\\\/ Qu\\\\u00e9bec\"},\"2416\":{\"data\":[{\"sleeping\":0.0,\"sedentary_behavior\":0.0,\"num_tweets\":6.0,\"physical_activity\":0.0,\"date\":\"2017-11-26\"},{\"sleeping\":0.0,\"sedentary_behavior\":0.0,\"num_tweets\":12.0,\"physical_activity\":0.0,\"date\":\"2017-12-03\"},{\"sleeping\":0.0,\"sedentary_behavior\":0.0,\"num_tweets\":3.0,\"physical_activity\":0.0,\"date\":\"2017-12-10\"}],\"division_name\":\"Charlevoix\",\"latitude\":47.6114112,\"longitude\":-70.7215117381,\"province_id\":24,\"province_name\":\"Quebec \\\\/ Qu\\\\u00e9bec\"},\"2417\":{\"data\":[],\"division_name\":\"L\\'Islet\",\"latitude\":46.8812716,\"longitude\":-71.1188369891,\"province_id\":24,\"province_name\":\"Quebec \\\\/ Qu\\\\u00e9bec\"},\"2418\":{\"data\":[{\"sleeping\":0.0,\"sedentary_behavior\":3.0,\"num_tweets\":12.0,\"physical_activity\":3.0,\"date\":\"2017-11-26\"},{\"sleeping\":0.0,\"sedentary_behavior\":0.0,\"num_tweets\":7.0,\"physical_activity\":0.0,\"date\":\"2017-12-03\"},{\"sleeping\":0.0,\"sedentary_behavior\":0.0,\"num_tweets\":3.0,\"physical_activity\":0.0,\"date\":\"2017-12-10\"}],\"division_name\":\"Montmagny\",\"latitude\":46.981892,\"longitude\":-70.555916,\"province_id\":24,\"province_name\":\"Quebec \\\\/ Qu\\\\u00e9bec\"},\"2419\":{\"data\":[],\"division_name\":\"Bellechasse\",\"latitude\":46.8696461,\"longitude\":-70.7754501,\"province_id\":24,\"province_name\":\"Quebec \\\\/ Qu\\\\u00e9bec\"},\"2420\":{\"data\":[{\"sleeping\":0.0,\"sedentary_behavior\":0.0,\"num_tweets\":8.0,\"physical_activity\":3.0,\"date\":\"2017-11-19\"},{\"sleeping\":0.0,\"sedentary_behavior\":0.0,\"num_tweets\":18.0,\"physical_activity\":0.0,\"date\":\"2017-11-26\"},{\"sleeping\":0.0,\"sedentary_behavior\":0.0,\"num_tweets\":3.0,\"physical_activity\":0.0,\"date\":\"2017-12-03\"},{\"sleeping\":0.0,\"sedentary_behavior\":0.0,\"num_tweets\":2.0,\"physical_activity\":0.0,\"date\":\"2017-12-10\"}],\"division_name\":\"L\\'\\\\u00cele-d\\'Orl\\\\u00e9ans\",\"latitude\":46.8787849,\"longitude\":-71.1304836,\"province_id\":24,\"province_name\":\"Quebec \\\\/ Qu\\\\u00e9bec\"},\"2421\":{\"data\":[{\"sleeping\":0.0,\"sedentary_behavior\":0.0,\"num_tweets\":2.0,\"physical_activity\":0.0,\"date\":\"2017-11-26\"},{\"sleeping\":0.0,\"sedentary_behavior\":0.0,\"num_tweets\":6.0,\"physical_activity\":0.0,\"date\":\"2017-12-03\"}],\"division_name\":\"La C\\\\u00f4te-de-Beaupr\\\\u00e9\",\"latitude\":47.41831145,\"longitude\":-71.1991017974,\"province_id\":24,\"province_name\":\"Quebec \\\\/ Qu\\\\u00e9bec\"},\"2422\":{\"data\":[],\"division_name\":\"La Jacques-Cartier\",\"latitude\":47.27416065,\"longitude\":-71.5634219182,\"province_id\":24,\"province_name\":\"Quebec \\\\/ Qu\\\\u00e9bec\"},\"2423\":{\"data\":[{\"sleeping\":5.0,\"sedentary_behavior\":5.0,\"num_tweets\":140.0,\"physical_activity\":0.0,\"date\":\"2017-11-05\"},{\"sleeping\":50.0,\"sedentary_behavior\":310.0,\"num_tweets\":6023.0,\"physical_activity\":65.0,\"date\":\"2017-11-19\"},{\"sleeping\":65.0,\"sedentary_behavior\":675.0,\"num_tweets\":13137.0,\"physical_activity\":155.0,\"date\":\"2017-11-26\"},{\"sleeping\":15.0,\"sedentary_behavior\":398.0,\"num_tweets\":6847.0,\"physical_activity\":88.0,\"date\":\"2017-12-03\"},{\"sleeping\":40.0,\"sedentary_behavior\":130.0,\"num_tweets\":1555.0,\"physical_activity\":50.0,\"date\":\"2017-12-10\"}],\"division_name\":\"Qu\\\\u00e9bec\",\"latitude\":46.8259601,\"longitude\":-71.2352226,\"province_id\":24,\"province_name\":\"Quebec \\\\/ Qu\\\\u00e9bec\"},\"2425\":{\"data\":[{\"sleeping\":0.0,\"sedentary_behavior\":0.0,\"num_tweets\":5.0,\"physical_activity\":0.0,\"date\":\"2017-11-05\"},{\"sleeping\":0.0,\"sedentary_behavior\":30.0,\"num_tweets\":470.0,\"physical_activity\":0.0,\"date\":\"2017-11-19\"},{\"sleeping\":0.0,\"sedentary_behavior\":30.0,\"num_tweets\":853.0,\"physical_activity\":5.0,\"date\":\"2017-11-26\"},{\"sleeping\":0.0,\"sedentary_behavior\":5.0,\"num_tweets\":496.0,\"physical_activity\":10.0,\"date\":\"2017-12-03\"},{\"sleeping\":0.0,\"sedentary_behavior\":5.0,\"num_tweets\":60.0,\"physical_activity\":0.0,\"date\":\"2017-12-10\"}],\"division_name\":\"L\\\\u00e9vis\",\"latitude\":46.7910096,\"longitude\":-71.1753274,\"province_id\":24,\"province_name\":\"Quebec \\\\/ Qu\\\\u00e9bec\"},\"2426\":{\"data\":[],\"division_name\":\"La Nouvelle-Beauce\",\"latitude\":null,\"longitude\":null,\"province_id\":24,\"province_name\":\"Quebec \\\\/ Qu\\\\u00e9bec\"},\"2427\":{\"data\":[{\"sleeping\":0.0,\"sedentary_behavior\":0.0,\"num_tweets\":3.0,\"physical_activity\":0.0,\"date\":\"2017-11-26\"}],\"division_name\":\"Robert-Cliche\",\"latitude\":46.735824,\"longitude\":-71.2838009,\"province_id\":24,\"province_name\":\"Quebec \\\\/ Qu\\\\u00e9bec\"},\"2428\":{\"data\":[],\"division_name\":\"Les Etchemins\",\"latitude\":null,\"longitude\":null,\"province_id\":24,\"province_name\":\"Quebec \\\\/ Qu\\\\u00e9bec\"},\"2429\":{\"data\":[{\"sleeping\":0.0,\"sedentary_behavior\":0.0,\"num_tweets\":38.0,\"physical_activity\":0.0,\"date\":\"2017-11-19\"},{\"sleeping\":0.0,\"sedentary_behavior\":0.0,\"num_tweets\":86.0,\"physical_activity\":0.0,\"date\":\"2017-11-26\"},{\"sleeping\":0.0,\"sedentary_behavior\":0.0,\"num_tweets\":41.0,\"physical_activity\":0.0,\"date\":\"2017-12-03\"},{\"sleeping\":0.0,\"sedentary_behavior\":0.0,\"num_tweets\":8.0,\"physical_activity\":0.0,\"date\":\"2017-12-10\"}],\"division_name\":\"Beauce-Sartigan\",\"latitude\":46.12655105,\"longitude\":-70.6691818414,\"province_id\":24,\"province_name\":\"Quebec \\\\/ Qu\\\\u00e9bec\"},\"2430\":{\"data\":[{\"sleeping\":0.0,\"sedentary_behavior\":0.0,\"num_tweets\":2.0,\"physical_activity\":0.0,\"date\":\"2017-12-03\"},{\"sleeping\":0.0,\"sedentary_behavior\":0.0,\"num_tweets\":2.0,\"physical_activity\":0.0,\"date\":\"2017-12-10\"}],\"division_name\":\"Le Granit\",\"latitude\":45.0081335,\"longitude\":-72.0972678,\"province_id\":24,\"province_name\":\"Quebec \\\\/ Qu\\\\u00e9bec\"},\"2431\":{\"data\":[],\"division_name\":\"Les Appalaches\",\"latitude\":48.9708637,\"longitude\":-64.4486373,\"province_id\":24,\"province_name\":\"Quebec \\\\/ Qu\\\\u00e9bec\"},\"2432\":{\"data\":[{\"sleeping\":0.0,\"sedentary_behavior\":0.0,\"num_tweets\":3.0,\"physical_activity\":0.0,\"date\":\"2017-11-19\"},{\"sleeping\":0.0,\"sedentary_behavior\":3.0,\"num_tweets\":16.0,\"physical_activity\":0.0,\"date\":\"2017-11-26\"},{\"sleeping\":0.0,\"sedentary_behavior\":0.0,\"num_tweets\":6.0,\"physical_activity\":0.0,\"date\":\"2017-12-03\"}],\"division_name\":\"L\\'\\\\u00c9rable\",\"latitude\":45.3609838,\"longitude\":-72.240677,\"province_id\":24,\"province_name\":\"Quebec \\\\/ Qu\\\\u00e9bec\"},\"2433\":{\"data\":[{\"sleeping\":0.0,\"sedentary_behavior\":1.0,\"num_tweets\":7.0,\"physical_activity\":1.0,\"date\":\"2017-11-26\"},{\"sleeping\":0.0,\"sedentary_behavior\":0.0,\"num_tweets\":2.0,\"physical_activity\":0.0,\"date\":\"2017-12-10\"}],\"division_name\":\"Lotbini\\\\u00e8re\",\"latitude\":46.6158722,\"longitude\":-71.9352468,\"province_id\":24,\"province_name\":\"Quebec \\\\/ Qu\\\\u00e9bec\"},\"2434\":{\"data\":[{\"sleeping\":0.0,\"sedentary_behavior\":0.0,\"num_tweets\":1.0,\"physical_activity\":0.0,\"date\":\"2017-12-03\"}],\"division_name\":\"Portneuf\",\"latitude\":46.99346845,\"longitude\":-71.9920602105,\"province_id\":24,\"province_name\":\"Quebec \\\\/ Qu\\\\u00e9bec\"},\"2435\":{\"data\":[{\"sleeping\":0.0,\"sedentary_behavior\":0.0,\"num_tweets\":1.0,\"physical_activity\":0.0,\"date\":\"2017-11-26\"}],\"division_name\":\"M\\\\u00e9kinac\",\"latitude\":47.0538687,\"longitude\":-73.0931461972,\"province_id\":24,\"province_name\":\"Quebec \\\\/ Qu\\\\u00e9bec\"},\"2436\":{\"data\":[{\"sleeping\":0.0,\"sedentary_behavior\":0.0,\"num_tweets\":22.0,\"physical_activity\":0.0,\"date\":\"2017-11-05\"},{\"sleeping\":0.0,\"sedentary_behavior\":10.0,\"num_tweets\":31.0,\"physical_activity\":10.0,\"date\":\"2017-11-19\"},{\"sleeping\":5.0,\"sedentary_behavior\":50.0,\"num_tweets\":454.0,\"physical_activity\":25.0,\"date\":\"2017-11-26\"},{\"sleeping\":0.0,\"sedentary_behavior\":30.0,\"num_tweets\":335.0,\"physical_activity\":50.0,\"date\":\"2017-12-03\"},{\"sleeping\":0.0,\"sedentary_behavior\":5.0,\"num_tweets\":30.0,\"physical_activity\":0.0,\"date\":\"2017-12-10\"}],\"division_name\":\"Shawinigan\",\"latitude\":46.5389609,\"longitude\":-72.7467621,\"province_id\":24,\"province_name\":\"Quebec \\\\/ Qu\\\\u00e9bec\"},\"2437\":{\"data\":[],\"division_name\":\"Francheville\",\"latitude\":45.588618,\"longitude\":-73.6036527,\"province_id\":24,\"province_name\":\"Quebec \\\\/ Qu\\\\u00e9bec\"},\"2438\":{\"data\":[{\"sleeping\":0.0,\"sedentary_behavior\":0.0,\"num_tweets\":6.0,\"physical_activity\":0.0,\"date\":\"2017-11-05\"},{\"sleeping\":16.0,\"sedentary_behavior\":20.0,\"num_tweets\":96.0,\"physical_activity\":0.0,\"date\":\"2017-11-19\"},{\"sleeping\":0.0,\"sedentary_behavior\":14.0,\"num_tweets\":218.0,\"physical_activity\":7.0,\"date\":\"2017-11-26\"},{\"sleeping\":0.0,\"sedentary_behavior\":12.0,\"num_tweets\":208.0,\"physical_activity\":0.0,\"date\":\"2017-12-03\"},{\"sleeping\":0.0,\"sedentary_behavior\":8.0,\"num_tweets\":28.0,\"physical_activity\":0.0,\"date\":\"2017-12-10\"}],\"division_name\":\"B\\\\u00e9cancour\",\"latitude\":46.339343,\"longitude\":-72.433205,\"province_id\":24,\"province_name\":\"Quebec \\\\/ Qu\\\\u00e9bec\"},\"2439\":{\"data\":[{\"sleeping\":0.0,\"sedentary_behavior\":0.0,\"num_tweets\":15.0,\"physical_activity\":0.0,\"date\":\"2017-11-05\"},{\"sleeping\":0.0,\"sedentary_behavior\":20.0,\"num_tweets\":536.0,\"physical_activity\":15.0,\"date\":\"2017-11-19\"},{\"sleeping\":15.0,\"sedentary_behavior\":60.0,\"num_tweets\":1235.0,\"physical_activity\":20.0,\"date\":\"2017-11-26\"},{\"sleeping\":0.0,\"sedentary_behavior\":20.0,\"num_tweets\":565.0,\"physical_activity\":0.0,\"date\":\"2017-12-03\"},{\"sleeping\":0.0,\"sedentary_behavior\":0.0,\"num_tweets\":115.0,\"physical_activity\":0.0,\"date\":\"2017-12-10\"}],\"division_name\":\"Arthabaska\",\"latitude\":47.650125,\"longitude\":-70.774487,\"province_id\":24,\"province_name\":\"Quebec \\\\/ Qu\\\\u00e9bec\"},\"2440\":{\"data\":[],\"division_name\":\"Les Sources\",\"latitude\":null,\"longitude\":null,\"province_id\":24,\"province_name\":\"Quebec \\\\/ Qu\\\\u00e9bec\"},\"2441\":{\"data\":[],\"division_name\":\"Le Haut-Saint-Fran\\\\u00e7ois\",\"latitude\":null,\"longitude\":null,\"province_id\":24,\"province_name\":\"Quebec \\\\/ Qu\\\\u00e9bec\"},\"2442\":{\"data\":[],\"division_name\":\"Le Val-Saint-Fran\\\\u00e7ois\",\"latitude\":null,\"longitude\":null,\"province_id\":24,\"province_name\":\"Quebec \\\\/ Qu\\\\u00e9bec\"},\"2443\":{\"data\":[{\"sleeping\":0.0,\"sedentary_behavior\":0.0,\"num_tweets\":10.0,\"physical_activity\":0.0,\"date\":\"2017-11-05\"},{\"sleeping\":0.0,\"sedentary_behavior\":42.0,\"num_tweets\":574.0,\"physical_activity\":15.0,\"date\":\"2017-11-19\"},{\"sleeping\":15.0,\"sedentary_behavior\":110.0,\"num_tweets\":1370.0,\"physical_activity\":35.0,\"date\":\"2017-11-26\"},{\"sleeping\":5.0,\"sedentary_behavior\":55.0,\"num_tweets\":756.0,\"physical_activity\":6.0,\"date\":\"2017-12-03\"},{\"sleeping\":0.0,\"sedentary_behavior\":15.0,\"num_tweets\":140.0,\"physical_activity\":0.0,\"date\":\"2017-12-10\"}],\"division_name\":\"Sherbrooke\",\"latitude\":45.403271,\"longitude\":-71.889038,\"province_id\":24,\"province_name\":\"Quebec \\\\/ Qu\\\\u00e9bec\"},\"2444\":{\"data\":[{\"sleeping\":0.0,\"sedentary_behavior\":4.0,\"num_tweets\":24.0,\"physical_activity\":0.0,\"date\":\"2017-11-19\"},{\"sleeping\":0.0,\"sedentary_behavior\":12.0,\"num_tweets\":120.0,\"physical_activity\":4.0,\"date\":\"2017-11-26\"},{\"sleeping\":0.0,\"sedentary_behavior\":4.0,\"num_tweets\":48.0,\"physical_activity\":4.0,\"date\":\"2017-12-03\"},{\"sleeping\":0.0,\"sedentary_behavior\":4.0,\"num_tweets\":8.0,\"physical_activity\":0.0,\"date\":\"2017-12-10\"}],\"division_name\":\"Coaticook\",\"latitude\":45.1334169,\"longitude\":-71.803479,\"province_id\":24,\"province_name\":\"Quebec \\\\/ Qu\\\\u00e9bec\"},\"2445\":{\"data\":[{\"sleeping\":0.0,\"sedentary_behavior\":0.0,\"num_tweets\":4.0,\"physical_activity\":0.0,\"date\":\"2017-11-19\"},{\"sleeping\":0.0,\"sedentary_behavior\":0.0,\"num_tweets\":9.0,\"physical_activity\":0.0,\"date\":\"2017-11-26\"},{\"sleeping\":0.0,\"sedentary_behavior\":0.0,\"num_tweets\":32.0,\"physical_activity\":0.0,\"date\":\"2017-12-03\"},{\"sleeping\":0.0,\"sedentary_behavior\":0.0,\"num_tweets\":4.0,\"physical_activity\":0.0,\"date\":\"2017-12-10\"}],\"division_name\":\"Memphr\\\\u00e9magog\",\"latitude\":45.2629236,\"longitude\":-72.1435927083,\"province_id\":24,\"province_name\":\"Quebec \\\\/ Qu\\\\u00e9bec\"},\"2446\":{\"data\":[{\"sleeping\":0.0,\"sedentary_behavior\":0.0,\"num_tweets\":6.0,\"physical_activity\":0.0,\"date\":\"2017-11-19\"},{\"sleeping\":0.0,\"sedentary_behavior\":0.0,\"num_tweets\":21.0,\"physical_activity\":6.0,\"date\":\"2017-11-26\"},{\"sleeping\":0.0,\"sedentary_behavior\":5.0,\"num_tweets\":19.0,\"physical_activity\":6.0,\"date\":\"2017-12-03\"}],\"division_name\":\"Brome-Missisquoi\",\"latitude\":45.20721195,\"longitude\":-72.7142660803,\"province_id\":24,\"province_name\":\"Quebec \\\\/ Qu\\\\u00e9bec\"},\"2447\":{\"data\":[{\"sleeping\":0.0,\"sedentary_behavior\":8.0,\"num_tweets\":308.0,\"physical_activity\":0.0,\"date\":\"2017-11-19\"},{\"sleeping\":0.0,\"sedentary_behavior\":4.0,\"num_tweets\":200.0,\"physical_activity\":0.0,\"date\":\"2017-11-26\"},{\"sleeping\":0.0,\"sedentary_behavior\":12.0,\"num_tweets\":128.0,\"physical_activity\":4.0,\"date\":\"2017-12-03\"},{\"sleeping\":0.0,\"sedentary_behavior\":4.0,\"num_tweets\":24.0,\"physical_activity\":0.0,\"date\":\"2017-12-10\"}],\"division_name\":\"La Haute-Yamaska\",\"latitude\":45.4113256,\"longitude\":-72.7223007154,\"province_id\":24,\"province_name\":\"Quebec \\\\/ Qu\\\\u00e9bec\"},\"2448\":{\"data\":[{\"sleeping\":0.0,\"sedentary_behavior\":2.0,\"num_tweets\":9.0,\"physical_activity\":0.0,\"date\":\"2017-11-19\"},{\"sleeping\":0.0,\"sedentary_behavior\":0.0,\"num_tweets\":10.0,\"physical_activity\":1.0,\"date\":\"2017-11-26\"},{\"sleeping\":0.0,\"sedentary_behavior\":2.0,\"num_tweets\":3.0,\"physical_activity\":0.0,\"date\":\"2017-12-03\"}],\"division_name\":\"Acton\",\"latitude\":45.647648,\"longitude\":-72.564011,\"province_id\":24,\"province_name\":\"Quebec \\\\/ Qu\\\\u00e9bec\"},\"2449\":{\"data\":[],\"division_name\":\"Drummond\",\"latitude\":45.5091531,\"longitude\":-73.5999403,\"province_id\":24,\"province_name\":\"Quebec \\\\/ Qu\\\\u00e9bec\"},\"2450\":{\"data\":[],\"division_name\":\"Nicolet-Yamaska\",\"latitude\":null,\"longitude\":null,\"province_id\":24,\"province_name\":\"Quebec \\\\/ Qu\\\\u00e9bec\"},\"2451\":{\"data\":[{\"sleeping\":0.0,\"sedentary_behavior\":4.0,\"num_tweets\":36.0,\"physical_activity\":0.0,\"date\":\"2017-11-19\"},{\"sleeping\":0.0,\"sedentary_behavior\":0.0,\"num_tweets\":20.0,\"physical_activity\":0.0,\"date\":\"2017-11-26\"},{\"sleeping\":0.0,\"sedentary_behavior\":4.0,\"num_tweets\":12.0,\"physical_activity\":0.0,\"date\":\"2017-12-03\"},{\"sleeping\":0.0,\"sedentary_behavior\":0.0,\"num_tweets\":24.0,\"physical_activity\":0.0,\"date\":\"2017-12-10\"}],\"division_name\":\"Maskinong\\\\u00e9\",\"latitude\":46.2282338,\"longitude\":-73.0164873,\"province_id\":24,\"province_name\":\"Quebec \\\\/ Qu\\\\u00e9bec\"},\"2452\":{\"data\":[],\"division_name\":\"D\\'Autray\",\"latitude\":46.216735,\"longitude\":-73.2567319006,\"province_id\":24,\"province_name\":\"Quebec \\\\/ Qu\\\\u00e9bec\"},\"2453\":{\"data\":[{\"sleeping\":0.0,\"sedentary_behavior\":0.0,\"num_tweets\":4.0,\"physical_activity\":0.0,\"date\":\"2017-11-19\"},{\"sleeping\":0.0,\"sedentary_behavior\":0.0,\"num_tweets\":3.0,\"physical_activity\":0.0,\"date\":\"2017-11-26\"}],\"division_name\":\"Pierre-De Saurel\",\"latitude\":46.0278804,\"longitude\":-73.0972552,\"province_id\":24,\"province_name\":\"Quebec \\\\/ Qu\\\\u00e9bec\"},\"2454\":{\"data\":[],\"division_name\":\"Les Maskoutains\",\"latitude\":null,\"longitude\":null,\"province_id\":24,\"province_name\":\"Quebec \\\\/ Qu\\\\u00e9bec\"},\"2455\":{\"data\":[{\"sleeping\":0.0,\"sedentary_behavior\":0.0,\"num_tweets\":3.0,\"physical_activity\":0.0,\"date\":\"2017-11-19\"},{\"sleeping\":3.0,\"sedentary_behavior\":3.0,\"num_tweets\":47.0,\"physical_activity\":0.0,\"date\":\"2017-11-26\"},{\"sleeping\":0.0,\"sedentary_behavior\":6.0,\"num_tweets\":47.0,\"physical_activity\":0.0,\"date\":\"2017-12-03\"}],\"division_name\":\"Rouville\",\"latitude\":45.5199004,\"longitude\":-73.1495501,\"province_id\":24,\"province_name\":\"Quebec \\\\/ Qu\\\\u00e9bec\"},\"2456\":{\"data\":[{\"sleeping\":0.0,\"sedentary_behavior\":0.0,\"num_tweets\":2.0,\"physical_activity\":0.0,\"date\":\"2017-11-26\"},{\"sleeping\":0.0,\"sedentary_behavior\":0.0,\"num_tweets\":2.0,\"physical_activity\":0.0,\"date\":\"2017-12-03\"},{\"sleeping\":0.0,\"sedentary_behavior\":0.0,\"num_tweets\":1.0,\"physical_activity\":0.0,\"date\":\"2017-12-10\"}],\"division_name\":\"Le Haut-Richelieu\",\"latitude\":45.305326,\"longitude\":-73.2541753997,\"province_id\":24,\"province_name\":\"Quebec \\\\/ Qu\\\\u00e9bec\"},\"2457\":{\"data\":[{\"sleeping\":0.0,\"sedentary_behavior\":4.0,\"num_tweets\":96.0,\"physical_activity\":4.0,\"date\":\"2017-11-19\"},{\"sleeping\":0.0,\"sedentary_behavior\":28.0,\"num_tweets\":252.0,\"physical_activity\":12.0,\"date\":\"2017-11-26\"},{\"sleeping\":0.0,\"sedentary_behavior\":4.0,\"num_tweets\":94.0,\"physical_activity\":0.0,\"date\":\"2017-12-03\"},{\"sleeping\":0.0,\"sedentary_behavior\":8.0,\"num_tweets\":40.0,\"physical_activity\":0.0,\"date\":\"2017-12-10\"}],\"division_name\":\"La Vall\\\\u00e9e-du-Richelieu\",\"latitude\":45.6305465,\"longitude\":-73.1828338,\"province_id\":24,\"province_name\":\"Quebec \\\\/ Qu\\\\u00e9bec\"},\"2458\":{\"data\":[{\"sleeping\":0.0,\"sedentary_behavior\":0.0,\"num_tweets\":40.0,\"physical_activity\":0.0,\"date\":\"2017-11-05\"},{\"sleeping\":0.0,\"sedentary_behavior\":54.0,\"num_tweets\":901.0,\"physical_activity\":20.0,\"date\":\"2017-11-19\"},{\"sleeping\":30.0,\"sedentary_behavior\":182.0,\"num_tweets\":2721.0,\"physical_activity\":64.0,\"date\":\"2017-11-26\"},{\"sleeping\":5.0,\"sedentary_behavior\":50.0,\"num_tweets\":1314.0,\"physical_activity\":23.0,\"date\":\"2017-12-03\"},{\"sleeping\":10.0,\"sedentary_behavior\":30.0,\"num_tweets\":368.0,\"physical_activity\":29.0,\"date\":\"2017-12-10\"}],\"division_name\":\"Longueuil\",\"latitude\":45.5172382,\"longitude\":-73.4467466,\"province_id\":24,\"province_name\":\"Quebec \\\\/ Qu\\\\u00e9bec\"},\"2459\":{\"data\":[{\"sleeping\":0.0,\"sedentary_behavior\":0.0,\"num_tweets\":1.0,\"physical_activity\":0.0,\"date\":\"2017-11-26\"}],\"division_name\":\"Lajemmerais\",\"latitude\":45.5984181,\"longitude\":-73.5985252,\"province_id\":24,\"province_name\":\"Quebec \\\\/ Qu\\\\u00e9bec\"},\"2460\":{\"data\":[{\"sleeping\":0.0,\"sedentary_behavior\":0.0,\"num_tweets\":5.0,\"physical_activity\":5.0,\"date\":\"2017-11-05\"},{\"sleeping\":0.0,\"sedentary_behavior\":0.0,\"num_tweets\":40.0,\"physical_activity\":0.0,\"date\":\"2017-11-19\"},{\"sleeping\":4.0,\"sedentary_behavior\":0.0,\"num_tweets\":83.0,\"physical_activity\":0.0,\"date\":\"2017-11-26\"},{\"sleeping\":0.0,\"sedentary_behavior\":0.0,\"num_tweets\":43.0,\"physical_activity\":0.0,\"date\":\"2017-12-03\"},{\"sleeping\":0.0,\"sedentary_behavior\":0.0,\"num_tweets\":14.0,\"physical_activity\":0.0,\"date\":\"2017-12-10\"}],\"division_name\":\"L\\'Assomption\",\"latitude\":45.8307051,\"longitude\":-73.4222086,\"province_id\":24,\"province_name\":\"Quebec \\\\/ Qu\\\\u00e9bec\"},\"2461\":{\"data\":[{\"sleeping\":0.0,\"sedentary_behavior\":0.0,\"num_tweets\":12.0,\"physical_activity\":0.0,\"date\":\"2017-11-19\"},{\"sleeping\":0.0,\"sedentary_behavior\":4.0,\"num_tweets\":95.0,\"physical_activity\":0.0,\"date\":\"2017-11-26\"},{\"sleeping\":0.0,\"sedentary_behavior\":4.0,\"num_tweets\":86.0,\"physical_activity\":0.0,\"date\":\"2017-12-03\"},{\"sleeping\":0.0,\"sedentary_behavior\":4.0,\"num_tweets\":12.0,\"physical_activity\":4.0,\"date\":\"2017-12-10\"}],\"division_name\":\"Joliette\",\"latitude\":46.0243857,\"longitude\":-73.439845,\"province_id\":24,\"province_name\":\"Quebec \\\\/ Qu\\\\u00e9bec\"},\"2462\":{\"data\":[{\"sleeping\":0.0,\"sedentary_behavior\":0.0,\"num_tweets\":1.0,\"physical_activity\":0.0,\"date\":\"2017-11-26\"}],\"division_name\":\"Matawinie\",\"latitude\":46.87002175,\"longitude\":-74.0611817261,\"province_id\":24,\"province_name\":\"Quebec \\\\/ Qu\\\\u00e9bec\"},\"2463\":{\"data\":[{\"sleeping\":0.0,\"sedentary_behavior\":0.0,\"num_tweets\":5.0,\"physical_activity\":0.0,\"date\":\"2017-11-05\"},{\"sleeping\":0.0,\"sedentary_behavior\":0.0,\"num_tweets\":45.0,\"physical_activity\":0.0,\"date\":\"2017-11-19\"},{\"sleeping\":0.0,\"sedentary_behavior\":3.0,\"num_tweets\":196.0,\"physical_activity\":0.0,\"date\":\"2017-11-26\"},{\"sleeping\":0.0,\"sedentary_behavior\":5.0,\"num_tweets\":79.0,\"physical_activity\":0.0,\"date\":\"2017-12-03\"},{\"sleeping\":5.0,\"sedentary_behavior\":10.0,\"num_tweets\":32.0,\"physical_activity\":0.0,\"date\":\"2017-12-10\"}],\"division_name\":\"Montcalm\",\"latitude\":45.9223436,\"longitude\":-73.6971348065,\"province_id\":24,\"province_name\":\"Quebec \\\\/ Qu\\\\u00e9bec\"},\"2464\":{\"data\":[{\"sleeping\":0.0,\"sedentary_behavior\":0.0,\"num_tweets\":5.0,\"physical_activity\":0.0,\"date\":\"2017-11-05\"},{\"sleeping\":0.0,\"sedentary_behavior\":0.0,\"num_tweets\":65.0,\"physical_activity\":5.0,\"date\":\"2017-11-19\"},{\"sleeping\":5.0,\"sedentary_behavior\":0.0,\"num_tweets\":150.0,\"physical_activity\":0.0,\"date\":\"2017-11-26\"},{\"sleeping\":5.0,\"sedentary_behavior\":15.0,\"num_tweets\":115.0,\"physical_activity\":0.0,\"date\":\"2017-12-03\"},{\"sleeping\":0.0,\"sedentary_behavior\":0.0,\"num_tweets\":15.0,\"physical_activity\":0.0,\"date\":\"2017-12-10\"}],\"division_name\":\"Les Moulins\",\"latitude\":45.74816055,\"longitude\":-73.6346122781,\"province_id\":24,\"province_name\":\"Quebec \\\\/ Qu\\\\u00e9bec\"},\"2465\":{\"data\":[{\"sleeping\":5.0,\"sedentary_behavior\":15.0,\"num_tweets\":80.0,\"physical_activity\":0.0,\"date\":\"2017-11-05\"},{\"sleeping\":5.0,\"sedentary_behavior\":160.0,\"num_tweets\":2824.0,\"physical_activity\":65.0,\"date\":\"2017-11-19\"},{\"sleeping\":70.0,\"sedentary_behavior\":667.0,\"num_tweets\":6976.0,\"physical_activity\":160.0,\"date\":\"2017-11-26\"},{\"sleeping\":29.0,\"sedentary_behavior\":258.0,\"num_tweets\":3635.0,\"physical_activity\":85.0,\"date\":\"2017-12-03\"},{\"sleeping\":10.0,\"sedentary_behavior\":50.0,\"num_tweets\":744.0,\"physical_activity\":5.0,\"date\":\"2017-12-10\"}],\"division_name\":\"Laval\",\"latitude\":45.60558895,\"longitude\":-73.7344969952,\"province_id\":24,\"province_name\":\"Quebec \\\\/ Qu\\\\u00e9bec\"},\"2466\":{\"data\":[{\"sleeping\":10.0,\"sedentary_behavior\":85.0,\"num_tweets\":900.0,\"physical_activity\":35.0,\"date\":\"2017-11-05\"},{\"sleeping\":388.0,\"sedentary_behavior\":3188.0,\"num_tweets\":41072.0,\"physical_activity\":880.0,\"date\":\"2017-11-19\"},{\"sleeping\":675.0,\"sedentary_behavior\":6439.0,\"num_tweets\":83475.0,\"physical_activity\":2156.0,\"date\":\"2017-11-26\"},{\"sleeping\":450.0,\"sedentary_behavior\":3569.0,\"num_tweets\":43999.0,\"physical_activity\":1073.0,\"date\":\"2017-12-03\"},{\"sleeping\":135.0,\"sedentary_behavior\":525.0,\"num_tweets\":9041.0,\"physical_activity\":210.0,\"date\":\"2017-12-10\"}],\"division_name\":\"Montr\\\\u00e9al\",\"latitude\":45.4972159,\"longitude\":-73.6103642,\"province_id\":24,\"province_name\":\"Quebec \\\\/ Qu\\\\u00e9bec\"},\"2467\":{\"data\":[],\"division_name\":\"Roussillon\",\"latitude\":45.5414941,\"longitude\":-73.4946444245,\"province_id\":24,\"province_name\":\"Quebec \\\\/ Qu\\\\u00e9bec\"},\"2468\":{\"data\":[{\"sleeping\":0.0,\"sedentary_behavior\":0.0,\"num_tweets\":3.0,\"physical_activity\":0.0,\"date\":\"2017-11-19\"},{\"sleeping\":0.0,\"sedentary_behavior\":0.0,\"num_tweets\":3.0,\"physical_activity\":0.0,\"date\":\"2017-11-26\"},{\"sleeping\":0.0,\"sedentary_behavior\":0.0,\"num_tweets\":3.0,\"physical_activity\":0.0,\"date\":\"2017-12-03\"}],\"division_name\":\"Les Jardins-de-Napierville\",\"latitude\":null,\"longitude\":null,\"province_id\":24,\"province_name\":\"Quebec \\\\/ Qu\\\\u00e9bec\"},\"2469\":{\"data\":[{\"sleeping\":0.0,\"sedentary_behavior\":0.0,\"num_tweets\":1.0,\"physical_activity\":0.0,\"date\":\"2017-11-19\"},{\"sleeping\":0.0,\"sedentary_behavior\":0.0,\"num_tweets\":1.0,\"physical_activity\":0.0,\"date\":\"2017-12-03\"}],\"division_name\":\"Le Haut-Saint-Laurent\",\"latitude\":46.8547179,\"longitude\":-71.0534745,\"province_id\":24,\"province_name\":\"Quebec \\\\/ Qu\\\\u00e9bec\"},\"2470\":{\"data\":[{\"sleeping\":0.0,\"sedentary_behavior\":0.0,\"num_tweets\":18.0,\"physical_activity\":0.0,\"date\":\"2017-11-19\"},{\"sleeping\":3.0,\"sedentary_behavior\":9.0,\"num_tweets\":84.0,\"physical_activity\":0.0,\"date\":\"2017-11-26\"},{\"sleeping\":0.0,\"sedentary_behavior\":0.0,\"num_tweets\":45.0,\"physical_activity\":0.0,\"date\":\"2017-12-03\"},{\"sleeping\":0.0,\"sedentary_behavior\":0.0,\"num_tweets\":3.0,\"physical_activity\":0.0,\"date\":\"2017-12-10\"}],\"division_name\":\"Beauharnois-Salaberry\",\"latitude\":45.21652845,\"longitude\":-74.1151879805,\"province_id\":24,\"province_name\":\"Quebec \\\\/ Qu\\\\u00e9bec\"},\"2471\":{\"data\":[{\"sleeping\":0.0,\"sedentary_behavior\":0.0,\"num_tweets\":5.0,\"physical_activity\":0.0,\"date\":\"2017-11-05\"},{\"sleeping\":0.0,\"sedentary_behavior\":28.0,\"num_tweets\":301.0,\"physical_activity\":15.0,\"date\":\"2017-11-19\"},{\"sleeping\":0.0,\"sedentary_behavior\":91.0,\"num_tweets\":655.0,\"physical_activity\":25.0,\"date\":\"2017-11-26\"},{\"sleeping\":0.0,\"sedentary_behavior\":25.0,\"num_tweets\":244.0,\"physical_activity\":5.0,\"date\":\"2017-12-03\"},{\"sleeping\":0.0,\"sedentary_behavior\":4.0,\"num_tweets\":74.0,\"physical_activity\":0.0,\"date\":\"2017-12-10\"}],\"division_name\":\"Vaudreuil-Soulanges\",\"latitude\":45.37723455,\"longitude\":-74.1362429399,\"province_id\":24,\"province_name\":\"Quebec \\\\/ Qu\\\\u00e9bec\"},\"2472\":{\"data\":[{\"sleeping\":0.0,\"sedentary_behavior\":4.0,\"num_tweets\":4.0,\"physical_activity\":0.0,\"date\":\"2017-11-19\"},{\"sleeping\":8.0,\"sedentary_behavior\":20.0,\"num_tweets\":349.0,\"physical_activity\":0.0,\"date\":\"2017-11-26\"},{\"sleeping\":0.0,\"sedentary_behavior\":0.0,\"num_tweets\":108.0,\"physical_activity\":0.0,\"date\":\"2017-12-03\"},{\"sleeping\":0.0,\"sedentary_behavior\":4.0,\"num_tweets\":128.0,\"physical_activity\":0.0,\"date\":\"2017-12-10\"}],\"division_name\":\"Deux-Montagnes\",\"latitude\":45.5355009,\"longitude\":-73.9806930378,\"province_id\":24,\"province_name\":\"Quebec \\\\/ Qu\\\\u00e9bec\"},\"2473\":{\"data\":[{\"sleeping\":0.0,\"sedentary_behavior\":0.0,\"num_tweets\":72.0,\"physical_activity\":0.0,\"date\":\"2017-11-19\"},{\"sleeping\":0.0,\"sedentary_behavior\":20.0,\"num_tweets\":272.0,\"physical_activity\":4.0,\"date\":\"2017-11-26\"},{\"sleeping\":0.0,\"sedentary_behavior\":6.0,\"num_tweets\":154.0,\"physical_activity\":6.0,\"date\":\"2017-12-03\"},{\"sleeping\":0.0,\"sedentary_behavior\":0.0,\"num_tweets\":32.0,\"physical_activity\":0.0,\"date\":\"2017-12-10\"}],\"division_name\":\"Th\\\\u00e9r\\\\u00e8se-De Blainville\",\"latitude\":45.6984316,\"longitude\":-73.8621956333,\"province_id\":24,\"province_name\":\"Quebec \\\\/ Qu\\\\u00e9bec\"},\"2474\":{\"data\":[{\"sleeping\":0.0,\"sedentary_behavior\":0.0,\"num_tweets\":5.0,\"physical_activity\":0.0,\"date\":\"2017-11-05\"},{\"sleeping\":0.0,\"sedentary_behavior\":0.0,\"num_tweets\":85.0,\"physical_activity\":0.0,\"date\":\"2017-11-19\"},{\"sleeping\":0.0,\"sedentary_behavior\":5.0,\"num_tweets\":145.0,\"physical_activity\":0.0,\"date\":\"2017-11-26\"},{\"sleeping\":0.0,\"sedentary_behavior\":5.0,\"num_tweets\":75.0,\"physical_activity\":5.0,\"date\":\"2017-12-03\"},{\"sleeping\":0.0,\"sedentary_behavior\":0.0,\"num_tweets\":10.0,\"physical_activity\":0.0,\"date\":\"2017-12-10\"}],\"division_name\":\"Mirabel\",\"latitude\":45.623402,\"longitude\":-74.012489,\"province_id\":24,\"province_name\":\"Quebec \\\\/ Qu\\\\u00e9bec\"},\"2475\":{\"data\":[],\"division_name\":\"La Rivi\\\\u00e8re-du-Nord\",\"latitude\":45.83461525,\"longitude\":-73.960620311,\"province_id\":24,\"province_name\":\"Quebec \\\\/ Qu\\\\u00e9bec\"},\"2476\":{\"data\":[{\"sleeping\":0.0,\"sedentary_behavior\":1.0,\"num_tweets\":1.0,\"physical_activity\":0.0,\"date\":\"2017-11-26\"}],\"division_name\":\"Argenteuil\",\"latitude\":45.7190565,\"longitude\":-74.4920852313,\"province_id\":24,\"province_name\":\"Quebec \\\\/ Qu\\\\u00e9bec\"},\"2477\":{\"data\":[{\"sleeping\":0.0,\"sedentary_behavior\":0.0,\"num_tweets\":4.0,\"physical_activity\":0.0,\"date\":\"2017-11-19\"},{\"sleeping\":2.0,\"sedentary_behavior\":4.0,\"num_tweets\":12.0,\"physical_activity\":0.0,\"date\":\"2017-11-26\"},{\"sleeping\":0.0,\"sedentary_behavior\":0.0,\"num_tweets\":6.0,\"physical_activity\":4.0,\"date\":\"2017-12-03\"}],\"division_name\":\"Les Pays-d\\'en-Haut\",\"latitude\":45.93467465,\"longitude\":-74.2615046086,\"province_id\":24,\"province_name\":\"Quebec \\\\/ Qu\\\\u00e9bec\"},\"2478\":{\"data\":[{\"sleeping\":0.0,\"sedentary_behavior\":4.0,\"num_tweets\":44.0,\"physical_activity\":0.0,\"date\":\"2017-11-19\"},{\"sleeping\":0.0,\"sedentary_behavior\":22.0,\"num_tweets\":428.0,\"physical_activity\":48.0,\"date\":\"2017-11-26\"},{\"sleeping\":0.0,\"sedentary_behavior\":4.0,\"num_tweets\":80.0,\"physical_activity\":4.0,\"date\":\"2017-12-03\"},{\"sleeping\":0.0,\"sedentary_behavior\":4.0,\"num_tweets\":17.0,\"physical_activity\":4.0,\"date\":\"2017-12-10\"}],\"division_name\":\"Les Laurentides\",\"latitude\":46.1842172,\"longitude\":-74.5810082166,\"province_id\":24,\"province_name\":\"Quebec \\\\/ Qu\\\\u00e9bec\"},\"2479\":{\"data\":[{\"sleeping\":0.0,\"sedentary_behavior\":0.0,\"num_tweets\":2.0,\"physical_activity\":0.0,\"date\":\"2017-11-26\"}],\"division_name\":\"Antoine-Labelle\",\"latitude\":46.5523631,\"longitude\":-75.497393,\"province_id\":24,\"province_name\":\"Quebec \\\\/ Qu\\\\u00e9bec\"},\"2480\":{\"data\":[],\"division_name\":\"Papineau\",\"latitude\":45.5240492,\"longitude\":-73.5529443,\"province_id\":24,\"province_name\":\"Quebec \\\\/ Qu\\\\u00e9bec\"},\"2481\":{\"data\":[{\"sleeping\":5.0,\"sedentary_behavior\":0.0,\"num_tweets\":65.0,\"physical_activity\":0.0,\"date\":\"2017-11-05\"},{\"sleeping\":20.0,\"sedentary_behavior\":190.0,\"num_tweets\":2790.0,\"physical_activity\":55.0,\"date\":\"2017-11-19\"},{\"sleeping\":50.0,\"sedentary_behavior\":480.0,\"num_tweets\":5560.0,\"physical_activity\":225.0,\"date\":\"2017-11-26\"},{\"sleeping\":35.0,\"sedentary_behavior\":210.0,\"num_tweets\":3775.0,\"physical_activity\":130.0,\"date\":\"2017-12-03\"},{\"sleeping\":10.0,\"sedentary_behavior\":50.0,\"num_tweets\":485.0,\"physical_activity\":15.0,\"date\":\"2017-12-10\"}],\"division_name\":\"Gatineau\",\"latitude\":45.457241,\"longitude\":-75.723267,\"province_id\":24,\"province_name\":\"Quebec \\\\/ Qu\\\\u00e9bec\"},\"2482\":{\"data\":[{\"sleeping\":0.0,\"sedentary_behavior\":4.0,\"num_tweets\":24.0,\"physical_activity\":8.0,\"date\":\"2017-11-19\"},{\"sleeping\":0.0,\"sedentary_behavior\":12.0,\"num_tweets\":68.0,\"physical_activity\":8.0,\"date\":\"2017-11-26\"},{\"sleeping\":0.0,\"sedentary_behavior\":21.0,\"num_tweets\":69.0,\"physical_activity\":8.0,\"date\":\"2017-12-03\"},{\"sleeping\":0.0,\"sedentary_behavior\":2.0,\"num_tweets\":29.0,\"physical_activity\":0.0,\"date\":\"2017-12-10\"}],\"division_name\":\"Les Collines-de-l\\'Outaouais\",\"latitude\":45.6235107,\"longitude\":-75.8362613619,\"province_id\":24,\"province_name\":\"Quebec \\\\/ Qu\\\\u00e9bec\"},\"2483\":{\"data\":[{\"sleeping\":0.0,\"sedentary_behavior\":0.0,\"num_tweets\":3.0,\"physical_activity\":0.0,\"date\":\"2017-11-26\"},{\"sleeping\":0.0,\"sedentary_behavior\":0.0,\"num_tweets\":2.0,\"physical_activity\":0.0,\"date\":\"2017-12-03\"}],\"division_name\":\"La Vall\\\\u00e9e-de-la-Gatineau\",\"latitude\":46.798141,\"longitude\":-76.2729531885,\"province_id\":24,\"province_name\":\"Quebec \\\\/ Qu\\\\u00e9bec\"},\"2484\":{\"data\":[{\"sleeping\":0.0,\"sedentary_behavior\":4.0,\"num_tweets\":102.0,\"physical_activity\":4.0,\"date\":\"2017-11-19\"},{\"sleeping\":0.0,\"sedentary_behavior\":20.0,\"num_tweets\":148.0,\"physical_activity\":16.0,\"date\":\"2017-11-26\"},{\"sleeping\":0.0,\"sedentary_behavior\":12.0,\"num_tweets\":71.0,\"physical_activity\":0.0,\"date\":\"2017-12-03\"},{\"sleeping\":0.0,\"sedentary_behavior\":4.0,\"num_tweets\":37.0,\"physical_activity\":0.0,\"date\":\"2017-12-10\"}],\"division_name\":\"Pontiac\",\"latitude\":45.54244155,\"longitude\":-76.1091991792,\"province_id\":24,\"province_name\":\"Quebec \\\\/ Qu\\\\u00e9bec\"},\"2485\":{\"data\":[],\"division_name\":\"T\\\\u00e9miscamingue\",\"latitude\":48.2172576,\"longitude\":-79.0901374,\"province_id\":24,\"province_name\":\"Quebec \\\\/ Qu\\\\u00e9bec\"},\"2486\":{\"data\":[{\"sleeping\":0.0,\"sedentary_behavior\":0.0,\"num_tweets\":9.0,\"physical_activity\":0.0,\"date\":\"2017-11-05\"},{\"sleeping\":0.0,\"sedentary_behavior\":4.0,\"num_tweets\":262.0,\"physical_activity\":8.0,\"date\":\"2017-11-19\"},{\"sleeping\":0.0,\"sedentary_behavior\":23.0,\"num_tweets\":645.0,\"physical_activity\":0.0,\"date\":\"2017-11-26\"},{\"sleeping\":0.0,\"sedentary_behavior\":9.0,\"num_tweets\":369.0,\"physical_activity\":0.0,\"date\":\"2017-12-03\"},{\"sleeping\":0.0,\"sedentary_behavior\":0.0,\"num_tweets\":70.0,\"physical_activity\":0.0,\"date\":\"2017-12-10\"}],\"division_name\":\"Rouyn-Noranda\",\"latitude\":48.2420524,\"longitude\":-79.0205378,\"province_id\":24,\"province_name\":\"Quebec \\\\/ Qu\\\\u00e9bec\"},\"2487\":{\"data\":[],\"division_name\":\"Abitibi-Ouest\",\"latitude\":null,\"longitude\":null,\"province_id\":24,\"province_name\":\"Quebec \\\\/ Qu\\\\u00e9bec\"},\"2488\":{\"data\":[{\"sleeping\":0.0,\"sedentary_behavior\":0.0,\"num_tweets\":2.0,\"physical_activity\":0.0,\"date\":\"2017-11-26\"}],\"division_name\":\"Abitibi\",\"latitude\":48.7058581,\"longitude\":-79.503510342,\"province_id\":24,\"province_name\":\"Quebec \\\\/ Qu\\\\u00e9bec\"},\"2489\":{\"data\":[],\"division_name\":\"La Vall\\\\u00e9e-de-l\\'Or\",\"latitude\":null,\"longitude\":null,\"province_id\":24,\"province_name\":\"Quebec \\\\/ Qu\\\\u00e9bec\"},\"2490\":{\"data\":[{\"sleeping\":0.0,\"sedentary_behavior\":0.0,\"num_tweets\":3.0,\"physical_activity\":0.0,\"date\":\"2017-11-19\"},{\"sleeping\":0.0,\"sedentary_behavior\":3.0,\"num_tweets\":19.0,\"physical_activity\":0.0,\"date\":\"2017-11-26\"},{\"sleeping\":0.0,\"sedentary_behavior\":3.0,\"num_tweets\":6.0,\"physical_activity\":0.0,\"date\":\"2017-12-03\"}],\"division_name\":\"La Tuque\",\"latitude\":47.441092,\"longitude\":-72.78511,\"province_id\":24,\"province_name\":\"Quebec \\\\/ Qu\\\\u00e9bec\"},\"2491\":{\"data\":[],\"division_name\":\"Le Domaine-du-Roy\",\"latitude\":null,\"longitude\":null,\"province_id\":24,\"province_name\":\"Quebec \\\\/ Qu\\\\u00e9bec\"},\"2492\":{\"data\":[],\"division_name\":\"Maria-Chapdelaine\",\"latitude\":null,\"longitude\":null,\"province_id\":24,\"province_name\":\"Quebec \\\\/ Qu\\\\u00e9bec\"},\"2493\":{\"data\":[{\"sleeping\":0.0,\"sedentary_behavior\":0.0,\"num_tweets\":2.0,\"physical_activity\":0.0,\"date\":\"2017-12-03\"}],\"division_name\":\"Lac-Saint-Jean-Est\",\"latitude\":48.40402585,\"longitude\":-68.0626364787,\"province_id\":24,\"province_name\":\"Quebec \\\\/ Qu\\\\u00e9bec\"},\"2494\":{\"data\":[],\"division_name\":\"Le Saguenay-et-son-Fjord\",\"latitude\":null,\"longitude\":null,\"province_id\":24,\"province_name\":\"Quebec \\\\/ Qu\\\\u00e9bec\"},\"2495\":{\"data\":[{\"sleeping\":0.0,\"sedentary_behavior\":0.0,\"num_tweets\":3.0,\"physical_activity\":0.0,\"date\":\"2017-11-26\"},{\"sleeping\":0.0,\"sedentary_behavior\":0.0,\"num_tweets\":2.0,\"physical_activity\":0.0,\"date\":\"2017-12-03\"}],\"division_name\":\"La Haute-C\\\\u00f4te-Nord\",\"latitude\":49.02652575,\"longitude\":-69.3991730823,\"province_id\":24,\"province_name\":\"Quebec \\\\/ Qu\\\\u00e9bec\"},\"2496\":{\"data\":[{\"sleeping\":0.0,\"sedentary_behavior\":0.0,\"num_tweets\":10.0,\"physical_activity\":0.0,\"date\":\"2017-11-05\"},{\"sleeping\":0.0,\"sedentary_behavior\":15.0,\"num_tweets\":328.0,\"physical_activity\":5.0,\"date\":\"2017-11-19\"},{\"sleeping\":0.0,\"sedentary_behavior\":40.0,\"num_tweets\":535.0,\"physical_activity\":15.0,\"date\":\"2017-11-26\"},{\"sleeping\":5.0,\"sedentary_behavior\":15.0,\"num_tweets\":331.0,\"physical_activity\":0.0,\"date\":\"2017-12-03\"},{\"sleeping\":0.0,\"sedentary_behavior\":5.0,\"num_tweets\":88.0,\"physical_activity\":0.0,\"date\":\"2017-12-10\"}],\"division_name\":\"Manicouagan\",\"latitude\":50.2145718,\"longitude\":-68.8521751773,\"province_id\":24,\"province_name\":\"Quebec \\\\/ Qu\\\\u00e9bec\"},\"2497\":{\"data\":[],\"division_name\":\"Sept-Rivi\\\\u00e8res--Caniapiscau\",\"latitude\":null,\"longitude\":null,\"province_id\":24,\"province_name\":\"Quebec \\\\/ Qu\\\\u00e9bec\"},\"2498\":{\"data\":[],\"division_name\":\"Minganie--Le Golfe-du-Saint-Laurent\",\"latitude\":null,\"longitude\":null,\"province_id\":24,\"province_name\":\"Quebec \\\\/ Qu\\\\u00e9bec\"},\"2499\":{\"data\":[{\"sleeping\":4.0,\"sedentary_behavior\":16.0,\"num_tweets\":174.0,\"physical_activity\":12.0,\"date\":\"2017-11-19\"},{\"sleeping\":0.0,\"sedentary_behavior\":44.0,\"num_tweets\":429.0,\"physical_activity\":44.0,\"date\":\"2017-11-26\"},{\"sleeping\":0.0,\"sedentary_behavior\":24.0,\"num_tweets\":324.0,\"physical_activity\":30.0,\"date\":\"2017-12-03\"},{\"sleeping\":4.0,\"sedentary_behavior\":12.0,\"num_tweets\":48.0,\"physical_activity\":8.0,\"date\":\"2017-12-10\"}],\"division_name\":\"Nord-du-Qu\\\\u00e9bec\",\"latitude\":45.3597156,\"longitude\":-73.7732808,\"province_id\":24,\"province_name\":\"Quebec \\\\/ Qu\\\\u00e9bec\"},\"3501\":{\"data\":[{\"sleeping\":8.0,\"sedentary_behavior\":11.0,\"num_tweets\":163.0,\"physical_activity\":0.0,\"date\":\"2017-11-19\"},{\"sleeping\":4.0,\"sedentary_behavior\":21.0,\"num_tweets\":237.0,\"physical_activity\":0.0,\"date\":\"2017-11-26\"},{\"sleeping\":0.0,\"sedentary_behavior\":11.0,\"num_tweets\":162.0,\"physical_activity\":3.0,\"date\":\"2017-12-03\"},{\"sleeping\":0.0,\"sedentary_behavior\":4.0,\"num_tweets\":32.0,\"physical_activity\":0.0,\"date\":\"2017-12-10\"}],\"division_name\":\"Stormont,  Dundas and Glengarry\",\"latitude\":45.21648095,\"longitude\":-75.0334668018,\"province_id\":35,\"province_name\":\"Ontario\"},\"3502\":{\"data\":[{\"sleeping\":0.0,\"sedentary_behavior\":0.0,\"num_tweets\":10.0,\"physical_activity\":0.0,\"date\":\"2017-11-05\"},{\"sleeping\":0.0,\"sedentary_behavior\":0.0,\"num_tweets\":190.0,\"physical_activity\":9.0,\"date\":\"2017-11-19\"},{\"sleeping\":0.0,\"sedentary_behavior\":24.0,\"num_tweets\":711.0,\"physical_activity\":35.0,\"date\":\"2017-11-26\"},{\"sleeping\":5.0,\"sedentary_behavior\":25.0,\"num_tweets\":348.0,\"physical_activity\":15.0,\"date\":\"2017-12-03\"},{\"sleeping\":0.0,\"sedentary_behavior\":0.0,\"num_tweets\":43.0,\"physical_activity\":0.0,\"date\":\"2017-12-10\"}],\"division_name\":\"Prescott and Russell\",\"latitude\":45.4138136,\"longitude\":-75.0146088662,\"province_id\":35,\"province_name\":\"Ontario\"},\"3506\":{\"data\":[{\"sleeping\":10.0,\"sedentary_behavior\":85.0,\"num_tweets\":780.0,\"physical_activity\":30.0,\"date\":\"2017-11-05\"},{\"sleeping\":385.0,\"sedentary_behavior\":4140.0,\"num_tweets\":43985.0,\"physical_activity\":1525.0,\"date\":\"2017-11-19\"},{\"sleeping\":940.0,\"sedentary_behavior\":9230.0,\"num_tweets\":92150.0,\"physical_activity\":3650.0,\"date\":\"2017-11-26\"},{\"sleeping\":555.0,\"sedentary_behavior\":5065.0,\"num_tweets\":48794.0,\"physical_activity\":1725.0,\"date\":\"2017-12-03\"},{\"sleeping\":170.0,\"sedentary_behavior\":990.0,\"num_tweets\":9046.0,\"physical_activity\":450.0,\"date\":\"2017-12-10\"}],\"division_name\":\"Ottawa\",\"latitude\":45.421106,\"longitude\":-75.690308,\"province_id\":35,\"province_name\":\"Ontario\"},\"3507\":{\"data\":[{\"sleeping\":0.0,\"sedentary_behavior\":24.0,\"num_tweets\":182.0,\"physical_activity\":0.0,\"date\":\"2017-11-19\"},{\"sleeping\":4.0,\"sedentary_behavior\":27.0,\"num_tweets\":333.0,\"physical_activity\":12.0,\"date\":\"2017-11-26\"},{\"sleeping\":0.0,\"sedentary_behavior\":27.0,\"num_tweets\":289.0,\"physical_activity\":12.0,\"date\":\"2017-12-03\"},{\"sleeping\":4.0,\"sedentary_behavior\":8.0,\"num_tweets\":36.0,\"physical_activity\":0.0,\"date\":\"2017-12-10\"}],\"division_name\":\"Leeds and Grenville\",\"latitude\":44.70309435,\"longitude\":-75.8989237214,\"province_id\":35,\"province_name\":\"Ontario\"},\"3509\":{\"data\":[{\"sleeping\":0.0,\"sedentary_behavior\":4.0,\"num_tweets\":68.0,\"physical_activity\":0.0,\"date\":\"2017-11-19\"},{\"sleeping\":4.0,\"sedentary_behavior\":20.0,\"num_tweets\":108.0,\"physical_activity\":0.0,\"date\":\"2017-11-26\"},{\"sleeping\":0.0,\"sedentary_behavior\":4.0,\"num_tweets\":36.0,\"physical_activity\":0.0,\"date\":\"2017-12-03\"},{\"sleeping\":0.0,\"sedentary_behavior\":8.0,\"num_tweets\":16.0,\"physical_activity\":0.0,\"date\":\"2017-12-10\"}],\"division_name\":\"Lanark\",\"latitude\":45.05743525,\"longitude\":-76.3278723074,\"province_id\":35,\"province_name\":\"Ontario\"},\"3510\":{\"data\":[{\"sleeping\":0.0,\"sedentary_behavior\":0.0,\"num_tweets\":5.0,\"physical_activity\":0.0,\"date\":\"2017-11-05\"},{\"sleeping\":0.0,\"sedentary_behavior\":10.0,\"num_tweets\":115.0,\"physical_activity\":0.0,\"date\":\"2017-11-19\"},{\"sleeping\":0.0,\"sedentary_behavior\":0.0,\"num_tweets\":55.0,\"physical_activity\":0.0,\"date\":\"2017-11-26\"},{\"sleeping\":0.0,\"sedentary_behavior\":0.0,\"num_tweets\":20.0,\"physical_activity\":0.0,\"date\":\"2017-12-03\"},{\"sleeping\":0.0,\"sedentary_behavior\":0.0,\"num_tweets\":5.0,\"physical_activity\":0.0,\"date\":\"2017-12-10\"}],\"division_name\":\"Frontenac\",\"latitude\":44.7794886,\"longitude\":-76.8704262736,\"province_id\":35,\"province_name\":\"Ontario\"},\"3511\":{\"data\":[{\"sleeping\":2.0,\"sedentary_behavior\":0.0,\"num_tweets\":12.0,\"physical_activity\":0.0,\"date\":\"2017-11-26\"},{\"sleeping\":0.0,\"sedentary_behavior\":0.0,\"num_tweets\":10.0,\"physical_activity\":0.0,\"date\":\"2017-12-03\"}],\"division_name\":\"Lennox and Addington\",\"latitude\":44.6228365,\"longitude\":-77.1362825069,\"province_id\":35,\"province_name\":\"Ontario\"},\"3512\":{\"data\":[{\"sleeping\":0.0,\"sedentary_behavior\":6.0,\"num_tweets\":44.0,\"physical_activity\":0.0,\"date\":\"2017-11-19\"},{\"sleeping\":0.0,\"sedentary_behavior\":16.0,\"num_tweets\":127.0,\"physical_activity\":0.0,\"date\":\"2017-11-26\"},{\"sleeping\":0.0,\"sedentary_behavior\":0.0,\"num_tweets\":48.0,\"physical_activity\":0.0,\"date\":\"2017-12-03\"},{\"sleeping\":0.0,\"sedentary_behavior\":0.0,\"num_tweets\":12.0,\"physical_activity\":4.0,\"date\":\"2017-12-10\"}],\"division_name\":\"Hastings\",\"latitude\":44.71713585,\"longitude\":-77.5734170235,\"province_id\":35,\"province_name\":\"Ontario\"},\"3513\":{\"data\":[{\"sleeping\":0.0,\"sedentary_behavior\":20.0,\"num_tweets\":385.0,\"physical_activity\":10.0,\"date\":\"2017-11-05\"},{\"sleeping\":145.0,\"sedentary_behavior\":1390.0,\"num_tweets\":18130.0,\"physical_activity\":510.0,\"date\":\"2017-11-19\"},{\"sleeping\":420.0,\"sedentary_behavior\":3315.0,\"num_tweets\":42000.0,\"physical_activity\":1010.0,\"date\":\"2017-11-26\"},{\"sleeping\":215.0,\"sedentary_behavior\":1885.0,\"num_tweets\":23955.0,\"physical_activity\":550.0,\"date\":\"2017-12-03\"},{\"sleeping\":25.0,\"sedentary_behavior\":255.0,\"num_tweets\":4065.0,\"physical_activity\":70.0,\"date\":\"2017-12-10\"}],\"division_name\":\"Prince Edward\",\"latitude\":43.6610887,\"longitude\":-79.5107936916,\"province_id\":35,\"province_name\":\"Ontario\"},\"3514\":{\"data\":[{\"sleeping\":4.0,\"sedentary_behavior\":32.0,\"num_tweets\":303.0,\"physical_activity\":16.0,\"date\":\"2017-11-19\"},{\"sleeping\":0.0,\"sedentary_behavior\":54.0,\"num_tweets\":786.0,\"physical_activity\":20.0,\"date\":\"2017-11-26\"},{\"sleeping\":6.0,\"sedentary_behavior\":41.0,\"num_tweets\":322.0,\"physical_activity\":16.0,\"date\":\"2017-12-03\"},{\"sleeping\":0.0,\"sedentary_behavior\":4.0,\"num_tweets\":63.0,\"physical_activity\":0.0,\"date\":\"2017-12-10\"}],\"division_name\":\"Northumberland\",\"latitude\":44.1678357,\"longitude\":-77.9539617366,\"province_id\":35,\"province_name\":\"Ontario\"},\"3515\":{\"data\":[{\"sleeping\":0.0,\"sedentary_behavior\":10.0,\"num_tweets\":90.0,\"physical_activity\":0.0,\"date\":\"2017-11-05\"},{\"sleeping\":59.0,\"sedentary_behavior\":509.0,\"num_tweets\":5399.0,\"physical_activity\":204.0,\"date\":\"2017-11-19\"},{\"sleeping\":198.0,\"sedentary_behavior\":1080.0,\"num_tweets\":12378.0,\"physical_activity\":465.0,\"date\":\"2017-11-26\"},{\"sleeping\":75.0,\"sedentary_behavior\":573.0,\"num_tweets\":6564.0,\"physical_activity\":185.0,\"date\":\"2017-12-03\"},{\"sleeping\":10.0,\"sedentary_behavior\":84.0,\"num_tweets\":1201.0,\"physical_activity\":24.0,\"date\":\"2017-12-10\"}],\"division_name\":\"Peterborough\",\"latitude\":44.3048009,\"longitude\":-78.3199496,\"province_id\":35,\"province_name\":\"Ontario\"},\"3516\":{\"data\":[{\"sleeping\":8.0,\"sedentary_behavior\":48.0,\"num_tweets\":620.0,\"physical_activity\":8.0,\"date\":\"2017-11-19\"},{\"sleeping\":16.0,\"sedentary_behavior\":162.0,\"num_tweets\":2171.0,\"physical_activity\":71.0,\"date\":\"2017-11-26\"},{\"sleeping\":12.0,\"sedentary_behavior\":99.0,\"num_tweets\":1147.0,\"physical_activity\":48.0,\"date\":\"2017-12-03\"},{\"sleeping\":8.0,\"sedentary_behavior\":24.0,\"num_tweets\":308.0,\"physical_activity\":12.0,\"date\":\"2017-12-10\"}],\"division_name\":\"Kawartha Lakes\",\"latitude\":44.5204884,\"longitude\":-78.7976478822,\"province_id\":35,\"province_name\":\"Ontario\"},\"3518\":{\"data\":[{\"sleeping\":0.0,\"sedentary_behavior\":15.0,\"num_tweets\":195.0,\"physical_activity\":3.0,\"date\":\"2017-11-19\"},{\"sleeping\":3.0,\"sedentary_behavior\":38.0,\"num_tweets\":437.0,\"physical_activity\":11.0,\"date\":\"2017-11-26\"},{\"sleeping\":0.0,\"sedentary_behavior\":4.0,\"num_tweets\":133.0,\"physical_activity\":0.0,\"date\":\"2017-12-03\"},{\"sleeping\":0.0,\"sedentary_behavior\":8.0,\"num_tweets\":35.0,\"physical_activity\":0.0,\"date\":\"2017-12-10\"}],\"division_name\":\"Durham\",\"latitude\":44.1749404,\"longitude\":-80.8138847,\"province_id\":35,\"province_name\":\"Ontario\"},\"3519\":{\"data\":[{\"sleeping\":5.0,\"sedentary_behavior\":40.0,\"num_tweets\":294.0,\"physical_activity\":0.0,\"date\":\"2017-11-05\"},{\"sleeping\":145.0,\"sedentary_behavior\":1283.0,\"num_tweets\":15284.0,\"physical_activity\":470.0,\"date\":\"2017-11-19\"},{\"sleeping\":390.0,\"sedentary_behavior\":2979.0,\"num_tweets\":31509.0,\"physical_activity\":983.0,\"date\":\"2017-11-26\"},{\"sleeping\":165.0,\"sedentary_behavior\":1445.0,\"num_tweets\":15118.0,\"physical_activity\":510.0,\"date\":\"2017-12-03\"},{\"sleeping\":35.0,\"sedentary_behavior\":290.0,\"num_tweets\":3110.0,\"physical_activity\":80.0,\"date\":\"2017-12-10\"}],\"division_name\":\"York\",\"latitude\":43.6896191,\"longitude\":-79.479188,\"province_id\":35,\"province_name\":\"Ontario\"},\"3520\":{\"data\":[{\"sleeping\":60.0,\"sedentary_behavior\":295.0,\"num_tweets\":3431.0,\"physical_activity\":100.0,\"date\":\"2017-11-05\"},{\"sleeping\":1780.0,\"sedentary_behavior\":14450.0,\"num_tweets\":163847.0,\"physical_activity\":5055.0,\"date\":\"2017-11-19\"},{\"sleeping\":3666.0,\"sedentary_behavior\":29766.0,\"num_tweets\":352059.0,\"physical_activity\":10269.0,\"date\":\"2017-11-26\"},{\"sleeping\":1970.0,\"sedentary_behavior\":16105.0,\"num_tweets\":186196.0,\"physical_activity\":5615.0,\"date\":\"2017-12-03\"},{\"sleeping\":475.0,\"sedentary_behavior\":3140.0,\"num_tweets\":37765.0,\"physical_activity\":1280.0,\"date\":\"2017-12-10\"}],\"division_name\":\"Toronto\",\"latitude\":43.653963,\"longitude\":-79.387207,\"province_id\":35,\"province_name\":\"Ontario\"},\"3521\":{\"data\":[{\"sleeping\":5.0,\"sedentary_behavior\":25.0,\"num_tweets\":280.0,\"physical_activity\":5.0,\"date\":\"2017-11-05\"},{\"sleeping\":110.0,\"sedentary_behavior\":895.0,\"num_tweets\":10888.0,\"physical_activity\":360.0,\"date\":\"2017-11-19\"},{\"sleeping\":360.0,\"sedentary_behavior\":2530.0,\"num_tweets\":25533.0,\"physical_activity\":755.0,\"date\":\"2017-11-26\"},{\"sleeping\":155.0,\"sedentary_behavior\":1165.0,\"num_tweets\":11135.0,\"physical_activity\":375.0,\"date\":\"2017-12-03\"},{\"sleeping\":30.0,\"sedentary_behavior\":250.0,\"num_tweets\":2813.0,\"physical_activity\":105.0,\"date\":\"2017-12-10\"}],\"division_name\":\"Peel\",\"latitude\":43.73424205,\"longitude\":-79.7992120889,\"province_id\":35,\"province_name\":\"Ontario\"},\"3522\":{\"data\":[{\"sleeping\":0.0,\"sedentary_behavior\":8.0,\"num_tweets\":76.0,\"physical_activity\":4.0,\"date\":\"2017-11-19\"},{\"sleeping\":0.0,\"sedentary_behavior\":16.0,\"num_tweets\":233.0,\"physical_activity\":1.0,\"date\":\"2017-11-26\"},{\"sleeping\":0.0,\"sedentary_behavior\":16.0,\"num_tweets\":88.0,\"physical_activity\":8.0,\"date\":\"2017-12-03\"},{\"sleeping\":0.0,\"sedentary_behavior\":16.0,\"num_tweets\":24.0,\"physical_activity\":0.0,\"date\":\"2017-12-10\"}],\"division_name\":\"Dufferin\",\"latitude\":44.0282948,\"longitude\":-80.1989895729,\"province_id\":35,\"province_name\":\"Ontario\"},\"3523\":{\"data\":[{\"sleeping\":0.0,\"sedentary_behavior\":0.0,\"num_tweets\":5.0,\"physical_activity\":0.0,\"date\":\"2017-11-05\"},{\"sleeping\":9.0,\"sedentary_behavior\":10.0,\"num_tweets\":180.0,\"physical_activity\":2.0,\"date\":\"2017-11-19\"},{\"sleeping\":2.0,\"sedentary_behavior\":44.0,\"num_tweets\":399.0,\"physical_activity\":9.0,\"date\":\"2017-11-26\"},{\"sleeping\":10.0,\"sedentary_behavior\":5.0,\"num_tweets\":107.0,\"physical_activity\":5.0,\"date\":\"2017-12-03\"},{\"sleeping\":0.0,\"sedentary_behavior\":9.0,\"num_tweets\":46.0,\"physical_activity\":0.0,\"date\":\"2017-12-10\"}],\"division_name\":\"Wellington\",\"latitude\":43.9521503,\"longitude\":-77.3491071,\"province_id\":35,\"province_name\":\"Ontario\"},\"3524\":{\"data\":[{\"sleeping\":0.0,\"sedentary_behavior\":15.0,\"num_tweets\":130.0,\"physical_activity\":0.0,\"date\":\"2017-11-05\"},{\"sleeping\":100.0,\"sedentary_behavior\":625.0,\"num_tweets\":6780.0,\"physical_activity\":255.0,\"date\":\"2017-11-19\"},{\"sleeping\":180.0,\"sedentary_behavior\":1555.0,\"num_tweets\":16270.0,\"physical_activity\":640.0,\"date\":\"2017-11-26\"},{\"sleeping\":90.0,\"sedentary_behavior\":740.0,\"num_tweets\":8740.0,\"physical_activity\":280.0,\"date\":\"2017-12-03\"},{\"sleeping\":10.0,\"sedentary_behavior\":160.0,\"num_tweets\":1950.0,\"physical_activity\":65.0,\"date\":\"2017-12-10\"}],\"division_name\":\"Halton\",\"latitude\":43.5104303,\"longitude\":-79.8948700067,\"province_id\":35,\"province_name\":\"Ontario\"},\"3525\":{\"data\":[{\"sleeping\":15.0,\"sedentary_behavior\":40.0,\"num_tweets\":320.0,\"physical_activity\":35.0,\"date\":\"2017-11-05\"},{\"sleeping\":155.0,\"sedentary_behavior\":2208.0,\"num_tweets\":19767.0,\"physical_activity\":763.0,\"date\":\"2017-11-19\"},{\"sleeping\":527.0,\"sedentary_behavior\":3965.0,\"num_tweets\":41718.0,\"physical_activity\":1845.0,\"date\":\"2017-11-26\"},{\"sleeping\":313.0,\"sedentary_behavior\":2484.0,\"num_tweets\":22280.0,\"physical_activity\":873.0,\"date\":\"2017-12-03\"},{\"sleeping\":85.0,\"sedentary_behavior\":474.0,\"num_tweets\":4040.0,\"physical_activity\":149.0,\"date\":\"2017-12-10\"}],\"division_name\":\"Hamilton\",\"latitude\":43.255205,\"longitude\":-79.868202,\"province_id\":35,\"province_name\":\"Ontario\"},\"3526\":{\"data\":[{\"sleeping\":0.0,\"sedentary_behavior\":5.0,\"num_tweets\":140.0,\"physical_activity\":0.0,\"date\":\"2017-11-05\"},{\"sleeping\":115.0,\"sedentary_behavior\":814.0,\"num_tweets\":8972.0,\"physical_activity\":233.0,\"date\":\"2017-11-19\"},{\"sleeping\":250.0,\"sedentary_behavior\":1901.0,\"num_tweets\":18883.0,\"physical_activity\":560.0,\"date\":\"2017-11-26\"},{\"sleeping\":159.0,\"sedentary_behavior\":903.0,\"num_tweets\":9894.0,\"physical_activity\":264.0,\"date\":\"2017-12-03\"},{\"sleeping\":40.0,\"sedentary_behavior\":184.0,\"num_tweets\":1754.0,\"physical_activity\":48.0,\"date\":\"2017-12-10\"}],\"division_name\":\"Niagara\",\"latitude\":43.05023,\"longitude\":-79.12038,\"province_id\":35,\"province_name\":\"Ontario\"},\"3528\":{\"data\":[{\"sleeping\":0.0,\"sedentary_behavior\":5.0,\"num_tweets\":75.0,\"physical_activity\":5.0,\"date\":\"2017-11-05\"},{\"sleeping\":15.0,\"sedentary_behavior\":250.0,\"num_tweets\":2069.0,\"physical_activity\":75.0,\"date\":\"2017-11-19\"},{\"sleeping\":55.0,\"sedentary_behavior\":398.0,\"num_tweets\":4407.0,\"physical_activity\":245.0,\"date\":\"2017-11-26\"},{\"sleeping\":15.0,\"sedentary_behavior\":195.0,\"num_tweets\":1944.0,\"physical_activity\":80.0,\"date\":\"2017-12-03\"},{\"sleeping\":5.0,\"sedentary_behavior\":50.0,\"num_tweets\":418.0,\"physical_activity\":10.0,\"date\":\"2017-12-10\"}],\"division_name\":\"Haldimand-Norfolk\",\"latitude\":43.1703733,\"longitude\":-80.257254188,\"province_id\":35,\"province_name\":\"Ontario\"},\"3529\":{\"data\":[{\"sleeping\":8.0,\"sedentary_behavior\":36.0,\"num_tweets\":268.0,\"physical_activity\":8.0,\"date\":\"2017-11-19\"},{\"sleeping\":0.0,\"sedentary_behavior\":56.0,\"num_tweets\":612.0,\"physical_activity\":44.0,\"date\":\"2017-11-26\"},{\"sleeping\":4.0,\"sedentary_behavior\":32.0,\"num_tweets\":284.0,\"physical_activity\":20.0,\"date\":\"2017-12-03\"},{\"sleeping\":4.0,\"sedentary_behavior\":16.0,\"num_tweets\":112.0,\"physical_activity\":4.0,\"date\":\"2017-12-10\"}],\"division_name\":\"Brant\",\"latitude\":43.088075,\"longitude\":-80.00387215,\"province_id\":35,\"province_name\":\"Ontario\"},\"3530\":{\"data\":[{\"sleeping\":0.0,\"sedentary_behavior\":45.0,\"num_tweets\":325.0,\"physical_activity\":10.0,\"date\":\"2017-11-05\"},{\"sleeping\":159.0,\"sedentary_behavior\":1676.0,\"num_tweets\":17299.0,\"physical_activity\":581.0,\"date\":\"2017-11-19\"},{\"sleeping\":529.0,\"sedentary_behavior\":3508.0,\"num_tweets\":35759.0,\"physical_activity\":1316.0,\"date\":\"2017-11-26\"},{\"sleeping\":240.0,\"sedentary_behavior\":1970.0,\"num_tweets\":18470.0,\"physical_activity\":576.0,\"date\":\"2017-12-03\"},{\"sleeping\":45.0,\"sedentary_behavior\":361.0,\"num_tweets\":3754.0,\"physical_activity\":89.0,\"date\":\"2017-12-10\"}],\"division_name\":\"Waterloo\",\"latitude\":43.466874,\"longitude\":-80.524635,\"province_id\":35,\"province_name\":\"Ontario\"},\"3531\":{\"data\":[{\"sleeping\":0.0,\"sedentary_behavior\":12.0,\"num_tweets\":164.0,\"physical_activity\":4.0,\"date\":\"2017-11-19\"},{\"sleeping\":4.0,\"sedentary_behavior\":24.0,\"num_tweets\":300.0,\"physical_activity\":0.0,\"date\":\"2017-11-26\"},{\"sleeping\":0.0,\"sedentary_behavior\":8.0,\"num_tweets\":104.0,\"physical_activity\":0.0,\"date\":\"2017-12-03\"},{\"sleeping\":0.0,\"sedentary_behavior\":8.0,\"num_tweets\":24.0,\"physical_activity\":0.0,\"date\":\"2017-12-10\"}],\"division_name\":\"Perth\",\"latitude\":44.898868,\"longitude\":-76.246943,\"province_id\":35,\"province_name\":\"Ontario\"},\"3532\":{\"data\":[{\"sleeping\":4.0,\"sedentary_behavior\":4.0,\"num_tweets\":28.0,\"physical_activity\":0.0,\"date\":\"2017-11-19\"},{\"sleeping\":0.0,\"sedentary_behavior\":0.0,\"num_tweets\":60.0,\"physical_activity\":0.0,\"date\":\"2017-11-26\"},{\"sleeping\":0.0,\"sedentary_behavior\":0.0,\"num_tweets\":26.0,\"physical_activity\":0.0,\"date\":\"2017-12-03\"},{\"sleeping\":0.0,\"sedentary_behavior\":8.0,\"num_tweets\":34.0,\"physical_activity\":0.0,\"date\":\"2017-12-10\"}],\"division_name\":\"Oxford\",\"latitude\":46.4710258,\"longitude\":-81.0719054,\"province_id\":35,\"province_name\":\"Ontario\"},\"3534\":{\"data\":[{\"sleeping\":0.0,\"sedentary_behavior\":30.0,\"num_tweets\":205.0,\"physical_activity\":5.0,\"date\":\"2017-11-05\"},{\"sleeping\":75.0,\"sedentary_behavior\":840.0,\"num_tweets\":7547.0,\"physical_activity\":270.0,\"date\":\"2017-11-19\"},{\"sleeping\":124.0,\"sedentary_behavior\":1099.0,\"num_tweets\":11454.0,\"physical_activity\":483.0,\"date\":\"2017-11-26\"},{\"sleeping\":70.0,\"sedentary_behavior\":574.0,\"num_tweets\":5653.0,\"physical_activity\":225.0,\"date\":\"2017-12-03\"},{\"sleeping\":15.0,\"sedentary_behavior\":115.0,\"num_tweets\":1119.0,\"physical_activity\":45.0,\"date\":\"2017-12-10\"}],\"division_name\":\"Elgin\",\"latitude\":44.6078306,\"longitude\":-76.2214376,\"province_id\":35,\"province_name\":\"Ontario\"},\"3536\":{\"data\":[{\"sleeping\":0.0,\"sedentary_behavior\":0.0,\"num_tweets\":5.0,\"physical_activity\":0.0,\"date\":\"2017-11-05\"},{\"sleeping\":25.0,\"sedentary_behavior\":160.0,\"num_tweets\":1590.0,\"physical_activity\":15.0,\"date\":\"2017-11-19\"},{\"sleeping\":80.0,\"sedentary_behavior\":295.0,\"num_tweets\":3815.0,\"physical_activity\":75.0,\"date\":\"2017-11-26\"},{\"sleeping\":40.0,\"sedentary_behavior\":175.0,\"num_tweets\":1735.0,\"physical_activity\":40.0,\"date\":\"2017-12-03\"},{\"sleeping\":10.0,\"sedentary_behavior\":20.0,\"num_tweets\":330.0,\"physical_activity\":5.0,\"date\":\"2017-12-10\"}],\"division_name\":\"Chatham-Kent\",\"latitude\":42.405207,\"longitude\":-82.191467,\"province_id\":35,\"province_name\":\"Ontario\"},\"3537\":{\"data\":[{\"sleeping\":5.0,\"sedentary_behavior\":0.0,\"num_tweets\":165.0,\"physical_activity\":5.0,\"date\":\"2017-11-05\"},{\"sleeping\":133.0,\"sedentary_behavior\":718.0,\"num_tweets\":6927.0,\"physical_activity\":237.0,\"date\":\"2017-11-19\"},{\"sleeping\":311.0,\"sedentary_behavior\":1994.0,\"num_tweets\":19548.0,\"physical_activity\":680.0,\"date\":\"2017-11-26\"},{\"sleeping\":196.0,\"sedentary_behavior\":1104.0,\"num_tweets\":9693.0,\"physical_activity\":361.0,\"date\":\"2017-12-03\"},{\"sleeping\":35.0,\"sedentary_behavior\":231.0,\"num_tweets\":2093.0,\"physical_activity\":85.0,\"date\":\"2017-12-10\"}],\"division_name\":\"Essex\",\"latitude\":42.03350855,\"longitude\":-82.8068411277,\"province_id\":35,\"province_name\":\"Ontario\"},\"3538\":{\"data\":[{\"sleeping\":0.0,\"sedentary_behavior\":12.0,\"num_tweets\":148.0,\"physical_activity\":12.0,\"date\":\"2017-11-19\"},{\"sleeping\":28.0,\"sedentary_behavior\":118.0,\"num_tweets\":734.0,\"physical_activity\":28.0,\"date\":\"2017-11-26\"},{\"sleeping\":4.0,\"sedentary_behavior\":72.0,\"num_tweets\":420.0,\"physical_activity\":16.0,\"date\":\"2017-12-03\"},{\"sleeping\":0.0,\"sedentary_behavior\":8.0,\"num_tweets\":52.0,\"physical_activity\":4.0,\"date\":\"2017-12-10\"}],\"division_name\":\"Lambton\",\"latitude\":42.92960515,\"longitude\":-82.4337328238,\"province_id\":35,\"province_name\":\"Ontario\"},\"3539\":{\"data\":[{\"sleeping\":0.0,\"sedentary_behavior\":25.0,\"num_tweets\":280.0,\"physical_activity\":25.0,\"date\":\"2017-11-05\"},{\"sleeping\":140.0,\"sedentary_behavior\":1467.0,\"num_tweets\":14096.0,\"physical_activity\":616.0,\"date\":\"2017-11-19\"},{\"sleeping\":342.0,\"sedentary_behavior\":2923.0,\"num_tweets\":29065.0,\"physical_activity\":959.0,\"date\":\"2017-11-26\"},{\"sleeping\":178.0,\"sedentary_behavior\":1575.0,\"num_tweets\":14253.0,\"physical_activity\":689.0,\"date\":\"2017-12-03\"},{\"sleeping\":34.0,\"sedentary_behavior\":221.0,\"num_tweets\":2549.0,\"physical_activity\":83.0,\"date\":\"2017-12-10\"}],\"division_name\":\"Middlesex\",\"latitude\":42.9791385,\"longitude\":-80.9305313,\"province_id\":35,\"province_name\":\"Ontario\"},\"3540\":{\"data\":[{\"sleeping\":0.0,\"sedentary_behavior\":0.0,\"num_tweets\":8.0,\"physical_activity\":0.0,\"date\":\"2017-11-19\"},{\"sleeping\":0.0,\"sedentary_behavior\":24.0,\"num_tweets\":80.0,\"physical_activity\":0.0,\"date\":\"2017-11-26\"},{\"sleeping\":0.0,\"sedentary_behavior\":0.0,\"num_tweets\":12.0,\"physical_activity\":0.0,\"date\":\"2017-12-03\"},{\"sleeping\":0.0,\"sedentary_behavior\":0.0,\"num_tweets\":4.0,\"physical_activity\":0.0,\"date\":\"2017-12-10\"}],\"division_name\":\"Huron\",\"latitude\":44.65030755,\"longitude\":-82.2818681764,\"province_id\":35,\"province_name\":\"Ontario\"},\"3541\":{\"data\":[{\"sleeping\":0.0,\"sedentary_behavior\":36.0,\"num_tweets\":282.0,\"physical_activity\":12.0,\"date\":\"2017-11-19\"},{\"sleeping\":4.0,\"sedentary_behavior\":56.0,\"num_tweets\":629.0,\"physical_activity\":19.0,\"date\":\"2017-11-26\"},{\"sleeping\":4.0,\"sedentary_behavior\":24.0,\"num_tweets\":292.0,\"physical_activity\":4.0,\"date\":\"2017-12-03\"},{\"sleeping\":0.0,\"sedentary_behavior\":0.0,\"num_tweets\":52.0,\"physical_activity\":0.0,\"date\":\"2017-12-10\"}],\"division_name\":\"Bruce\",\"latitude\":44.64276155,\"longitude\":-81.2043980576,\"province_id\":35,\"province_name\":\"Ontario\"},\"3542\":{\"data\":[{\"sleeping\":0.0,\"sedentary_behavior\":0.0,\"num_tweets\":20.0,\"physical_activity\":0.0,\"date\":\"2017-11-05\"},{\"sleeping\":8.0,\"sedentary_behavior\":28.0,\"num_tweets\":698.0,\"physical_activity\":16.0,\"date\":\"2017-11-19\"},{\"sleeping\":8.0,\"sedentary_behavior\":81.0,\"num_tweets\":1767.0,\"physical_activity\":32.0,\"date\":\"2017-11-26\"},{\"sleeping\":36.0,\"sedentary_behavior\":57.0,\"num_tweets\":814.0,\"physical_activity\":33.0,\"date\":\"2017-12-03\"},{\"sleeping\":0.0,\"sedentary_behavior\":8.0,\"num_tweets\":177.0,\"physical_activity\":4.0,\"date\":\"2017-12-10\"}],\"division_name\":\"Grey\",\"latitude\":44.47141625,\"longitude\":-80.694705594,\"province_id\":35,\"province_name\":\"Ontario\"},\"3543\":{\"data\":[{\"sleeping\":0.0,\"sedentary_behavior\":10.0,\"num_tweets\":90.0,\"physical_activity\":0.0,\"date\":\"2017-11-05\"},{\"sleeping\":112.0,\"sedentary_behavior\":614.0,\"num_tweets\":5814.0,\"physical_activity\":246.0,\"date\":\"2017-11-19\"},{\"sleeping\":167.0,\"sedentary_behavior\":1218.0,\"num_tweets\":11095.0,\"physical_activity\":410.0,\"date\":\"2017-11-26\"},{\"sleeping\":52.0,\"sedentary_behavior\":553.0,\"num_tweets\":5136.0,\"physical_activity\":374.0,\"date\":\"2017-12-03\"},{\"sleeping\":14.0,\"sedentary_behavior\":82.0,\"num_tweets\":927.0,\"physical_activity\":24.0,\"date\":\"2017-12-10\"}],\"division_name\":\"Simcoe\",\"latitude\":44.44590855,\"longitude\":-79.8498380081,\"province_id\":35,\"province_name\":\"Ontario\"},\"3544\":{\"data\":[{\"sleeping\":2.0,\"sedentary_behavior\":42.0,\"num_tweets\":318.0,\"physical_activity\":26.0,\"date\":\"2017-11-19\"},{\"sleeping\":20.0,\"sedentary_behavior\":96.0,\"num_tweets\":985.0,\"physical_activity\":48.0,\"date\":\"2017-11-26\"},{\"sleeping\":8.0,\"sedentary_behavior\":48.0,\"num_tweets\":593.0,\"physical_activity\":8.0,\"date\":\"2017-12-03\"},{\"sleeping\":0.0,\"sedentary_behavior\":8.0,\"num_tweets\":109.0,\"physical_activity\":4.0,\"date\":\"2017-12-10\"}],\"division_name\":\"Muskoka\",\"latitude\":45.1506666,\"longitude\":-79.3440678214,\"province_id\":35,\"province_name\":\"Ontario\"},\"3546\":{\"data\":[{\"sleeping\":0.0,\"sedentary_behavior\":0.0,\"num_tweets\":21.0,\"physical_activity\":6.0,\"date\":\"2017-11-19\"},{\"sleeping\":0.0,\"sedentary_behavior\":2.0,\"num_tweets\":73.0,\"physical_activity\":2.0,\"date\":\"2017-11-26\"},{\"sleeping\":0.0,\"sedentary_behavior\":0.0,\"num_tweets\":36.0,\"physical_activity\":0.0,\"date\":\"2017-12-03\"}],\"division_name\":\"Haliburton\",\"latitude\":45.1573163,\"longitude\":-78.4706638642,\"province_id\":35,\"province_name\":\"Ontario\"},\"3547\":{\"data\":[{\"sleeping\":3.0,\"sedentary_behavior\":3.0,\"num_tweets\":89.0,\"physical_activity\":3.0,\"date\":\"2017-11-19\"},{\"sleeping\":3.0,\"sedentary_behavior\":21.0,\"num_tweets\":185.0,\"physical_activity\":6.0,\"date\":\"2017-11-26\"},{\"sleeping\":0.0,\"sedentary_behavior\":12.0,\"num_tweets\":53.0,\"physical_activity\":13.0,\"date\":\"2017-12-03\"},{\"sleeping\":0.0,\"sedentary_behavior\":0.0,\"num_tweets\":8.0,\"physical_activity\":0.0,\"date\":\"2017-12-10\"}],\"division_name\":\"Renfrew\",\"latitude\":45.69645125,\"longitude\":-77.2219071068,\"province_id\":35,\"province_name\":\"Ontario\"},\"3548\":{\"data\":[{\"sleeping\":0.0,\"sedentary_behavior\":28.0,\"num_tweets\":228.0,\"physical_activity\":0.0,\"date\":\"2017-11-19\"},{\"sleeping\":16.0,\"sedentary_behavior\":44.0,\"num_tweets\":746.0,\"physical_activity\":8.0,\"date\":\"2017-11-26\"},{\"sleeping\":0.0,\"sedentary_behavior\":24.0,\"num_tweets\":337.0,\"physical_activity\":4.0,\"date\":\"2017-12-03\"},{\"sleeping\":0.0,\"sedentary_behavior\":0.0,\"num_tweets\":88.0,\"physical_activity\":0.0,\"date\":\"2017-12-10\"}],\"division_name\":\"Nipissing\",\"latitude\":46.0955444,\"longitude\":-79.5141664,\"province_id\":35,\"province_name\":\"Ontario\"},\"3549\":{\"data\":[{\"sleeping\":0.0,\"sedentary_behavior\":12.0,\"num_tweets\":127.0,\"physical_activity\":8.0,\"date\":\"2017-11-19\"},{\"sleeping\":0.0,\"sedentary_behavior\":28.0,\"num_tweets\":194.0,\"physical_activity\":4.0,\"date\":\"2017-11-26\"},{\"sleeping\":0.0,\"sedentary_behavior\":16.0,\"num_tweets\":98.0,\"physical_activity\":0.0,\"date\":\"2017-12-03\"},{\"sleeping\":0.0,\"sedentary_behavior\":0.0,\"num_tweets\":12.0,\"physical_activity\":0.0,\"date\":\"2017-12-10\"}],\"division_name\":\"Parry Sound\",\"latitude\":45.3402359,\"longitude\":-80.0370222,\"province_id\":35,\"province_name\":\"Ontario\"},\"3551\":{\"data\":[{\"sleeping\":0.0,\"sedentary_behavior\":0.0,\"num_tweets\":10.0,\"physical_activity\":0.0,\"date\":\"2017-11-05\"},{\"sleeping\":5.0,\"sedentary_behavior\":165.0,\"num_tweets\":1204.0,\"physical_activity\":110.0,\"date\":\"2017-11-19\"},{\"sleeping\":50.0,\"sedentary_behavior\":244.0,\"num_tweets\":1995.0,\"physical_activity\":75.0,\"date\":\"2017-11-26\"},{\"sleeping\":20.0,\"sedentary_behavior\":171.0,\"num_tweets\":1018.0,\"physical_activity\":40.0,\"date\":\"2017-12-03\"},{\"sleeping\":5.0,\"sedentary_behavior\":35.0,\"num_tweets\":158.0,\"physical_activity\":10.0,\"date\":\"2017-12-10\"}],\"division_name\":\"Manitoulin\",\"latitude\":45.68834755,\"longitude\":-82.097783074,\"province_id\":35,\"province_name\":\"Ontario\"},\"3552\":{\"data\":[{\"sleeping\":0.0,\"sedentary_behavior\":0.0,\"num_tweets\":3.0,\"physical_activity\":0.0,\"date\":\"2017-11-19\"},{\"sleeping\":0.0,\"sedentary_behavior\":3.0,\"num_tweets\":28.0,\"physical_activity\":0.0,\"date\":\"2017-11-26\"},{\"sleeping\":0.0,\"sedentary_behavior\":0.0,\"num_tweets\":3.0,\"physical_activity\":0.0,\"date\":\"2017-12-03\"}],\"division_name\":\"Sudbury\",\"latitude\":46.49272,\"longitude\":-80.991211,\"province_id\":35,\"province_name\":\"Ontario\"},\"3553\":{\"data\":[{\"sleeping\":0.0,\"sedentary_behavior\":10.0,\"num_tweets\":70.0,\"physical_activity\":10.0,\"date\":\"2017-11-05\"},{\"sleeping\":25.0,\"sedentary_behavior\":195.0,\"num_tweets\":1985.0,\"physical_activity\":95.0,\"date\":\"2017-11-19\"},{\"sleeping\":85.0,\"sedentary_behavior\":406.0,\"num_tweets\":4857.0,\"physical_activity\":175.0,\"date\":\"2017-11-26\"},{\"sleeping\":60.0,\"sedentary_behavior\":230.0,\"num_tweets\":2715.0,\"physical_activity\":95.0,\"date\":\"2017-12-03\"},{\"sleeping\":0.0,\"sedentary_behavior\":40.0,\"num_tweets\":530.0,\"physical_activity\":40.0,\"date\":\"2017-12-10\"}],\"division_name\":\"Greater Sudbury \\\\/ Grand Sudbury\",\"latitude\":46.3074538,\"longitude\":-81.3561758751,\"province_id\":35,\"province_name\":\"Ontario\"},\"3554\":{\"data\":[{\"sleeping\":0.0,\"sedentary_behavior\":0.0,\"num_tweets\":8.0,\"physical_activity\":0.0,\"date\":\"2017-11-19\"},{\"sleeping\":0.0,\"sedentary_behavior\":0.0,\"num_tweets\":16.0,\"physical_activity\":4.0,\"date\":\"2017-11-26\"},{\"sleeping\":0.0,\"sedentary_behavior\":0.0,\"num_tweets\":12.0,\"physical_activity\":0.0,\"date\":\"2017-12-03\"},{\"sleeping\":0.0,\"sedentary_behavior\":0.0,\"num_tweets\":12.0,\"physical_activity\":0.0,\"date\":\"2017-12-10\"}],\"division_name\":\"Timiskaming\",\"latitude\":47.66846735,\"longitude\":-80.2958348299,\"province_id\":35,\"province_name\":\"Ontario\"},\"3556\":{\"data\":[{\"sleeping\":0.0,\"sedentary_behavior\":0.0,\"num_tweets\":10.0,\"physical_activity\":0.0,\"date\":\"2017-11-05\"},{\"sleeping\":3.0,\"sedentary_behavior\":77.0,\"num_tweets\":752.0,\"physical_activity\":13.0,\"date\":\"2017-11-19\"},{\"sleeping\":13.0,\"sedentary_behavior\":229.0,\"num_tweets\":2334.0,\"physical_activity\":104.0,\"date\":\"2017-11-26\"},{\"sleeping\":4.0,\"sedentary_behavior\":80.0,\"num_tweets\":1019.0,\"physical_activity\":57.0,\"date\":\"2017-12-03\"},{\"sleeping\":0.0,\"sedentary_behavior\":26.0,\"num_tweets\":142.0,\"physical_activity\":9.0,\"date\":\"2017-12-10\"}],\"division_name\":\"Cochrane\",\"latitude\":49.066668,\"longitude\":-81.017303,\"province_id\":35,\"province_name\":\"Ontario\"},\"3557\":{\"data\":[{\"sleeping\":4.0,\"sedentary_behavior\":40.0,\"num_tweets\":431.0,\"physical_activity\":8.0,\"date\":\"2017-11-19\"},{\"sleeping\":8.0,\"sedentary_behavior\":137.0,\"num_tweets\":943.0,\"physical_activity\":36.0,\"date\":\"2017-11-26\"},{\"sleeping\":12.0,\"sedentary_behavior\":108.0,\"num_tweets\":1017.0,\"physical_activity\":8.0,\"date\":\"2017-12-03\"},{\"sleeping\":4.0,\"sedentary_behavior\":16.0,\"num_tweets\":164.0,\"physical_activity\":0.0,\"date\":\"2017-12-10\"}],\"division_name\":\"Algoma\",\"latitude\":44.28926955,\"longitude\":-79.8536858468,\"province_id\":35,\"province_name\":\"Ontario\"},\"3558\":{\"data\":[{\"sleeping\":0.0,\"sedentary_behavior\":5.0,\"num_tweets\":30.0,\"physical_activity\":0.0,\"date\":\"2017-11-05\"},{\"sleeping\":20.0,\"sedentary_behavior\":245.0,\"num_tweets\":2157.0,\"physical_activity\":100.0,\"date\":\"2017-11-19\"},{\"sleeping\":54.0,\"sedentary_behavior\":353.0,\"num_tweets\":4073.0,\"physical_activity\":129.0,\"date\":\"2017-11-26\"},{\"sleeping\":25.0,\"sedentary_behavior\":195.0,\"num_tweets\":1859.0,\"physical_activity\":44.0,\"date\":\"2017-12-03\"},{\"sleeping\":15.0,\"sedentary_behavior\":60.0,\"num_tweets\":580.0,\"physical_activity\":25.0,\"date\":\"2017-12-10\"}],\"division_name\":\"Thunder Bay\",\"latitude\":48.406414,\"longitude\":-89.259796,\"province_id\":35,\"province_name\":\"Ontario\"},\"3559\":{\"data\":[{\"sleeping\":0.0,\"sedentary_behavior\":0.0,\"num_tweets\":84.0,\"physical_activity\":0.0,\"date\":\"2017-11-19\"},{\"sleeping\":0.0,\"sedentary_behavior\":14.0,\"num_tweets\":250.0,\"physical_activity\":12.0,\"date\":\"2017-11-26\"},{\"sleeping\":0.0,\"sedentary_behavior\":24.0,\"num_tweets\":116.0,\"physical_activity\":0.0,\"date\":\"2017-12-03\"},{\"sleeping\":0.0,\"sedentary_behavior\":0.0,\"num_tweets\":20.0,\"physical_activity\":0.0,\"date\":\"2017-12-10\"}],\"division_name\":\"Rainy River\",\"latitude\":48.722679,\"longitude\":-94.564819,\"province_id\":35,\"province_name\":\"Ontario\"},\"3560\":{\"data\":[{\"sleeping\":7.0,\"sedentary_behavior\":24.0,\"num_tweets\":317.0,\"physical_activity\":4.0,\"date\":\"2017-11-19\"},{\"sleeping\":0.0,\"sedentary_behavior\":50.0,\"num_tweets\":655.0,\"physical_activity\":30.0,\"date\":\"2017-11-26\"},{\"sleeping\":0.0,\"sedentary_behavior\":22.0,\"num_tweets\":486.0,\"physical_activity\":11.0,\"date\":\"2017-12-03\"},{\"sleeping\":0.0,\"sedentary_behavior\":12.0,\"num_tweets\":48.0,\"physical_activity\":0.0,\"date\":\"2017-12-10\"}],\"division_name\":\"Kenora\",\"latitude\":49.761752,\"longitude\":-94.482422,\"province_id\":35,\"province_name\":\"Ontario\"},\"4601\":{\"data\":[],\"division_name\":\"Division No.  1\",\"latitude\":50.9959116,\"longitude\":-98.7987473049,\"province_id\":46,\"province_name\":\"Manitoba\"},\"4602\":{\"data\":[{\"sleeping\":0.0,\"sedentary_behavior\":0.0,\"num_tweets\":5.0,\"physical_activity\":0.0,\"date\":\"2017-11-05\"},{\"sleeping\":0.0,\"sedentary_behavior\":25.0,\"num_tweets\":212.0,\"physical_activity\":5.0,\"date\":\"2017-11-19\"},{\"sleeping\":38.0,\"sedentary_behavior\":62.0,\"num_tweets\":648.0,\"physical_activity\":44.0,\"date\":\"2017-11-26\"},{\"sleeping\":0.0,\"sedentary_behavior\":38.0,\"num_tweets\":294.0,\"physical_activity\":10.0,\"date\":\"2017-12-03\"},{\"sleeping\":0.0,\"sedentary_behavior\":14.0,\"num_tweets\":55.0,\"physical_activity\":0.0,\"date\":\"2017-12-10\"}],\"division_name\":\"Division No.  2\",\"latitude\":49.530557,\"longitude\":-96.69342,\"province_id\":46,\"province_name\":\"Manitoba\"},\"4603\":{\"data\":[{\"sleeping\":0.0,\"sedentary_behavior\":8.0,\"num_tweets\":256.0,\"physical_activity\":4.0,\"date\":\"2017-11-19\"},{\"sleeping\":4.0,\"sedentary_behavior\":49.0,\"num_tweets\":846.0,\"physical_activity\":28.0,\"date\":\"2017-11-26\"},{\"sleeping\":0.0,\"sedentary_behavior\":32.0,\"num_tweets\":514.0,\"physical_activity\":4.0,\"date\":\"2017-12-03\"},{\"sleeping\":4.0,\"sedentary_behavior\":8.0,\"num_tweets\":132.0,\"physical_activity\":4.0,\"date\":\"2017-12-10\"}],\"division_name\":\"Division No.  3\",\"latitude\":49.0210445,\"longitude\":-98.2528431,\"province_id\":46,\"province_name\":\"Manitoba\"},\"4604\":{\"data\":[{\"sleeping\":0.0,\"sedentary_behavior\":4.0,\"num_tweets\":30.0,\"physical_activity\":0.0,\"date\":\"2017-11-19\"},{\"sleeping\":0.0,\"sedentary_behavior\":6.0,\"num_tweets\":98.0,\"physical_activity\":0.0,\"date\":\"2017-11-26\"},{\"sleeping\":0.0,\"sedentary_behavior\":4.0,\"num_tweets\":32.0,\"physical_activity\":0.0,\"date\":\"2017-12-03\"},{\"sleeping\":0.0,\"sedentary_behavior\":0.0,\"num_tweets\":20.0,\"physical_activity\":0.0,\"date\":\"2017-12-10\"}],\"division_name\":\"Division No.  4\",\"latitude\":49.2248362,\"longitude\":-98.9121735,\"province_id\":46,\"province_name\":\"Manitoba\"},\"4605\":{\"data\":[],\"division_name\":\"Division No.  5\",\"latitude\":49.8310583,\"longitude\":-99.9602367,\"province_id\":46,\"province_name\":\"Manitoba\"},\"4606\":{\"data\":[{\"sleeping\":0.0,\"sedentary_behavior\":0.0,\"num_tweets\":5.0,\"physical_activity\":0.0,\"date\":\"2017-11-05\"},{\"sleeping\":5.0,\"sedentary_behavior\":30.0,\"num_tweets\":358.0,\"physical_activity\":1.0,\"date\":\"2017-11-19\"},{\"sleeping\":39.0,\"sedentary_behavior\":33.0,\"num_tweets\":566.0,\"physical_activity\":7.0,\"date\":\"2017-11-26\"},{\"sleeping\":18.0,\"sedentary_behavior\":27.0,\"num_tweets\":192.0,\"physical_activity\":3.0,\"date\":\"2017-12-03\"},{\"sleeping\":0.0,\"sedentary_behavior\":0.0,\"num_tweets\":21.0,\"physical_activity\":0.0,\"date\":\"2017-12-10\"}],\"division_name\":\"Division No.  6\",\"latitude\":49.8485092,\"longitude\":-100.9322654,\"province_id\":46,\"province_name\":\"Manitoba\"},\"4607\":{\"data\":[{\"sleeping\":0.0,\"sedentary_behavior\":0.0,\"num_tweets\":9.0,\"physical_activity\":0.0,\"date\":\"2017-11-26\"},{\"sleeping\":0.0,\"sedentary_behavior\":3.0,\"num_tweets\":6.0,\"physical_activity\":0.0,\"date\":\"2017-12-03\"},{\"sleeping\":0.0,\"sedentary_behavior\":0.0,\"num_tweets\":3.0,\"physical_activity\":3.0,\"date\":\"2017-12-10\"}],\"division_name\":\"Division No.  7\",\"latitude\":49.850381,\"longitude\":-99.959106,\"province_id\":46,\"province_name\":\"Manitoba\"},\"4608\":{\"data\":[{\"sleeping\":0.0,\"sedentary_behavior\":0.0,\"num_tweets\":12.0,\"physical_activity\":0.0,\"date\":\"2017-11-19\"},{\"sleeping\":2.0,\"sedentary_behavior\":0.0,\"num_tweets\":14.0,\"physical_activity\":0.0,\"date\":\"2017-11-26\"}],\"division_name\":\"Division No.  8\",\"latitude\":50.9959116,\"longitude\":-98.7987473049,\"province_id\":46,\"province_name\":\"Manitoba\"},\"4609\":{\"data\":[{\"sleeping\":0.0,\"sedentary_behavior\":4.0,\"num_tweets\":59.0,\"physical_activity\":3.0,\"date\":\"2017-11-19\"},{\"sleeping\":0.0,\"sedentary_behavior\":6.0,\"num_tweets\":87.0,\"physical_activity\":0.0,\"date\":\"2017-11-26\"},{\"sleeping\":0.0,\"sedentary_behavior\":6.0,\"num_tweets\":52.0,\"physical_activity\":0.0,\"date\":\"2017-12-03\"},{\"sleeping\":0.0,\"sedentary_behavior\":4.0,\"num_tweets\":21.0,\"physical_activity\":4.0,\"date\":\"2017-12-10\"}],\"division_name\":\"Division No.  9\",\"latitude\":49.972422,\"longitude\":-98.289185,\"province_id\":46,\"province_name\":\"Manitoba\"},\"4610\":{\"data\":[],\"division_name\":\"Division No. 10\",\"latitude\":null,\"longitude\":null,\"province_id\":46,\"province_name\":\"Manitoba\"},\"4611\":{\"data\":[{\"sleeping\":0.0,\"sedentary_behavior\":55.0,\"num_tweets\":405.0,\"physical_activity\":5.0,\"date\":\"2017-11-05\"},{\"sleeping\":295.0,\"sedentary_behavior\":1960.0,\"num_tweets\":20010.0,\"physical_activity\":735.0,\"date\":\"2017-11-19\"},{\"sleeping\":615.0,\"sedentary_behavior\":4950.0,\"num_tweets\":44725.0,\"physical_activity\":1830.0,\"date\":\"2017-11-26\"},{\"sleeping\":235.0,\"sedentary_behavior\":2570.0,\"num_tweets\":24456.0,\"physical_activity\":1130.0,\"date\":\"2017-12-03\"},{\"sleeping\":70.0,\"sedentary_behavior\":635.0,\"num_tweets\":5855.0,\"physical_activity\":225.0,\"date\":\"2017-12-10\"}],\"division_name\":\"Division No. 11\",\"latitude\":49.884017,\"longitude\":-97.168579,\"province_id\":46,\"province_name\":\"Manitoba\"},\"4612\":{\"data\":[{\"sleeping\":0.0,\"sedentary_behavior\":0.0,\"num_tweets\":13.0,\"physical_activity\":0.0,\"date\":\"2017-11-26\"},{\"sleeping\":0.0,\"sedentary_behavior\":3.0,\"num_tweets\":3.0,\"physical_activity\":0.0,\"date\":\"2017-12-03\"},{\"sleeping\":0.0,\"sedentary_behavior\":3.0,\"num_tweets\":7.0,\"physical_activity\":0.0,\"date\":\"2017-12-10\"}],\"division_name\":\"Division No. 12\",\"latitude\":50.0619312,\"longitude\":-96.5140821,\"province_id\":46,\"province_name\":\"Manitoba\"},\"4613\":{\"data\":[{\"sleeping\":0.0,\"sedentary_behavior\":0.0,\"num_tweets\":6.0,\"physical_activity\":0.0,\"date\":\"2017-11-19\"},{\"sleeping\":0.0,\"sedentary_behavior\":6.0,\"num_tweets\":27.0,\"physical_activity\":0.0,\"date\":\"2017-11-26\"},{\"sleeping\":0.0,\"sedentary_behavior\":3.0,\"num_tweets\":9.0,\"physical_activity\":0.0,\"date\":\"2017-12-03\"}],\"division_name\":\"Division No. 13\",\"latitude\":52.1496988,\"longitude\":-106.7099989,\"province_id\":46,\"province_name\":\"Manitoba\"},\"4614\":{\"data\":[{\"sleeping\":0.0,\"sedentary_behavior\":4.0,\"num_tweets\":112.0,\"physical_activity\":8.0,\"date\":\"2017-11-19\"},{\"sleeping\":0.0,\"sedentary_behavior\":36.0,\"num_tweets\":200.0,\"physical_activity\":12.0,\"date\":\"2017-11-26\"},{\"sleeping\":4.0,\"sedentary_behavior\":0.0,\"num_tweets\":112.0,\"physical_activity\":0.0,\"date\":\"2017-12-03\"},{\"sleeping\":0.0,\"sedentary_behavior\":4.0,\"num_tweets\":36.0,\"physical_activity\":0.0,\"date\":\"2017-12-10\"}],\"division_name\":\"Division No. 14\",\"latitude\":50.1327525,\"longitude\":-97.3270268321,\"province_id\":46,\"province_name\":\"Manitoba\"},\"4615\":{\"data\":[],\"division_name\":\"Division No. 15\",\"latitude\":null,\"longitude\":null,\"province_id\":46,\"province_name\":\"Manitoba\"},\"4616\":{\"data\":[{\"sleeping\":0.0,\"sedentary_behavior\":3.0,\"num_tweets\":36.0,\"physical_activity\":0.0,\"date\":\"2017-11-19\"},{\"sleeping\":0.0,\"sedentary_behavior\":6.0,\"num_tweets\":126.0,\"physical_activity\":0.0,\"date\":\"2017-11-26\"},{\"sleeping\":0.0,\"sedentary_behavior\":3.0,\"num_tweets\":55.0,\"physical_activity\":3.0,\"date\":\"2017-12-03\"}],\"division_name\":\"Division No. 16\",\"latitude\":51.233333,\"longitude\":-101.35,\"province_id\":46,\"province_name\":\"Manitoba\"},\"4617\":{\"data\":[],\"division_name\":\"Division No. 17\",\"latitude\":51.153509,\"longitude\":-100.04425,\"province_id\":46,\"province_name\":\"Manitoba\"},\"4618\":{\"data\":[],\"division_name\":\"Division No. 18\",\"latitude\":50.1327525,\"longitude\":-97.3270268321,\"province_id\":46,\"province_name\":\"Manitoba\"},\"4619\":{\"data\":[],\"division_name\":\"Division No. 19\",\"latitude\":null,\"longitude\":null,\"province_id\":46,\"province_name\":\"Manitoba\"},\"4620\":{\"data\":[],\"division_name\":\"Division No. 20\",\"latitude\":51.9667188,\"longitude\":-101.5617688,\"province_id\":46,\"province_name\":\"Manitoba\"},\"4621\":{\"data\":[{\"sleeping\":0.0,\"sedentary_behavior\":0.0,\"num_tweets\":6.0,\"physical_activity\":0.0,\"date\":\"2017-11-19\"},{\"sleeping\":0.0,\"sedentary_behavior\":0.0,\"num_tweets\":28.0,\"physical_activity\":0.0,\"date\":\"2017-11-26\"},{\"sleeping\":0.0,\"sedentary_behavior\":3.0,\"num_tweets\":21.0,\"physical_activity\":3.0,\"date\":\"2017-12-03\"}],\"division_name\":\"Division No. 21\",\"latitude\":54.77440345,\"longitude\":-101.8824807164,\"province_id\":46,\"province_name\":\"Manitoba\"},\"4622\":{\"data\":[{\"sleeping\":16.0,\"sedentary_behavior\":15.0,\"num_tweets\":241.0,\"physical_activity\":0.0,\"date\":\"2017-11-19\"},{\"sleeping\":8.0,\"sedentary_behavior\":42.0,\"num_tweets\":364.0,\"physical_activity\":15.0,\"date\":\"2017-11-26\"},{\"sleeping\":12.0,\"sedentary_behavior\":15.0,\"num_tweets\":175.0,\"physical_activity\":4.0,\"date\":\"2017-12-03\"},{\"sleeping\":0.0,\"sedentary_behavior\":8.0,\"num_tweets\":36.0,\"physical_activity\":0.0,\"date\":\"2017-12-10\"}],\"division_name\":\"Division No. 22\",\"latitude\":55.743347,\"longitude\":-97.863464,\"province_id\":46,\"province_name\":\"Manitoba\"},\"4623\":{\"data\":[{\"sleeping\":0.0,\"sedentary_behavior\":0.0,\"num_tweets\":150.0,\"physical_activity\":0.0,\"date\":\"2017-11-05\"},{\"sleeping\":0.0,\"sedentary_behavior\":36.0,\"num_tweets\":3406.0,\"physical_activity\":10.0,\"date\":\"2017-11-19\"},{\"sleeping\":3.0,\"sedentary_behavior\":29.0,\"num_tweets\":9976.0,\"physical_activity\":66.0,\"date\":\"2017-11-26\"},{\"sleeping\":0.0,\"sedentary_behavior\":0.0,\"num_tweets\":4950.0,\"physical_activity\":5.0,\"date\":\"2017-12-03\"},{\"sleeping\":0.0,\"sedentary_behavior\":10.0,\"num_tweets\":1243.0,\"physical_activity\":0.0,\"date\":\"2017-12-10\"}],\"division_name\":\"Division No. 23\",\"latitude\":58.7721606,\"longitude\":-94.1637108,\"province_id\":46,\"province_name\":\"Manitoba\"},\"4701\":{\"data\":[{\"sleeping\":0.0,\"sedentary_behavior\":20.0,\"num_tweets\":90.0,\"physical_activity\":0.0,\"date\":\"2017-11-05\"},{\"sleeping\":15.0,\"sedentary_behavior\":435.0,\"num_tweets\":3918.0,\"physical_activity\":200.0,\"date\":\"2017-11-19\"},{\"sleeping\":115.0,\"sedentary_behavior\":977.0,\"num_tweets\":8898.0,\"physical_activity\":441.0,\"date\":\"2017-11-26\"},{\"sleeping\":62.0,\"sedentary_behavior\":450.0,\"num_tweets\":5072.0,\"physical_activity\":225.0,\"date\":\"2017-12-03\"},{\"sleeping\":30.0,\"sedentary_behavior\":115.0,\"num_tweets\":996.0,\"physical_activity\":70.0,\"date\":\"2017-12-10\"}],\"division_name\":\"Division No.  1\",\"latitude\":52.1200598,\"longitude\":-106.6700821,\"province_id\":47,\"province_name\":\"Saskatchewan\"},\"4702\":{\"data\":[],\"division_name\":\"Division No.  2\",\"latitude\":53.1869562,\"longitude\":-105.7210493,\"province_id\":47,\"province_name\":\"Saskatchewan\"},\"4703\":{\"data\":[],\"division_name\":\"Division No.  3\",\"latitude\":53.1869562,\"longitude\":-105.7210493,\"province_id\":47,\"province_name\":\"Saskatchewan\"},\"4704\":{\"data\":[],\"division_name\":\"Division No.  4\",\"latitude\":53.1869562,\"longitude\":-105.7210493,\"province_id\":47,\"province_name\":\"Saskatchewan\"},\"4705\":{\"data\":[],\"division_name\":\"Division No.  5\",\"latitude\":53.1869562,\"longitude\":-105.7210493,\"province_id\":47,\"province_name\":\"Saskatchewan\"},\"4706\":{\"data\":[],\"division_name\":\"Division No.  6\",\"latitude\":53.1869562,\"longitude\":-105.7210493,\"province_id\":47,\"province_name\":\"Saskatchewan\"},\"4707\":{\"data\":[{\"sleeping\":0.0,\"sedentary_behavior\":2.0,\"num_tweets\":5.0,\"physical_activity\":0.0,\"date\":\"2017-11-05\"},{\"sleeping\":1.0,\"sedentary_behavior\":5.0,\"num_tweets\":48.0,\"physical_activity\":2.0,\"date\":\"2017-11-19\"},{\"sleeping\":0.0,\"sedentary_behavior\":6.0,\"num_tweets\":52.0,\"physical_activity\":3.0,\"date\":\"2017-11-26\"},{\"sleeping\":0.0,\"sedentary_behavior\":2.0,\"num_tweets\":6.0,\"physical_activity\":2.0,\"date\":\"2017-12-03\"},{\"sleeping\":0.0,\"sedentary_behavior\":0.0,\"num_tweets\":3.0,\"physical_activity\":0.0,\"date\":\"2017-12-10\"}],\"division_name\":\"Division No.  7\",\"latitude\":53.1869562,\"longitude\":-105.7210493,\"province_id\":47,\"province_name\":\"Saskatchewan\"},\"4708\":{\"data\":[],\"division_name\":\"Division No.  8\",\"latitude\":53.1869562,\"longitude\":-105.7210493,\"province_id\":47,\"province_name\":\"Saskatchewan\"},\"4709\":{\"data\":[],\"division_name\":\"Division No.  9\",\"latitude\":53.1869562,\"longitude\":-105.7210493,\"province_id\":47,\"province_name\":\"Saskatchewan\"},\"4710\":{\"data\":[],\"division_name\":\"Division No. 10\",\"latitude\":53.1869562,\"longitude\":-105.7210493,\"province_id\":47,\"province_name\":\"Saskatchewan\"},\"4711\":{\"data\":[],\"division_name\":\"Division No. 11\",\"latitude\":53.1869562,\"longitude\":-105.7210493,\"province_id\":47,\"province_name\":\"Saskatchewan\"},\"4712\":{\"data\":[{\"sleeping\":0.0,\"sedentary_behavior\":2.0,\"num_tweets\":18.0,\"physical_activity\":0.0,\"date\":\"2017-11-19\"},{\"sleeping\":0.0,\"sedentary_behavior\":4.0,\"num_tweets\":34.0,\"physical_activity\":0.0,\"date\":\"2017-11-26\"},{\"sleeping\":0.0,\"sedentary_behavior\":4.0,\"num_tweets\":24.0,\"physical_activity\":0.0,\"date\":\"2017-12-03\"},{\"sleeping\":0.0,\"sedentary_behavior\":0.0,\"num_tweets\":4.0,\"physical_activity\":0.0,\"date\":\"2017-12-10\"}],\"division_name\":\"Division No. 12\",\"latitude\":53.1869562,\"longitude\":-105.7210493,\"province_id\":47,\"province_name\":\"Saskatchewan\"},\"4713\":{\"data\":[],\"division_name\":\"Division No. 13\",\"latitude\":53.1869562,\"longitude\":-105.7210493,\"province_id\":47,\"province_name\":\"Saskatchewan\"},\"4714\":{\"data\":[{\"sleeping\":0.0,\"sedentary_behavior\":5.0,\"num_tweets\":35.0,\"physical_activity\":0.0,\"date\":\"2017-11-05\"},{\"sleeping\":20.0,\"sedentary_behavior\":171.0,\"num_tweets\":1562.0,\"physical_activity\":65.0,\"date\":\"2017-11-19\"},{\"sleeping\":45.0,\"sedentary_behavior\":290.0,\"num_tweets\":3578.0,\"physical_activity\":130.0,\"date\":\"2017-11-26\"},{\"sleeping\":25.0,\"sedentary_behavior\":225.0,\"num_tweets\":2758.0,\"physical_activity\":50.0,\"date\":\"2017-12-03\"},{\"sleeping\":15.0,\"sedentary_behavior\":50.0,\"num_tweets\":330.0,\"physical_activity\":10.0,\"date\":\"2017-12-10\"}],\"division_name\":\"Division No. 14\",\"latitude\":53.1869562,\"longitude\":-105.7210493,\"province_id\":47,\"province_name\":\"Saskatchewan\"},\"4715\":{\"data\":[],\"division_name\":\"Division No. 15\",\"latitude\":53.1869562,\"longitude\":-105.7210493,\"province_id\":47,\"province_name\":\"Saskatchewan\"},\"4716\":{\"data\":[],\"division_name\":\"Division No. 16\",\"latitude\":53.1869562,\"longitude\":-105.7210493,\"province_id\":47,\"province_name\":\"Saskatchewan\"},\"4717\":{\"data\":[{\"sleeping\":0.0,\"sedentary_behavior\":3.0,\"num_tweets\":3.0,\"physical_activity\":3.0,\"date\":\"2017-11-19\"},{\"sleeping\":0.0,\"sedentary_behavior\":3.0,\"num_tweets\":3.0,\"physical_activity\":0.0,\"date\":\"2017-11-26\"},{\"sleeping\":0.0,\"sedentary_behavior\":3.0,\"num_tweets\":9.0,\"physical_activity\":0.0,\"date\":\"2017-12-03\"}],\"division_name\":\"Division No. 17\",\"latitude\":53.1869562,\"longitude\":-105.7210493,\"province_id\":47,\"province_name\":\"Saskatchewan\"},\"4718\":{\"data\":[{\"sleeping\":0.0,\"sedentary_behavior\":0.0,\"num_tweets\":5.0,\"physical_activity\":0.0,\"date\":\"2017-11-05\"},{\"sleeping\":5.0,\"sedentary_behavior\":20.0,\"num_tweets\":430.0,\"physical_activity\":10.0,\"date\":\"2017-11-19\"},{\"sleeping\":10.0,\"sedentary_behavior\":70.0,\"num_tweets\":1382.0,\"physical_activity\":30.0,\"date\":\"2017-11-26\"},{\"sleeping\":0.0,\"sedentary_behavior\":30.0,\"num_tweets\":780.0,\"physical_activity\":10.0,\"date\":\"2017-12-03\"},{\"sleeping\":0.0,\"sedentary_behavior\":5.0,\"num_tweets\":155.0,\"physical_activity\":0.0,\"date\":\"2017-12-10\"}],\"division_name\":\"Division No. 18\",\"latitude\":53.1869562,\"longitude\":-105.7210493,\"province_id\":47,\"province_name\":\"Saskatchewan\"},\"4801\":{\"data\":[{\"sleeping\":0.0,\"sedentary_behavior\":17.0,\"num_tweets\":91.0,\"physical_activity\":1.0,\"date\":\"2017-11-19\"},{\"sleeping\":4.0,\"sedentary_behavior\":18.0,\"num_tweets\":207.0,\"physical_activity\":12.0,\"date\":\"2017-11-26\"},{\"sleeping\":0.0,\"sedentary_behavior\":10.0,\"num_tweets\":122.0,\"physical_activity\":6.0,\"date\":\"2017-12-03\"},{\"sleeping\":0.0,\"sedentary_behavior\":0.0,\"num_tweets\":28.0,\"physical_activity\":0.0,\"date\":\"2017-12-10\"}],\"division_name\":\"Division No.  1\",\"latitude\":52.1531542,\"longitude\":-106.6680651,\"province_id\":48,\"province_name\":\"Alberta\"},\"4802\":{\"data\":[{\"sleeping\":0.0,\"sedentary_behavior\":5.0,\"num_tweets\":173.0,\"physical_activity\":0.0,\"date\":\"2017-11-05\"},{\"sleeping\":69.0,\"sedentary_behavior\":648.0,\"num_tweets\":5679.0,\"physical_activity\":230.0,\"date\":\"2017-11-19\"},{\"sleeping\":129.0,\"sedentary_behavior\":988.0,\"num_tweets\":12098.0,\"physical_activity\":461.0,\"date\":\"2017-11-26\"},{\"sleeping\":90.0,\"sedentary_behavior\":750.0,\"num_tweets\":6335.0,\"physical_activity\":223.0,\"date\":\"2017-12-03\"},{\"sleeping\":20.0,\"sedentary_behavior\":135.0,\"num_tweets\":1247.0,\"physical_activity\":80.0,\"date\":\"2017-12-10\"}],\"division_name\":\"Division No.  2\",\"latitude\":50.9227196,\"longitude\":-102.791443,\"province_id\":48,\"province_name\":\"Alberta\"},\"4803\":{\"data\":[],\"division_name\":\"Division No.  3\",\"latitude\":52.1476514,\"longitude\":-106.6680964,\"province_id\":48,\"province_name\":\"Alberta\"},\"4804\":{\"data\":[],\"division_name\":\"Division No.  4\",\"latitude\":52.8624503,\"longitude\":-104.6063771,\"province_id\":48,\"province_name\":\"Alberta\"},\"4805\":{\"data\":[{\"sleeping\":3.0,\"sedentary_behavior\":9.0,\"num_tweets\":150.0,\"physical_activity\":0.0,\"date\":\"2017-11-19\"},{\"sleeping\":3.0,\"sedentary_behavior\":18.0,\"num_tweets\":177.0,\"physical_activity\":3.0,\"date\":\"2017-11-26\"},{\"sleeping\":0.0,\"sedentary_behavior\":3.0,\"num_tweets\":24.0,\"physical_activity\":0.0,\"date\":\"2017-12-03\"},{\"sleeping\":0.0,\"sedentary_behavior\":0.0,\"num_tweets\":7.0,\"physical_activity\":0.0,\"date\":\"2017-12-10\"}],\"division_name\":\"Division No.  5\",\"latitude\":52.1476514,\"longitude\":-106.6680964,\"province_id\":48,\"province_name\":\"Alberta\"},\"4806\":{\"data\":[],\"division_name\":\"Division No.  6\",\"latitude\":null,\"longitude\":null,\"province_id\":48,\"province_name\":\"Alberta\"},\"4807\":{\"data\":[],\"division_name\":\"Division No.  7\",\"latitude\":52.1476514,\"longitude\":-106.6680964,\"province_id\":48,\"province_name\":\"Alberta\"},\"4808\":{\"data\":[],\"division_name\":\"Division No.  8\",\"latitude\":52.1476514,\"longitude\":-106.6680964,\"province_id\":48,\"province_name\":\"Alberta\"},\"4809\":{\"data\":[{\"sleeping\":0.0,\"sedentary_behavior\":0.0,\"num_tweets\":1.0,\"physical_activity\":0.0,\"date\":\"2017-11-19\"}],\"division_name\":\"Division No.  9\",\"latitude\":51.5669475,\"longitude\":-101.9052489,\"province_id\":48,\"province_name\":\"Alberta\"},\"4810\":{\"data\":[{\"sleeping\":4.0,\"sedentary_behavior\":16.0,\"num_tweets\":223.0,\"physical_activity\":4.0,\"date\":\"2017-11-19\"},{\"sleeping\":4.0,\"sedentary_behavior\":58.0,\"num_tweets\":515.0,\"physical_activity\":28.0,\"date\":\"2017-11-26\"},{\"sleeping\":0.0,\"sedentary_behavior\":26.0,\"num_tweets\":193.0,\"physical_activity\":7.0,\"date\":\"2017-12-03\"},{\"sleeping\":0.0,\"sedentary_behavior\":4.0,\"num_tweets\":36.0,\"physical_activity\":4.0,\"date\":\"2017-12-10\"}],\"division_name\":\"Division No. 10\",\"latitude\":51.6394143,\"longitude\":-103.5274211,\"province_id\":48,\"province_name\":\"Alberta\"},\"4811\":{\"data\":[{\"sleeping\":8.0,\"sedentary_behavior\":20.0,\"num_tweets\":116.0,\"physical_activity\":8.0,\"date\":\"2017-11-19\"},{\"sleeping\":0.0,\"sedentary_behavior\":26.0,\"num_tweets\":306.0,\"physical_activity\":16.0,\"date\":\"2017-11-26\"},{\"sleeping\":0.0,\"sedentary_behavior\":4.0,\"num_tweets\":46.0,\"physical_activity\":0.0,\"date\":\"2017-12-03\"},{\"sleeping\":0.0,\"sedentary_behavior\":4.0,\"num_tweets\":20.0,\"physical_activity\":0.0,\"date\":\"2017-12-10\"}],\"division_name\":\"Division No. 11\",\"latitude\":52.1476514,\"longitude\":-106.6680964,\"province_id\":48,\"province_name\":\"Alberta\"},\"4812\":{\"data\":[],\"division_name\":\"Division No. 12\",\"latitude\":52.1476514,\"longitude\":-106.6680964,\"province_id\":48,\"province_name\":\"Alberta\"},\"4813\":{\"data\":[{\"sleeping\":0.0,\"sedentary_behavior\":60.0,\"num_tweets\":505.0,\"physical_activity\":20.0,\"date\":\"2017-11-05\"},{\"sleeping\":269.0,\"sedentary_behavior\":3271.0,\"num_tweets\":34560.0,\"physical_activity\":1366.0,\"date\":\"2017-11-19\"},{\"sleeping\":671.0,\"sedentary_behavior\":7331.0,\"num_tweets\":84787.0,\"physical_activity\":3147.0,\"date\":\"2017-11-26\"},{\"sleeping\":386.0,\"sedentary_behavior\":4054.0,\"num_tweets\":43017.0,\"physical_activity\":1514.0,\"date\":\"2017-12-03\"},{\"sleeping\":84.0,\"sedentary_behavior\":565.0,\"num_tweets\":7902.0,\"physical_activity\":240.0,\"date\":\"2017-12-10\"}],\"division_name\":\"Division No. 13\",\"latitude\":51.917734,\"longitude\":-109.1405612,\"province_id\":48,\"province_name\":\"Alberta\"},\"4814\":{\"data\":[{\"sleeping\":0.0,\"sedentary_behavior\":0.0,\"num_tweets\":18.0,\"physical_activity\":0.0,\"date\":\"2017-11-19\"},{\"sleeping\":0.0,\"sedentary_behavior\":24.0,\"num_tweets\":120.0,\"physical_activity\":12.0,\"date\":\"2017-11-26\"},{\"sleeping\":0.0,\"sedentary_behavior\":0.0,\"num_tweets\":12.0,\"physical_activity\":0.0,\"date\":\"2017-12-03\"},{\"sleeping\":0.0,\"sedentary_behavior\":0.0,\"num_tweets\":4.0,\"physical_activity\":0.0,\"date\":\"2017-12-10\"}],\"division_name\":\"Division No. 14\",\"latitude\":52.8624503,\"longitude\":-104.6063771,\"province_id\":48,\"province_name\":\"Alberta\"},\"4815\":{\"data\":[{\"sleeping\":0.0,\"sedentary_behavior\":0.0,\"num_tweets\":2.0,\"physical_activity\":0.0,\"date\":\"2017-11-26\"}],\"division_name\":\"Division No. 15\",\"latitude\":52.1476514,\"longitude\":-106.6680964,\"province_id\":48,\"province_name\":\"Alberta\"},\"4816\":{\"data\":[{\"sleeping\":0.0,\"sedentary_behavior\":0.0,\"num_tweets\":1.0,\"physical_activity\":0.0,\"date\":\"2017-12-03\"}],\"division_name\":\"Division No. 16\",\"latitude\":52.1476514,\"longitude\":-106.6680964,\"province_id\":48,\"province_name\":\"Alberta\"},\"4817\":{\"data\":[],\"division_name\":\"Division No. 17\",\"latitude\":52.1476514,\"longitude\":-106.6680964,\"province_id\":48,\"province_name\":\"Alberta\"},\"4818\":{\"data\":[],\"division_name\":\"Division No. 18\",\"latitude\":52.1476514,\"longitude\":-106.6680964,\"province_id\":48,\"province_name\":\"Alberta\"},\"4819\":{\"data\":[{\"sleeping\":0.0,\"sedentary_behavior\":0.0,\"num_tweets\":6.0,\"physical_activity\":0.0,\"date\":\"2017-11-19\"},{\"sleeping\":0.0,\"sedentary_behavior\":0.0,\"num_tweets\":12.0,\"physical_activity\":0.0,\"date\":\"2017-11-26\"},{\"sleeping\":0.0,\"sedentary_behavior\":0.0,\"num_tweets\":3.0,\"physical_activity\":0.0,\"date\":\"2017-12-03\"}],\"division_name\":\"Division No. 19\",\"latitude\":52.1476514,\"longitude\":-106.6680964,\"province_id\":48,\"province_name\":\"Alberta\"},\"5901\":{\"data\":[],\"division_name\":\"East Kootenay\",\"latitude\":null,\"longitude\":null,\"province_id\":59,\"province_name\":\"British Columbia \\\\/ Colombie-Britannique\"},\"5903\":{\"data\":[{\"sleeping\":4.0,\"sedentary_behavior\":34.0,\"num_tweets\":373.0,\"physical_activity\":15.0,\"date\":\"2017-11-19\"},{\"sleeping\":4.0,\"sedentary_behavior\":54.0,\"num_tweets\":932.0,\"physical_activity\":26.0,\"date\":\"2017-11-26\"},{\"sleeping\":0.0,\"sedentary_behavior\":55.0,\"num_tweets\":704.0,\"physical_activity\":4.0,\"date\":\"2017-12-03\"},{\"sleeping\":0.0,\"sedentary_behavior\":4.0,\"num_tweets\":60.0,\"physical_activity\":0.0,\"date\":\"2017-12-10\"}],\"division_name\":\"Central Kootenay\",\"latitude\":50.03194325,\"longitude\":-117.4854454993,\"province_id\":59,\"province_name\":\"British Columbia \\\\/ Colombie-Britannique\"},\"5905\":{\"data\":[{\"sleeping\":55.0,\"sedentary_behavior\":115.0,\"num_tweets\":780.0,\"physical_activity\":20.0,\"date\":\"2017-11-05\"},{\"sleeping\":1660.0,\"sedentary_behavior\":4660.0,\"num_tweets\":38307.0,\"physical_activity\":1279.0,\"date\":\"2017-11-19\"},{\"sleeping\":3990.0,\"sedentary_behavior\":11198.0,\"num_tweets\":88896.0,\"physical_activity\":3543.0,\"date\":\"2017-11-26\"},{\"sleeping\":2496.0,\"sedentary_behavior\":6507.0,\"num_tweets\":47958.0,\"physical_activity\":1867.0,\"date\":\"2017-12-03\"},{\"sleeping\":605.0,\"sedentary_behavior\":1194.0,\"num_tweets\":8427.0,\"physical_activity\":300.0,\"date\":\"2017-12-10\"}],\"division_name\":\"Kootenay Boundary\",\"latitude\":50.16641145,\"longitude\":-115.6052366806,\"province_id\":59,\"province_name\":\"British Columbia \\\\/ Colombie-Britannique\"},\"5907\":{\"data\":[{\"sleeping\":0.0,\"sedentary_behavior\":0.0,\"num_tweets\":4.0,\"physical_activity\":0.0,\"date\":\"2017-11-05\"},{\"sleeping\":4.0,\"sedentary_behavior\":16.0,\"num_tweets\":233.0,\"physical_activity\":4.0,\"date\":\"2017-11-19\"},{\"sleeping\":0.0,\"sedentary_behavior\":4.0,\"num_tweets\":298.0,\"physical_activity\":4.0,\"date\":\"2017-11-26\"},{\"sleeping\":0.0,\"sedentary_behavior\":4.0,\"num_tweets\":179.0,\"physical_activity\":12.0,\"date\":\"2017-12-03\"},{\"sleeping\":0.0,\"sedentary_behavior\":4.0,\"num_tweets\":40.0,\"physical_activity\":0.0,\"date\":\"2017-12-10\"}],\"division_name\":\"Okanagan-Similkameen\",\"latitude\":49.45603675,\"longitude\":-120.1907516519,\"province_id\":59,\"province_name\":\"British Columbia \\\\/ Colombie-Britannique\"},\"5909\":{\"data\":[{\"sleeping\":0.0,\"sedentary_behavior\":3.0,\"num_tweets\":86.0,\"physical_activity\":0.0,\"date\":\"2017-11-19\"},{\"sleeping\":0.0,\"sedentary_behavior\":12.0,\"num_tweets\":488.0,\"physical_activity\":6.0,\"date\":\"2017-11-26\"},{\"sleeping\":0.0,\"sedentary_behavior\":0.0,\"num_tweets\":227.0,\"physical_activity\":0.0,\"date\":\"2017-12-03\"},{\"sleeping\":0.0,\"sedentary_behavior\":0.0,\"num_tweets\":48.0,\"physical_activity\":0.0,\"date\":\"2017-12-10\"}],\"division_name\":\"Fraser Valley\",\"latitude\":59.715297,\"longitude\":-135.0479946,\"province_id\":59,\"province_name\":\"British Columbia \\\\/ Colombie-Britannique\"},\"5915\":{\"data\":[{\"sleeping\":0.0,\"sedentary_behavior\":15.0,\"num_tweets\":175.0,\"physical_activity\":10.0,\"date\":\"2017-11-05\"},{\"sleeping\":120.0,\"sedentary_behavior\":1140.0,\"num_tweets\":11910.0,\"physical_activity\":413.0,\"date\":\"2017-11-19\"},{\"sleeping\":149.0,\"sedentary_behavior\":1441.0,\"num_tweets\":19429.0,\"physical_activity\":613.0,\"date\":\"2017-11-26\"},{\"sleeping\":50.0,\"sedentary_behavior\":500.0,\"num_tweets\":7101.0,\"physical_activity\":150.0,\"date\":\"2017-12-03\"},{\"sleeping\":15.0,\"sedentary_behavior\":110.0,\"num_tweets\":1624.0,\"physical_activity\":49.0,\"date\":\"2017-12-10\"}],\"division_name\":\"Greater Vancouver\",\"latitude\":49.0935151,\"longitude\":-122.4870785388,\"province_id\":59,\"province_name\":\"British Columbia \\\\/ Colombie-Britannique\"},\"5917\":{\"data\":[{\"sleeping\":0.0,\"sedentary_behavior\":5.0,\"num_tweets\":55.0,\"physical_activity\":5.0,\"date\":\"2017-11-05\"},{\"sleeping\":20.0,\"sedentary_behavior\":100.0,\"num_tweets\":1928.0,\"physical_activity\":87.0,\"date\":\"2017-11-19\"},{\"sleeping\":85.0,\"sedentary_behavior\":544.0,\"num_tweets\":5640.0,\"physical_activity\":301.0,\"date\":\"2017-11-26\"},{\"sleeping\":10.0,\"sedentary_behavior\":270.0,\"num_tweets\":2743.0,\"physical_activity\":248.0,\"date\":\"2017-12-03\"},{\"sleeping\":5.0,\"sedentary_behavior\":38.0,\"num_tweets\":689.0,\"physical_activity\":35.0,\"date\":\"2017-12-10\"}],\"division_name\":\"Capital\",\"latitude\":49.2814237,\"longitude\":-123.1330616,\"province_id\":59,\"province_name\":\"British Columbia \\\\/ Colombie-Britannique\"},\"5919\":{\"data\":[{\"sleeping\":0.0,\"sedentary_behavior\":0.0,\"num_tweets\":5.0,\"physical_activity\":0.0,\"date\":\"2017-11-05\"},{\"sleeping\":0.0,\"sedentary_behavior\":30.0,\"num_tweets\":182.0,\"physical_activity\":4.0,\"date\":\"2017-11-19\"},{\"sleeping\":4.0,\"sedentary_behavior\":59.0,\"num_tweets\":389.0,\"physical_activity\":16.0,\"date\":\"2017-11-26\"},{\"sleeping\":0.0,\"sedentary_behavior\":13.0,\"num_tweets\":149.0,\"physical_activity\":0.0,\"date\":\"2017-12-03\"},{\"sleeping\":0.0,\"sedentary_behavior\":12.0,\"num_tweets\":61.0,\"physical_activity\":4.0,\"date\":\"2017-12-10\"}],\"division_name\":\"Cowichan Valley\",\"latitude\":48.81174475,\"longitude\":-123.8036246625,\"province_id\":59,\"province_name\":\"British Columbia \\\\/ Colombie-Britannique\"},\"5921\":{\"data\":[{\"sleeping\":5.0,\"sedentary_behavior\":0.0,\"num_tweets\":35.0,\"physical_activity\":0.0,\"date\":\"2017-11-05\"},{\"sleeping\":15.0,\"sedentary_behavior\":225.0,\"num_tweets\":2275.0,\"physical_activity\":75.0,\"date\":\"2017-11-19\"},{\"sleeping\":70.0,\"sedentary_behavior\":365.0,\"num_tweets\":4645.0,\"physical_activity\":125.0,\"date\":\"2017-11-26\"},{\"sleeping\":40.0,\"sedentary_behavior\":195.0,\"num_tweets\":2145.0,\"physical_activity\":60.0,\"date\":\"2017-12-03\"},{\"sleeping\":5.0,\"sedentary_behavior\":25.0,\"num_tweets\":415.0,\"physical_activity\":0.0,\"date\":\"2017-12-10\"}],\"division_name\":\"Nanaimo\",\"latitude\":49.166441,\"longitude\":-123.939514,\"province_id\":59,\"province_name\":\"British Columbia \\\\/ Colombie-Britannique\"},\"5923\":{\"data\":[{\"sleeping\":3.0,\"sedentary_behavior\":23.0,\"num_tweets\":145.0,\"physical_activity\":3.0,\"date\":\"2017-11-19\"},{\"sleeping\":0.0,\"sedentary_behavior\":39.0,\"num_tweets\":441.0,\"physical_activity\":21.0,\"date\":\"2017-11-26\"},{\"sleeping\":3.0,\"sedentary_behavior\":21.0,\"num_tweets\":83.0,\"physical_activity\":3.0,\"date\":\"2017-12-03\"},{\"sleeping\":0.0,\"sedentary_behavior\":0.0,\"num_tweets\":12.0,\"physical_activity\":0.0,\"date\":\"2017-12-10\"}],\"division_name\":\"Alberni-Clayoquot\",\"latitude\":49.266667,\"longitude\":-124.8,\"province_id\":59,\"province_name\":\"British Columbia \\\\/ Colombie-Britannique\"},\"5924\":{\"data\":[{\"sleeping\":5.0,\"sedentary_behavior\":45.0,\"num_tweets\":800.0,\"physical_activity\":40.0,\"date\":\"2017-11-05\"},{\"sleeping\":345.0,\"sedentary_behavior\":3455.0,\"num_tweets\":39789.0,\"physical_activity\":1400.0,\"date\":\"2017-11-19\"},{\"sleeping\":770.0,\"sedentary_behavior\":6675.0,\"num_tweets\":82386.0,\"physical_activity\":2905.0,\"date\":\"2017-11-26\"},{\"sleeping\":360.0,\"sedentary_behavior\":3610.0,\"num_tweets\":42593.0,\"physical_activity\":1170.0,\"date\":\"2017-12-03\"},{\"sleeping\":120.0,\"sedentary_behavior\":689.0,\"num_tweets\":8719.0,\"physical_activity\":244.0,\"date\":\"2017-12-10\"}],\"division_name\":\"Strathcona\",\"latitude\":49.279554,\"longitude\":-123.0899788,\"province_id\":59,\"province_name\":\"British Columbia \\\\/ Colombie-Britannique\"},\"5926\":{\"data\":[{\"sleeping\":0.0,\"sedentary_behavior\":44.0,\"num_tweets\":306.0,\"physical_activity\":8.0,\"date\":\"2017-11-19\"},{\"sleeping\":8.0,\"sedentary_behavior\":51.0,\"num_tweets\":868.0,\"physical_activity\":44.0,\"date\":\"2017-11-26\"},{\"sleeping\":0.0,\"sedentary_behavior\":27.0,\"num_tweets\":238.0,\"physical_activity\":28.0,\"date\":\"2017-12-03\"},{\"sleeping\":4.0,\"sedentary_behavior\":16.0,\"num_tweets\":140.0,\"physical_activity\":32.0,\"date\":\"2017-12-10\"}],\"division_name\":\"Comox Valley\",\"latitude\":49.6727748,\"longitude\":-124.9276177,\"province_id\":59,\"province_name\":\"British Columbia \\\\/ Colombie-Britannique\"},\"5927\":{\"data\":[{\"sleeping\":0.0,\"sedentary_behavior\":12.0,\"num_tweets\":54.0,\"physical_activity\":4.0,\"date\":\"2017-11-19\"},{\"sleeping\":0.0,\"sedentary_behavior\":12.0,\"num_tweets\":156.0,\"physical_activity\":4.0,\"date\":\"2017-11-26\"},{\"sleeping\":4.0,\"sedentary_behavior\":0.0,\"num_tweets\":46.0,\"physical_activity\":4.0,\"date\":\"2017-12-03\"},{\"sleeping\":0.0,\"sedentary_behavior\":0.0,\"num_tweets\":12.0,\"physical_activity\":0.0,\"date\":\"2017-12-10\"}],\"division_name\":\"Powell River\",\"latitude\":49.837097,\"longitude\":-124.524536,\"province_id\":59,\"province_name\":\"British Columbia \\\\/ Colombie-Britannique\"},\"5929\":{\"data\":[{\"sleeping\":4.0,\"sedentary_behavior\":4.0,\"num_tweets\":36.0,\"physical_activity\":4.0,\"date\":\"2017-11-19\"},{\"sleeping\":4.0,\"sedentary_behavior\":24.0,\"num_tweets\":289.0,\"physical_activity\":8.0,\"date\":\"2017-11-26\"},{\"sleeping\":0.0,\"sedentary_behavior\":12.0,\"num_tweets\":104.0,\"physical_activity\":12.0,\"date\":\"2017-12-03\"},{\"sleeping\":0.0,\"sedentary_behavior\":4.0,\"num_tweets\":32.0,\"physical_activity\":0.0,\"date\":\"2017-12-10\"}],\"division_name\":\"Sunshine Coast\",\"latitude\":49.6212539,\"longitude\":-124.026415,\"province_id\":59,\"province_name\":\"British Columbia \\\\/ Colombie-Britannique\"},\"5931\":{\"data\":[{\"sleeping\":0.0,\"sedentary_behavior\":0.0,\"num_tweets\":35.0,\"physical_activity\":0.0,\"date\":\"2017-11-05\"},{\"sleeping\":15.0,\"sedentary_behavior\":107.0,\"num_tweets\":2553.0,\"physical_activity\":123.0,\"date\":\"2017-11-19\"},{\"sleeping\":25.0,\"sedentary_behavior\":316.0,\"num_tweets\":7346.0,\"physical_activity\":444.0,\"date\":\"2017-11-26\"},{\"sleeping\":18.0,\"sedentary_behavior\":127.0,\"num_tweets\":3928.0,\"physical_activity\":261.0,\"date\":\"2017-12-03\"},{\"sleeping\":0.0,\"sedentary_behavior\":63.0,\"num_tweets\":1086.0,\"physical_activity\":86.0,\"date\":\"2017-12-10\"}],\"division_name\":\"Squamish-Lillooet\",\"latitude\":49.701391,\"longitude\":-123.151245,\"province_id\":59,\"province_name\":\"British Columbia \\\\/ Colombie-Britannique\"},\"5933\":{\"data\":[{\"sleeping\":0.0,\"sedentary_behavior\":0.0,\"num_tweets\":28.0,\"physical_activity\":0.0,\"date\":\"2017-11-05\"},{\"sleeping\":20.0,\"sedentary_behavior\":164.0,\"num_tweets\":2222.0,\"physical_activity\":84.0,\"date\":\"2017-11-19\"},{\"sleeping\":50.0,\"sedentary_behavior\":453.0,\"num_tweets\":4343.0,\"physical_activity\":160.0,\"date\":\"2017-11-26\"},{\"sleeping\":60.0,\"sedentary_behavior\":205.0,\"num_tweets\":2559.0,\"physical_activity\":75.0,\"date\":\"2017-12-03\"},{\"sleeping\":20.0,\"sedentary_behavior\":50.0,\"num_tweets\":524.0,\"physical_activity\":10.0,\"date\":\"2017-12-10\"}],\"division_name\":\"Thompson-Nicola\",\"latitude\":50.2598803,\"longitude\":-121.4070114,\"province_id\":59,\"province_name\":\"British Columbia \\\\/ Colombie-Britannique\"},\"5935\":{\"data\":[{\"sleeping\":0.0,\"sedentary_behavior\":0.0,\"num_tweets\":5.0,\"physical_activity\":1.0,\"date\":\"2017-11-05\"},{\"sleeping\":4.0,\"sedentary_behavior\":36.0,\"num_tweets\":472.0,\"physical_activity\":20.0,\"date\":\"2017-11-19\"},{\"sleeping\":24.0,\"sedentary_behavior\":181.0,\"num_tweets\":2067.0,\"physical_activity\":58.0,\"date\":\"2017-11-26\"},{\"sleeping\":16.0,\"sedentary_behavior\":60.0,\"num_tweets\":987.0,\"physical_activity\":46.0,\"date\":\"2017-12-03\"},{\"sleeping\":4.0,\"sedentary_behavior\":4.0,\"num_tweets\":217.0,\"physical_activity\":8.0,\"date\":\"2017-12-10\"}],\"division_name\":\"Central Okanagan\",\"latitude\":49.9528689,\"longitude\":-119.3847555179,\"province_id\":59,\"province_name\":\"British Columbia \\\\/ Colombie-Britannique\"},\"5937\":{\"data\":[{\"sleeping\":0.0,\"sedentary_behavior\":0.0,\"num_tweets\":55.0,\"physical_activity\":20.0,\"date\":\"2017-11-05\"},{\"sleeping\":30.0,\"sedentary_behavior\":376.0,\"num_tweets\":3629.0,\"physical_activity\":144.0,\"date\":\"2017-11-19\"},{\"sleeping\":118.0,\"sedentary_behavior\":770.0,\"num_tweets\":8637.0,\"physical_activity\":380.0,\"date\":\"2017-11-26\"},{\"sleeping\":50.0,\"sedentary_behavior\":360.0,\"num_tweets\":3644.0,\"physical_activity\":104.0,\"date\":\"2017-12-03\"},{\"sleeping\":0.0,\"sedentary_behavior\":39.0,\"num_tweets\":669.0,\"physical_activity\":10.0,\"date\":\"2017-12-10\"}],\"division_name\":\"North Okanagan\",\"latitude\":49.8351549,\"longitude\":-119.4840488765,\"province_id\":59,\"province_name\":\"British Columbia \\\\/ Colombie-Britannique\"},\"5939\":{\"data\":[{\"sleeping\":0.0,\"sedentary_behavior\":36.0,\"num_tweets\":498.0,\"physical_activity\":24.0,\"date\":\"2017-11-19\"},{\"sleeping\":12.0,\"sedentary_behavior\":144.0,\"num_tweets\":1494.0,\"physical_activity\":68.0,\"date\":\"2017-11-26\"},{\"sleeping\":12.0,\"sedentary_behavior\":63.0,\"num_tweets\":588.0,\"physical_activity\":44.0,\"date\":\"2017-12-03\"},{\"sleeping\":4.0,\"sedentary_behavior\":19.0,\"num_tweets\":142.0,\"physical_activity\":16.0,\"date\":\"2017-12-10\"}],\"division_name\":\"Columbia-Shuswap\",\"latitude\":51.45081845,\"longitude\":-117.6329538288,\"province_id\":59,\"province_name\":\"British Columbia \\\\/ Colombie-Britannique\"},\"5941\":{\"data\":[{\"sleeping\":0.0,\"sedentary_behavior\":25.0,\"num_tweets\":215.0,\"physical_activity\":10.0,\"date\":\"2017-11-05\"},{\"sleeping\":180.0,\"sedentary_behavior\":1375.0,\"num_tweets\":13125.0,\"physical_activity\":628.0,\"date\":\"2017-11-19\"},{\"sleeping\":379.0,\"sedentary_behavior\":2967.0,\"num_tweets\":31793.0,\"physical_activity\":1167.0,\"date\":\"2017-11-26\"},{\"sleeping\":189.0,\"sedentary_behavior\":1653.0,\"num_tweets\":14964.0,\"physical_activity\":526.0,\"date\":\"2017-12-03\"},{\"sleeping\":40.0,\"sedentary_behavior\":245.0,\"num_tweets\":2905.0,\"physical_activity\":150.0,\"date\":\"2017-12-10\"}],\"division_name\":\"Cariboo\",\"latitude\":49.2477785,\"longitude\":-122.8897737,\"province_id\":59,\"province_name\":\"British Columbia \\\\/ Colombie-Britannique\"},\"5943\":{\"data\":[{\"sleeping\":0.0,\"sedentary_behavior\":4.0,\"num_tweets\":23.0,\"physical_activity\":3.0,\"date\":\"2017-11-19\"},{\"sleeping\":0.0,\"sedentary_behavior\":8.0,\"num_tweets\":45.0,\"physical_activity\":0.0,\"date\":\"2017-11-26\"},{\"sleeping\":0.0,\"sedentary_behavior\":3.0,\"num_tweets\":20.0,\"physical_activity\":0.0,\"date\":\"2017-12-03\"},{\"sleeping\":0.0,\"sedentary_behavior\":4.0,\"num_tweets\":14.0,\"physical_activity\":0.0,\"date\":\"2017-12-10\"}],\"division_name\":\"Mount Waddington\",\"latitude\":51.3737074,\"longitude\":-125.263529,\"province_id\":59,\"province_name\":\"British Columbia \\\\/ Colombie-Britannique\"},\"5945\":{\"data\":[],\"division_name\":\"Central Coast\",\"latitude\":null,\"longitude\":null,\"province_id\":59,\"province_name\":\"British Columbia \\\\/ Colombie-Britannique\"},\"5947\":{\"data\":[{\"sleeping\":0.0,\"sedentary_behavior\":3.0,\"num_tweets\":24.0,\"physical_activity\":0.0,\"date\":\"2017-11-19\"},{\"sleeping\":0.0,\"sedentary_behavior\":17.0,\"num_tweets\":77.0,\"physical_activity\":0.0,\"date\":\"2017-11-26\"},{\"sleeping\":0.0,\"sedentary_behavior\":12.0,\"num_tweets\":47.0,\"physical_activity\":0.0,\"date\":\"2017-12-03\"}],\"division_name\":\"Skeena-Queen Charlotte\",\"latitude\":54.2370102,\"longitude\":-129.8373263,\"province_id\":59,\"province_name\":\"British Columbia \\\\/ Colombie-Britannique\"},\"5949\":{\"data\":[{\"sleeping\":0.0,\"sedentary_behavior\":0.0,\"num_tweets\":20.0,\"physical_activity\":0.0,\"date\":\"2017-11-05\"},{\"sleeping\":0.0,\"sedentary_behavior\":0.0,\"num_tweets\":1645.0,\"physical_activity\":0.0,\"date\":\"2017-11-19\"},{\"sleeping\":0.0,\"sedentary_behavior\":12.0,\"num_tweets\":4480.0,\"physical_activity\":4.0,\"date\":\"2017-11-26\"},{\"sleeping\":0.0,\"sedentary_behavior\":16.0,\"num_tweets\":2289.0,\"physical_activity\":2.0,\"date\":\"2017-12-03\"},{\"sleeping\":0.0,\"sedentary_behavior\":0.0,\"num_tweets\":590.0,\"physical_activity\":5.0,\"date\":\"2017-12-10\"}],\"division_name\":\"Kitimat-Stikine\",\"latitude\":54.017452,\"longitude\":-128.688354,\"province_id\":59,\"province_name\":\"British Columbia \\\\/ Colombie-Britannique\"},\"5951\":{\"data\":[{\"sleeping\":0.0,\"sedentary_behavior\":0.0,\"num_tweets\":54.0,\"physical_activity\":0.0,\"date\":\"2017-11-19\"},{\"sleeping\":0.0,\"sedentary_behavior\":19.0,\"num_tweets\":154.0,\"physical_activity\":4.0,\"date\":\"2017-11-26\"},{\"sleeping\":0.0,\"sedentary_behavior\":18.0,\"num_tweets\":127.0,\"physical_activity\":14.0,\"date\":\"2017-12-03\"},{\"sleeping\":0.0,\"sedentary_behavior\":0.0,\"num_tweets\":16.0,\"physical_activity\":0.0,\"date\":\"2017-12-10\"}],\"division_name\":\"Bulkley-Nechako\",\"latitude\":54.4921242,\"longitude\":-125.8092307114,\"province_id\":59,\"province_name\":\"British Columbia \\\\/ Colombie-Britannique\"},\"5953\":{\"data\":[{\"sleeping\":0.0,\"sedentary_behavior\":4.0,\"num_tweets\":16.0,\"physical_activity\":0.0,\"date\":\"2017-11-19\"},{\"sleeping\":0.0,\"sedentary_behavior\":8.0,\"num_tweets\":52.0,\"physical_activity\":0.0,\"date\":\"2017-11-26\"},{\"sleeping\":0.0,\"sedentary_behavior\":0.0,\"num_tweets\":12.0,\"physical_activity\":0.0,\"date\":\"2017-12-03\"},{\"sleeping\":0.0,\"sedentary_behavior\":0.0,\"num_tweets\":4.0,\"physical_activity\":0.0,\"date\":\"2017-12-10\"}],\"division_name\":\"Fraser-Fort George\",\"latitude\":null,\"longitude\":null,\"province_id\":59,\"province_name\":\"British Columbia \\\\/ Colombie-Britannique\"},\"5955\":{\"data\":[{\"sleeping\":0.0,\"sedentary_behavior\":24.0,\"num_tweets\":142.0,\"physical_activity\":12.0,\"date\":\"2017-11-19\"},{\"sleeping\":0.0,\"sedentary_behavior\":30.0,\"num_tweets\":279.0,\"physical_activity\":12.0,\"date\":\"2017-11-26\"},{\"sleeping\":0.0,\"sedentary_behavior\":17.0,\"num_tweets\":132.0,\"physical_activity\":4.0,\"date\":\"2017-12-03\"},{\"sleeping\":0.0,\"sedentary_behavior\":8.0,\"num_tweets\":16.0,\"physical_activity\":0.0,\"date\":\"2017-12-10\"}],\"division_name\":\"Peace River\",\"latitude\":55.9828406,\"longitude\":-121.9947387,\"province_id\":59,\"province_name\":\"British Columbia \\\\/ Colombie-Britannique\"},\"5957\":{\"data\":[{\"sleeping\":0.0,\"sedentary_behavior\":0.0,\"num_tweets\":2.0,\"physical_activity\":0.0,\"date\":\"2017-11-19\"},{\"sleeping\":0.0,\"sedentary_behavior\":0.0,\"num_tweets\":2.0,\"physical_activity\":0.0,\"date\":\"2017-11-26\"}],\"division_name\":\"Stikine\",\"latitude\":58.000891,\"longitude\":-127.9373744271,\"province_id\":59,\"province_name\":\"British Columbia \\\\/ Colombie-Britannique\"},\"5959\":{\"data\":[{\"sleeping\":0.0,\"sedentary_behavior\":0.0,\"num_tweets\":60.0,\"physical_activity\":0.0,\"date\":\"2017-11-19\"},{\"sleeping\":0.0,\"sedentary_behavior\":5.0,\"num_tweets\":155.0,\"physical_activity\":0.0,\"date\":\"2017-11-26\"},{\"sleeping\":0.0,\"sedentary_behavior\":0.0,\"num_tweets\":78.0,\"physical_activity\":0.0,\"date\":\"2017-12-03\"},{\"sleeping\":0.0,\"sedentary_behavior\":0.0,\"num_tweets\":16.0,\"physical_activity\":0.0,\"date\":\"2017-12-10\"}],\"division_name\":\"Northern Rockies\",\"latitude\":59.00140165,\"longitude\":-123.4714986738,\"province_id\":59,\"province_name\":\"British Columbia \\\\/ Colombie-Britannique\"},\"6001\":{\"data\":[{\"sleeping\":0.0,\"sedentary_behavior\":0.0,\"num_tweets\":26.0,\"physical_activity\":0.0,\"date\":\"2017-11-19\"},{\"sleeping\":0.0,\"sedentary_behavior\":6.0,\"num_tweets\":126.0,\"physical_activity\":0.0,\"date\":\"2017-11-26\"},{\"sleeping\":0.0,\"sedentary_behavior\":0.0,\"num_tweets\":38.0,\"physical_activity\":0.0,\"date\":\"2017-12-03\"},{\"sleeping\":0.0,\"sedentary_behavior\":0.0,\"num_tweets\":4.0,\"physical_activity\":0.0,\"date\":\"2017-12-10\"}],\"division_name\":\"Yukon\",\"latitude\":33.7985579,\"longitude\":-91.4678568,\"province_id\":60,\"province_name\":\"Yukon\"},\"6101\":{\"data\":[{\"sleeping\":0.0,\"sedentary_behavior\":0.0,\"num_tweets\":36.0,\"physical_activity\":4.0,\"date\":\"2017-11-19\"},{\"sleeping\":0.0,\"sedentary_behavior\":0.0,\"num_tweets\":76.0,\"physical_activity\":0.0,\"date\":\"2017-11-26\"},{\"sleeping\":0.0,\"sedentary_behavior\":0.0,\"num_tweets\":44.0,\"physical_activity\":0.0,\"date\":\"2017-12-03\"},{\"sleeping\":0.0,\"sedentary_behavior\":0.0,\"num_tweets\":8.0,\"physical_activity\":0.0,\"date\":\"2017-12-10\"}],\"division_name\":\"Region 1\",\"latitude\":null,\"longitude\":null,\"province_id\":61,\"province_name\":\"Northwest Territories \\\\/ Territoires du Nord-Ouest\"},\"6102\":{\"data\":[{\"sleeping\":0.0,\"sedentary_behavior\":0.0,\"num_tweets\":12.0,\"physical_activity\":0.0,\"date\":\"2017-11-19\"},{\"sleeping\":0.0,\"sedentary_behavior\":0.0,\"num_tweets\":12.0,\"physical_activity\":0.0,\"date\":\"2017-11-26\"},{\"sleeping\":0.0,\"sedentary_behavior\":0.0,\"num_tweets\":6.0,\"physical_activity\":0.0,\"date\":\"2017-12-03\"}],\"division_name\":\"Region 2\",\"latitude\":null,\"longitude\":null,\"province_id\":61,\"province_name\":\"Northwest Territories \\\\/ Territoires du Nord-Ouest\"},\"6103\":{\"data\":[],\"division_name\":\"Region 3\",\"latitude\":null,\"longitude\":null,\"province_id\":61,\"province_name\":\"Northwest Territories \\\\/ Territoires du Nord-Ouest\"},\"6104\":{\"data\":[{\"sleeping\":0.0,\"sedentary_behavior\":0.0,\"num_tweets\":3.0,\"physical_activity\":0.0,\"date\":\"2017-11-19\"},{\"sleeping\":0.0,\"sedentary_behavior\":0.0,\"num_tweets\":12.0,\"physical_activity\":0.0,\"date\":\"2017-11-26\"},{\"sleeping\":0.0,\"sedentary_behavior\":0.0,\"num_tweets\":3.0,\"physical_activity\":3.0,\"date\":\"2017-12-03\"}],\"division_name\":\"Region 4\",\"latitude\":null,\"longitude\":null,\"province_id\":61,\"province_name\":\"Northwest Territories \\\\/ Territoires du Nord-Ouest\"},\"6105\":{\"data\":[{\"sleeping\":0.0,\"sedentary_behavior\":0.0,\"num_tweets\":6.0,\"physical_activity\":0.0,\"date\":\"2017-11-26\"},{\"sleeping\":0.0,\"sedentary_behavior\":3.0,\"num_tweets\":3.0,\"physical_activity\":3.0,\"date\":\"2017-12-03\"},{\"sleeping\":0.0,\"sedentary_behavior\":0.0,\"num_tweets\":6.0,\"physical_activity\":0.0,\"date\":\"2017-12-10\"}],\"division_name\":\"Region 5\",\"latitude\":null,\"longitude\":null,\"province_id\":61,\"province_name\":\"Northwest Territories \\\\/ Territoires du Nord-Ouest\"},\"6106\":{\"data\":[{\"sleeping\":0.0,\"sedentary_behavior\":0.0,\"num_tweets\":27.0,\"physical_activity\":0.0,\"date\":\"2017-11-26\"},{\"sleeping\":0.0,\"sedentary_behavior\":0.0,\"num_tweets\":18.0,\"physical_activity\":3.0,\"date\":\"2017-12-03\"},{\"sleeping\":0.0,\"sedentary_behavior\":0.0,\"num_tweets\":6.0,\"physical_activity\":0.0,\"date\":\"2017-12-10\"}],\"division_name\":\"Region 6\",\"latitude\":null,\"longitude\":null,\"province_id\":61,\"province_name\":\"Northwest Territories \\\\/ Territoires du Nord-Ouest\"},\"6204\":{\"data\":[{\"sleeping\":0.0,\"sedentary_behavior\":0.0,\"num_tweets\":72.0,\"physical_activity\":0.0,\"date\":\"2017-11-19\"},{\"sleeping\":0.0,\"sedentary_behavior\":14.0,\"num_tweets\":251.0,\"physical_activity\":0.0,\"date\":\"2017-11-26\"},{\"sleeping\":0.0,\"sedentary_behavior\":0.0,\"num_tweets\":133.0,\"physical_activity\":0.0,\"date\":\"2017-12-03\"},{\"sleeping\":0.0,\"sedentary_behavior\":0.0,\"num_tweets\":40.0,\"physical_activity\":0.0,\"date\":\"2017-12-10\"}],\"division_name\":\"Baffin\",\"latitude\":67.8593948,\"longitude\":-69.6872955544,\"province_id\":62,\"province_name\":\"Nunavut\"},\"6205\":{\"data\":[{\"sleeping\":0.0,\"sedentary_behavior\":0.0,\"num_tweets\":29.0,\"physical_activity\":0.0,\"date\":\"2017-11-26\"},{\"sleeping\":0.0,\"sedentary_behavior\":0.0,\"num_tweets\":14.0,\"physical_activity\":0.0,\"date\":\"2017-12-03\"}],\"division_name\":\"Keewatin\",\"latitude\":null,\"longitude\":null,\"province_id\":62,\"province_name\":\"Nunavut\"},\"6208\":{\"data\":[{\"sleeping\":0.0,\"sedentary_behavior\":0.0,\"num_tweets\":4.0,\"physical_activity\":0.0,\"date\":\"2017-11-05\"},{\"sleeping\":0.0,\"sedentary_behavior\":0.0,\"num_tweets\":36.0,\"physical_activity\":0.0,\"date\":\"2017-11-19\"},{\"sleeping\":0.0,\"sedentary_behavior\":8.0,\"num_tweets\":125.0,\"physical_activity\":0.0,\"date\":\"2017-11-26\"},{\"sleeping\":0.0,\"sedentary_behavior\":0.0,\"num_tweets\":36.0,\"physical_activity\":0.0,\"date\":\"2017-12-03\"},{\"sleeping\":0.0,\"sedentary_behavior\":0.0,\"num_tweets\":4.0,\"physical_activity\":0.0,\"date\":\"2017-12-10\"}],\"division_name\":\"Kitikmeot\",\"latitude\":69.11737675,\"longitude\":-105.0517760363,\"province_id\":62,\"province_name\":\"Nunavut\"}}'"
      ]
     },
     "execution_count": 354,
     "metadata": {},
     "output_type": "execute_result"
    }
   ],
   "source": [
    "pd.DataFrame(map_timeseries).to_json()"
   ]
  },
  {
   "cell_type": "code",
   "execution_count": 289,
   "metadata": {
    "collapsed": false
   },
   "outputs": [
    {
     "ename": "TypeError",
     "evalue": "key 4608 is not a string",
     "output_type": "error",
     "traceback": [
      "\u001b[0;31m---------------------------------------------------------------------------\u001b[0m",
      "\u001b[0;31mTypeError\u001b[0m                                 Traceback (most recent call last)",
      "\u001b[0;32m<ipython-input-289-e492e63c9bfc>\u001b[0m in \u001b[0;36m<module>\u001b[0;34m()\u001b[0m\n\u001b[1;32m      1\u001b[0m \u001b[0;32mwith\u001b[0m \u001b[0mopen\u001b[0m\u001b[0;34m(\u001b[0m\u001b[0;34m'./data/map_output_test.json'\u001b[0m\u001b[0;34m,\u001b[0m \u001b[0;34m'w'\u001b[0m\u001b[0;34m)\u001b[0m \u001b[0;32mas\u001b[0m \u001b[0mf\u001b[0m\u001b[0;34m:\u001b[0m\u001b[0;34m\u001b[0m\u001b[0m\n\u001b[0;32m----> 2\u001b[0;31m     \u001b[0mjson\u001b[0m\u001b[0;34m.\u001b[0m\u001b[0mdump\u001b[0m\u001b[0;34m(\u001b[0m\u001b[0mmap_json\u001b[0m\u001b[0;34m,\u001b[0m \u001b[0mf\u001b[0m\u001b[0;34m)\u001b[0m\u001b[0;34m\u001b[0m\u001b[0m\n\u001b[0m",
      "\u001b[0;32m/opt/anaconda3/lib/python3.5/json/__init__.py\u001b[0m in \u001b[0;36mdump\u001b[0;34m(obj, fp, skipkeys, ensure_ascii, check_circular, allow_nan, cls, indent, separators, default, sort_keys, **kw)\u001b[0m\n\u001b[1;32m    176\u001b[0m     \u001b[0;31m# could accelerate with writelines in some versions of Python, at\u001b[0m\u001b[0;34m\u001b[0m\u001b[0;34m\u001b[0m\u001b[0m\n\u001b[1;32m    177\u001b[0m     \u001b[0;31m# a debuggability cost\u001b[0m\u001b[0;34m\u001b[0m\u001b[0;34m\u001b[0m\u001b[0m\n\u001b[0;32m--> 178\u001b[0;31m     \u001b[0;32mfor\u001b[0m \u001b[0mchunk\u001b[0m \u001b[0;32min\u001b[0m \u001b[0miterable\u001b[0m\u001b[0;34m:\u001b[0m\u001b[0;34m\u001b[0m\u001b[0m\n\u001b[0m\u001b[1;32m    179\u001b[0m         \u001b[0mfp\u001b[0m\u001b[0;34m.\u001b[0m\u001b[0mwrite\u001b[0m\u001b[0;34m(\u001b[0m\u001b[0mchunk\u001b[0m\u001b[0;34m)\u001b[0m\u001b[0;34m\u001b[0m\u001b[0m\n\u001b[1;32m    180\u001b[0m \u001b[0;34m\u001b[0m\u001b[0m\n",
      "\u001b[0;32m/opt/anaconda3/lib/python3.5/json/encoder.py\u001b[0m in \u001b[0;36m_iterencode\u001b[0;34m(o, _current_indent_level)\u001b[0m\n\u001b[1;32m    427\u001b[0m             \u001b[0;32myield\u001b[0m \u001b[0;32mfrom\u001b[0m \u001b[0m_iterencode_list\u001b[0m\u001b[0;34m(\u001b[0m\u001b[0mo\u001b[0m\u001b[0;34m,\u001b[0m \u001b[0m_current_indent_level\u001b[0m\u001b[0;34m)\u001b[0m\u001b[0;34m\u001b[0m\u001b[0m\n\u001b[1;32m    428\u001b[0m         \u001b[0;32melif\u001b[0m \u001b[0misinstance\u001b[0m\u001b[0;34m(\u001b[0m\u001b[0mo\u001b[0m\u001b[0;34m,\u001b[0m \u001b[0mdict\u001b[0m\u001b[0;34m)\u001b[0m\u001b[0;34m:\u001b[0m\u001b[0;34m\u001b[0m\u001b[0m\n\u001b[0;32m--> 429\u001b[0;31m             \u001b[0;32myield\u001b[0m \u001b[0;32mfrom\u001b[0m \u001b[0m_iterencode_dict\u001b[0m\u001b[0;34m(\u001b[0m\u001b[0mo\u001b[0m\u001b[0;34m,\u001b[0m \u001b[0m_current_indent_level\u001b[0m\u001b[0;34m)\u001b[0m\u001b[0;34m\u001b[0m\u001b[0m\n\u001b[0m\u001b[1;32m    430\u001b[0m         \u001b[0;32melse\u001b[0m\u001b[0;34m:\u001b[0m\u001b[0;34m\u001b[0m\u001b[0m\n\u001b[1;32m    431\u001b[0m             \u001b[0;32mif\u001b[0m \u001b[0mmarkers\u001b[0m \u001b[0;32mis\u001b[0m \u001b[0;32mnot\u001b[0m \u001b[0;32mNone\u001b[0m\u001b[0;34m:\u001b[0m\u001b[0;34m\u001b[0m\u001b[0m\n",
      "\u001b[0;32m/opt/anaconda3/lib/python3.5/json/encoder.py\u001b[0m in \u001b[0;36m_iterencode_dict\u001b[0;34m(dct, _current_indent_level)\u001b[0m\n\u001b[1;32m    373\u001b[0m                 \u001b[0;32mcontinue\u001b[0m\u001b[0;34m\u001b[0m\u001b[0m\n\u001b[1;32m    374\u001b[0m             \u001b[0;32melse\u001b[0m\u001b[0;34m:\u001b[0m\u001b[0;34m\u001b[0m\u001b[0m\n\u001b[0;32m--> 375\u001b[0;31m                 \u001b[0;32mraise\u001b[0m \u001b[0mTypeError\u001b[0m\u001b[0;34m(\u001b[0m\u001b[0;34m\"key \"\u001b[0m \u001b[0;34m+\u001b[0m \u001b[0mrepr\u001b[0m\u001b[0;34m(\u001b[0m\u001b[0mkey\u001b[0m\u001b[0;34m)\u001b[0m \u001b[0;34m+\u001b[0m \u001b[0;34m\" is not a string\"\u001b[0m\u001b[0;34m)\u001b[0m\u001b[0;34m\u001b[0m\u001b[0m\n\u001b[0m\u001b[1;32m    376\u001b[0m             \u001b[0;32mif\u001b[0m \u001b[0mfirst\u001b[0m\u001b[0;34m:\u001b[0m\u001b[0;34m\u001b[0m\u001b[0m\n\u001b[1;32m    377\u001b[0m                 \u001b[0mfirst\u001b[0m \u001b[0;34m=\u001b[0m \u001b[0;32mFalse\u001b[0m\u001b[0;34m\u001b[0m\u001b[0m\n",
      "\u001b[0;31mTypeError\u001b[0m: key 4608 is not a string"
     ]
    }
   ],
   "source": [
    "with open('./data/map_output_test.json', 'w') as f:\n",
    "    json.dump(map_json, f)"
   ]
  },
  {
   "cell_type": "code",
   "execution_count": 107,
   "metadata": {
    "collapsed": false
   },
   "outputs": [],
   "source": [
    "mapcities_df.to_csv('./data/map_output_dec.csv', index=False)"
   ]
  },
  {
   "cell_type": "code",
   "execution_count": 8,
   "metadata": {
    "collapsed": true
   },
   "outputs": [],
   "source": [
    "mapcities_df = pd.read_csv('./data/map_output_timeseries.csv')"
   ]
  },
  {
   "cell_type": "code",
   "execution_count": 11,
   "metadata": {
    "collapsed": false
   },
   "outputs": [
    {
     "data": {
      "text/html": [
       "<div>\n",
       "<style>\n",
       "    .dataframe thead tr:only-child th {\n",
       "        text-align: right;\n",
       "    }\n",
       "\n",
       "    .dataframe thead th {\n",
       "        text-align: left;\n",
       "    }\n",
       "\n",
       "    .dataframe tbody tr th {\n",
       "        vertical-align: top;\n",
       "    }\n",
       "</style>\n",
       "<table border=\"1\" class=\"dataframe\">\n",
       "  <thead>\n",
       "    <tr style=\"text-align: right;\">\n",
       "      <th></th>\n",
       "      <th>province_id</th>\n",
       "      <th>province_name</th>\n",
       "      <th>division_id</th>\n",
       "      <th>division_name</th>\n",
       "      <th>latitude</th>\n",
       "      <th>longitude</th>\n",
       "      <th>num_tweets_05_11_17</th>\n",
       "      <th>num_tweets_10_12_17</th>\n",
       "      <th>num_tweets_19_11_17</th>\n",
       "      <th>num_tweets_03_12_17</th>\n",
       "      <th>...</th>\n",
       "      <th>sedentary_behavior_05_11_17</th>\n",
       "      <th>sedentary_behavior_10_12_17</th>\n",
       "      <th>sedentary_behavior_19_11_17</th>\n",
       "      <th>sedentary_behavior_03_12_17</th>\n",
       "      <th>sedentary_behavior_26_11_17</th>\n",
       "      <th>sleeping_05_11_17</th>\n",
       "      <th>sleeping_10_12_17</th>\n",
       "      <th>sleeping_19_11_17</th>\n",
       "      <th>sleeping_03_12_17</th>\n",
       "      <th>sleeping_26_11_17</th>\n",
       "    </tr>\n",
       "  </thead>\n",
       "  <tbody>\n",
       "    <tr>\n",
       "      <th>0</th>\n",
       "      <td>46</td>\n",
       "      <td>Manitoba</td>\n",
       "      <td>4609</td>\n",
       "      <td>Division No.  9</td>\n",
       "      <td>49.972422</td>\n",
       "      <td>-98.289185</td>\n",
       "      <td>0.0</td>\n",
       "      <td>21.0</td>\n",
       "      <td>59.0</td>\n",
       "      <td>52.0</td>\n",
       "      <td>...</td>\n",
       "      <td>0.0</td>\n",
       "      <td>4.0</td>\n",
       "      <td>4.0</td>\n",
       "      <td>6.0</td>\n",
       "      <td>6.0</td>\n",
       "      <td>0.0</td>\n",
       "      <td>0.0</td>\n",
       "      <td>4.0</td>\n",
       "      <td>3.0</td>\n",
       "      <td>6.0</td>\n",
       "    </tr>\n",
       "    <tr>\n",
       "      <th>1</th>\n",
       "      <td>59</td>\n",
       "      <td>British Columbia / Colombie-Britannique</td>\n",
       "      <td>5901</td>\n",
       "      <td>East Kootenay</td>\n",
       "      <td>NaN</td>\n",
       "      <td>NaN</td>\n",
       "      <td>0.0</td>\n",
       "      <td>0.0</td>\n",
       "      <td>0.0</td>\n",
       "      <td>0.0</td>\n",
       "      <td>...</td>\n",
       "      <td>0.0</td>\n",
       "      <td>0.0</td>\n",
       "      <td>0.0</td>\n",
       "      <td>0.0</td>\n",
       "      <td>0.0</td>\n",
       "      <td>0.0</td>\n",
       "      <td>0.0</td>\n",
       "      <td>0.0</td>\n",
       "      <td>0.0</td>\n",
       "      <td>0.0</td>\n",
       "    </tr>\n",
       "    <tr>\n",
       "      <th>2</th>\n",
       "      <td>59</td>\n",
       "      <td>British Columbia / Colombie-Britannique</td>\n",
       "      <td>5933</td>\n",
       "      <td>Thompson-Nicola</td>\n",
       "      <td>50.259880</td>\n",
       "      <td>-121.407011</td>\n",
       "      <td>28.0</td>\n",
       "      <td>524.0</td>\n",
       "      <td>2222.0</td>\n",
       "      <td>2559.0</td>\n",
       "      <td>...</td>\n",
       "      <td>0.0</td>\n",
       "      <td>65.0</td>\n",
       "      <td>174.0</td>\n",
       "      <td>235.0</td>\n",
       "      <td>488.0</td>\n",
       "      <td>5.0</td>\n",
       "      <td>25.0</td>\n",
       "      <td>85.0</td>\n",
       "      <td>223.0</td>\n",
       "      <td>233.0</td>\n",
       "    </tr>\n",
       "    <tr>\n",
       "      <th>3</th>\n",
       "      <td>48</td>\n",
       "      <td>Alberta</td>\n",
       "      <td>4816</td>\n",
       "      <td>Division No. 16</td>\n",
       "      <td>52.147651</td>\n",
       "      <td>-106.668096</td>\n",
       "      <td>0.0</td>\n",
       "      <td>0.0</td>\n",
       "      <td>0.0</td>\n",
       "      <td>1.0</td>\n",
       "      <td>...</td>\n",
       "      <td>0.0</td>\n",
       "      <td>0.0</td>\n",
       "      <td>0.0</td>\n",
       "      <td>0.0</td>\n",
       "      <td>0.0</td>\n",
       "      <td>0.0</td>\n",
       "      <td>0.0</td>\n",
       "      <td>0.0</td>\n",
       "      <td>0.0</td>\n",
       "      <td>0.0</td>\n",
       "    </tr>\n",
       "    <tr>\n",
       "      <th>4</th>\n",
       "      <td>59</td>\n",
       "      <td>British Columbia / Colombie-Britannique</td>\n",
       "      <td>5919</td>\n",
       "      <td>Cowichan Valley</td>\n",
       "      <td>48.811745</td>\n",
       "      <td>-123.803625</td>\n",
       "      <td>5.0</td>\n",
       "      <td>61.0</td>\n",
       "      <td>182.0</td>\n",
       "      <td>149.0</td>\n",
       "      <td>...</td>\n",
       "      <td>0.0</td>\n",
       "      <td>12.0</td>\n",
       "      <td>30.0</td>\n",
       "      <td>13.0</td>\n",
       "      <td>59.0</td>\n",
       "      <td>0.0</td>\n",
       "      <td>0.0</td>\n",
       "      <td>13.0</td>\n",
       "      <td>5.0</td>\n",
       "      <td>17.0</td>\n",
       "    </tr>\n",
       "  </tbody>\n",
       "</table>\n",
       "<p>5 rows × 26 columns</p>\n",
       "</div>"
      ],
      "text/plain": [
       "   province_id                            province_name  division_id  \\\n",
       "0           46                                 Manitoba         4609   \n",
       "1           59  British Columbia / Colombie-Britannique         5901   \n",
       "2           59  British Columbia / Colombie-Britannique         5933   \n",
       "3           48                                  Alberta         4816   \n",
       "4           59  British Columbia / Colombie-Britannique         5919   \n",
       "\n",
       "     division_name   latitude   longitude  num_tweets_05_11_17  \\\n",
       "0  Division No.  9  49.972422  -98.289185                  0.0   \n",
       "1    East Kootenay        NaN         NaN                  0.0   \n",
       "2  Thompson-Nicola  50.259880 -121.407011                 28.0   \n",
       "3  Division No. 16  52.147651 -106.668096                  0.0   \n",
       "4  Cowichan Valley  48.811745 -123.803625                  5.0   \n",
       "\n",
       "   num_tweets_10_12_17  num_tweets_19_11_17  num_tweets_03_12_17  \\\n",
       "0                 21.0                 59.0                 52.0   \n",
       "1                  0.0                  0.0                  0.0   \n",
       "2                524.0               2222.0               2559.0   \n",
       "3                  0.0                  0.0                  1.0   \n",
       "4                 61.0                182.0                149.0   \n",
       "\n",
       "         ...          sedentary_behavior_05_11_17  \\\n",
       "0        ...                                  0.0   \n",
       "1        ...                                  0.0   \n",
       "2        ...                                  0.0   \n",
       "3        ...                                  0.0   \n",
       "4        ...                                  0.0   \n",
       "\n",
       "   sedentary_behavior_10_12_17  sedentary_behavior_19_11_17  \\\n",
       "0                          4.0                          4.0   \n",
       "1                          0.0                          0.0   \n",
       "2                         65.0                        174.0   \n",
       "3                          0.0                          0.0   \n",
       "4                         12.0                         30.0   \n",
       "\n",
       "   sedentary_behavior_03_12_17  sedentary_behavior_26_11_17  \\\n",
       "0                          6.0                          6.0   \n",
       "1                          0.0                          0.0   \n",
       "2                        235.0                        488.0   \n",
       "3                          0.0                          0.0   \n",
       "4                         13.0                         59.0   \n",
       "\n",
       "   sleeping_05_11_17  sleeping_10_12_17  sleeping_19_11_17  sleeping_03_12_17  \\\n",
       "0                0.0                0.0                4.0                3.0   \n",
       "1                0.0                0.0                0.0                0.0   \n",
       "2                5.0               25.0               85.0              223.0   \n",
       "3                0.0                0.0                0.0                0.0   \n",
       "4                0.0                0.0               13.0                5.0   \n",
       "\n",
       "   sleeping_26_11_17  \n",
       "0                6.0  \n",
       "1                0.0  \n",
       "2              233.0  \n",
       "3                0.0  \n",
       "4               17.0  \n",
       "\n",
       "[5 rows x 26 columns]"
      ]
     },
     "execution_count": 11,
     "metadata": {},
     "output_type": "execute_result"
    }
   ],
   "source": [
    "mapcities_df.head()"
   ]
  },
  {
   "cell_type": "markdown",
   "metadata": {},
   "source": [
    "## Checking the highest used words"
   ]
  },
  {
   "cell_type": "code",
   "execution_count": null,
   "metadata": {
    "collapsed": false
   },
   "outputs": [],
   "source": [
    "cv = CountVectorizer()\n",
    "count_matrix = cv.fit_transform(tweets_df.text)\n",
    "\n",
    "word_count = pd.DataFrame(cv.get_feature_names(), columns=[\"word\"])\n",
    "word_count[\"count\"] = count_matrix.sum(axis=0).tolist()[0]\n",
    "word_count = word_count.sort_values(\"count\", ascending=False).reset_index(drop=True)\n",
    "word_count[:50]"
   ]
  },
  {
   "cell_type": "markdown",
   "metadata": {},
   "source": [
    "## Analysis"
   ]
  }
 ],
 "metadata": {
  "anaconda-cloud": {},
  "kernelspec": {
   "display_name": "Python [conda root]",
   "language": "python",
   "name": "conda-root-py"
  },
  "language_info": {
   "codemirror_mode": {
    "name": "ipython",
    "version": 3
   },
   "file_extension": ".py",
   "mimetype": "text/x-python",
   "name": "python",
   "nbconvert_exporter": "python",
   "pygments_lexer": "ipython3",
   "version": "3.5.4"
  }
 },
 "nbformat": 4,
 "nbformat_minor": 1
}
